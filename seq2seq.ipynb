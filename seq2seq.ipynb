{
  "cells": [
    {
      "cell_type": "markdown",
      "metadata": {
        "id": "view-in-github",
        "colab_type": "text"
      },
      "source": [
        "<a href=\"https://colab.research.google.com/github/nqa112/times-series-forecasting/blob/main/seq2seq.ipynb\" target=\"_parent\"><img src=\"https://colab.research.google.com/assets/colab-badge.svg\" alt=\"Open In Colab\"/></a>"
      ]
    },
    {
      "cell_type": "markdown",
      "metadata": {
        "id": "i50KEoCrEYER"
      },
      "source": [
        "## BASIC SETUP"
      ]
    },
    {
      "cell_type": "code",
      "execution_count": null,
      "metadata": {
        "id": "-svSrSAQEYEh"
      },
      "outputs": [],
      "source": [
        "from pathlib import Path\n",
        "import random\n",
        "import numpy as np\n",
        "import pandas as pd\n",
        "import torch\n",
        "import torch.nn as nn\n",
        "import torch.nn.functional as F\n",
        "from torch.utils.data import Dataset, DataLoader\n",
        "import torch.optim as optim"
      ]
    },
    {
      "cell_type": "code",
      "execution_count": null,
      "metadata": {
        "colab": {
          "base_uri": "https://localhost:8080/"
        },
        "id": "6LOEVvUrEYEn",
        "outputId": "c8e9659a-46ec-4b01-e8b1-f5d9343425c5"
      },
      "outputs": [
        {
          "output_type": "stream",
          "name": "stdout",
          "text": [
            "Using cpu.\n"
          ]
        }
      ],
      "source": [
        "# Set random seed\n",
        "SEED = 12\n",
        "torch.manual_seed(SEED)\n",
        "np.random.seed(SEED)\n",
        "# Device configuration\n",
        "device = torch.device('cuda' if torch.cuda.is_available() else 'cpu')\n",
        "print(f\"Using {device}.\")"
      ]
    },
    {
      "cell_type": "code",
      "execution_count": null,
      "metadata": {
        "id": "Wk-u4xeREYEr"
      },
      "outputs": [],
      "source": [
        "import matplotlib.pyplot as plt\n",
        "from matplotlib import rcParams\n",
        "from cycler import cycler\n",
        "\n",
        "# Box\n",
        "rcParams['axes.spines.top'] = False\n",
        "rcParams['axes.spines.left'] = False\n",
        "rcParams['axes.spines.right'] = False\n",
        "rcParams['axes.prop_cycle'] = cycler(color=['navy','goldenrod'])\n",
        "\n",
        "# Grid and axis thickness, color\n",
        "rcParams['axes.linewidth'] = 1\n",
        "rcParams['axes.edgecolor'] = 'grey'\n",
        "rcParams['axes.ymargin'] = 0\n",
        "rcParams['axes.grid'] = True\n",
        "rcParams['axes.grid.axis'] = 'y'\n",
        "rcParams['axes.axisbelow'] = True\n",
        "rcParams['grid.color'] = 'grey'\n",
        "rcParams['grid.linewidth'] = 0.5\n",
        "rcParams['grid.linestyle'] = \"--\"\n",
        "\n",
        "# xticks, yticks\n",
        "rcParams['ytick.major.width'] = 0\n",
        "rcParams['ytick.major.size'] = 0\n",
        "rcParams['ytick.color'] = 'dimgrey'\n",
        "rcParams['xtick.major.width'] = 1\n",
        "rcParams['xtick.major.size'] = 3\n",
        "rcParams['xtick.color'] = 'dimgrey'\n",
        "\n",
        "# Line thickness\n",
        "rcParams['lines.linewidth'] = 1.3\n",
        "\n",
        "# Saving quality\n",
        "rcParams['savefig.bbox'] = 'tight'\n",
        "rcParams['savefig.dpi'] = 500\n",
        "rcParams['savefig.transparent'] = True"
      ]
    },
    {
      "cell_type": "markdown",
      "metadata": {
        "id": "VpFc3rMTEYEu"
      },
      "source": [
        "## LOAD DATA"
      ]
    },
    {
      "cell_type": "code",
      "execution_count": null,
      "metadata": {
        "id": "Yii1kZw1EYEv"
      },
      "outputs": [],
      "source": [
        "csv_path = Path(\"BVData.csv\")\n",
        "df = pd.read_csv(csv_path)\n",
        "\n",
        "# Convert into a DateTime type\n",
        "df[\"DateTime\"] = pd.to_datetime(df[\"DateTime\"], format=\"%Y-%m-%d %H:%M\")\n",
        "# Remove redundant features\n",
        "df = df.drop(columns=[\"Date\", \"Time\", \"Month\"])"
      ]
    },
    {
      "cell_type": "code",
      "execution_count": null,
      "metadata": {
        "colab": {
          "base_uri": "https://localhost:8080/",
          "height": 236
        },
        "id": "8RhgjyVHEYEy",
        "outputId": "21a51be9-f41a-454c-c70e-1ca5515c13b2"
      },
      "outputs": [
        {
          "output_type": "execute_result",
          "data": {
            "text/plain": [
              "             DateTime    1    2    3    4    5    6    7    8    9  ...   13  \\\n",
              "0 2020-01-01 00:00:00  0.2  0.0  0.0  0.0  0.0  0.0  0.0  0.0  0.2  ...  0.0   \n",
              "1 2020-01-01 01:00:00  0.2  0.0  0.0  0.0  0.0  0.0  0.0  0.0  0.0  ...  0.0   \n",
              "2 2020-01-01 02:00:00  0.6  0.0  0.0  0.0  0.2  0.2  0.0  0.0  0.2  ...  0.0   \n",
              "3 2020-01-01 03:00:00  0.6  0.0  0.0  0.0  0.6  0.2  0.0  0.0  0.0  ...  0.0   \n",
              "4 2020-01-01 04:00:00  0.4  0.0  0.0  0.0  0.8  0.2  0.0  0.0  0.0  ...  0.0   \n",
              "\n",
              "    14   15   16   17   18   19   20   21    QV  \n",
              "0  0.0  0.0  0.0  0.0  0.0  0.0  0.0  0.0  31.0  \n",
              "1  0.0  0.0  0.0  0.0  0.0  0.0  0.0  0.0  31.0  \n",
              "2  0.0  0.0  0.0  0.0  0.0  0.0  0.0  0.0  31.0  \n",
              "3  0.0  0.0  0.0  0.0  0.0  0.0  0.0  0.0  31.0  \n",
              "4  0.0  0.0  0.0  0.0  0.0  0.0  0.0  0.0  31.0  \n",
              "\n",
              "[5 rows x 23 columns]"
            ],
            "text/html": [
              "\n",
              "\n",
              "  <div id=\"df-5f6fbc0c-8ad7-4344-ae8a-eae039e01654\">\n",
              "    <div class=\"colab-df-container\">\n",
              "      <div>\n",
              "<style scoped>\n",
              "    .dataframe tbody tr th:only-of-type {\n",
              "        vertical-align: middle;\n",
              "    }\n",
              "\n",
              "    .dataframe tbody tr th {\n",
              "        vertical-align: top;\n",
              "    }\n",
              "\n",
              "    .dataframe thead th {\n",
              "        text-align: right;\n",
              "    }\n",
              "</style>\n",
              "<table border=\"1\" class=\"dataframe\">\n",
              "  <thead>\n",
              "    <tr style=\"text-align: right;\">\n",
              "      <th></th>\n",
              "      <th>DateTime</th>\n",
              "      <th>1</th>\n",
              "      <th>2</th>\n",
              "      <th>3</th>\n",
              "      <th>4</th>\n",
              "      <th>5</th>\n",
              "      <th>6</th>\n",
              "      <th>7</th>\n",
              "      <th>8</th>\n",
              "      <th>9</th>\n",
              "      <th>...</th>\n",
              "      <th>13</th>\n",
              "      <th>14</th>\n",
              "      <th>15</th>\n",
              "      <th>16</th>\n",
              "      <th>17</th>\n",
              "      <th>18</th>\n",
              "      <th>19</th>\n",
              "      <th>20</th>\n",
              "      <th>21</th>\n",
              "      <th>QV</th>\n",
              "    </tr>\n",
              "  </thead>\n",
              "  <tbody>\n",
              "    <tr>\n",
              "      <th>0</th>\n",
              "      <td>2020-01-01 00:00:00</td>\n",
              "      <td>0.2</td>\n",
              "      <td>0.0</td>\n",
              "      <td>0.0</td>\n",
              "      <td>0.0</td>\n",
              "      <td>0.0</td>\n",
              "      <td>0.0</td>\n",
              "      <td>0.0</td>\n",
              "      <td>0.0</td>\n",
              "      <td>0.2</td>\n",
              "      <td>...</td>\n",
              "      <td>0.0</td>\n",
              "      <td>0.0</td>\n",
              "      <td>0.0</td>\n",
              "      <td>0.0</td>\n",
              "      <td>0.0</td>\n",
              "      <td>0.0</td>\n",
              "      <td>0.0</td>\n",
              "      <td>0.0</td>\n",
              "      <td>0.0</td>\n",
              "      <td>31.0</td>\n",
              "    </tr>\n",
              "    <tr>\n",
              "      <th>1</th>\n",
              "      <td>2020-01-01 01:00:00</td>\n",
              "      <td>0.2</td>\n",
              "      <td>0.0</td>\n",
              "      <td>0.0</td>\n",
              "      <td>0.0</td>\n",
              "      <td>0.0</td>\n",
              "      <td>0.0</td>\n",
              "      <td>0.0</td>\n",
              "      <td>0.0</td>\n",
              "      <td>0.0</td>\n",
              "      <td>...</td>\n",
              "      <td>0.0</td>\n",
              "      <td>0.0</td>\n",
              "      <td>0.0</td>\n",
              "      <td>0.0</td>\n",
              "      <td>0.0</td>\n",
              "      <td>0.0</td>\n",
              "      <td>0.0</td>\n",
              "      <td>0.0</td>\n",
              "      <td>0.0</td>\n",
              "      <td>31.0</td>\n",
              "    </tr>\n",
              "    <tr>\n",
              "      <th>2</th>\n",
              "      <td>2020-01-01 02:00:00</td>\n",
              "      <td>0.6</td>\n",
              "      <td>0.0</td>\n",
              "      <td>0.0</td>\n",
              "      <td>0.0</td>\n",
              "      <td>0.2</td>\n",
              "      <td>0.2</td>\n",
              "      <td>0.0</td>\n",
              "      <td>0.0</td>\n",
              "      <td>0.2</td>\n",
              "      <td>...</td>\n",
              "      <td>0.0</td>\n",
              "      <td>0.0</td>\n",
              "      <td>0.0</td>\n",
              "      <td>0.0</td>\n",
              "      <td>0.0</td>\n",
              "      <td>0.0</td>\n",
              "      <td>0.0</td>\n",
              "      <td>0.0</td>\n",
              "      <td>0.0</td>\n",
              "      <td>31.0</td>\n",
              "    </tr>\n",
              "    <tr>\n",
              "      <th>3</th>\n",
              "      <td>2020-01-01 03:00:00</td>\n",
              "      <td>0.6</td>\n",
              "      <td>0.0</td>\n",
              "      <td>0.0</td>\n",
              "      <td>0.0</td>\n",
              "      <td>0.6</td>\n",
              "      <td>0.2</td>\n",
              "      <td>0.0</td>\n",
              "      <td>0.0</td>\n",
              "      <td>0.0</td>\n",
              "      <td>...</td>\n",
              "      <td>0.0</td>\n",
              "      <td>0.0</td>\n",
              "      <td>0.0</td>\n",
              "      <td>0.0</td>\n",
              "      <td>0.0</td>\n",
              "      <td>0.0</td>\n",
              "      <td>0.0</td>\n",
              "      <td>0.0</td>\n",
              "      <td>0.0</td>\n",
              "      <td>31.0</td>\n",
              "    </tr>\n",
              "    <tr>\n",
              "      <th>4</th>\n",
              "      <td>2020-01-01 04:00:00</td>\n",
              "      <td>0.4</td>\n",
              "      <td>0.0</td>\n",
              "      <td>0.0</td>\n",
              "      <td>0.0</td>\n",
              "      <td>0.8</td>\n",
              "      <td>0.2</td>\n",
              "      <td>0.0</td>\n",
              "      <td>0.0</td>\n",
              "      <td>0.0</td>\n",
              "      <td>...</td>\n",
              "      <td>0.0</td>\n",
              "      <td>0.0</td>\n",
              "      <td>0.0</td>\n",
              "      <td>0.0</td>\n",
              "      <td>0.0</td>\n",
              "      <td>0.0</td>\n",
              "      <td>0.0</td>\n",
              "      <td>0.0</td>\n",
              "      <td>0.0</td>\n",
              "      <td>31.0</td>\n",
              "    </tr>\n",
              "  </tbody>\n",
              "</table>\n",
              "<p>5 rows × 23 columns</p>\n",
              "</div>\n",
              "      <button class=\"colab-df-convert\" onclick=\"convertToInteractive('df-5f6fbc0c-8ad7-4344-ae8a-eae039e01654')\"\n",
              "              title=\"Convert this dataframe to an interactive table.\"\n",
              "              style=\"display:none;\">\n",
              "\n",
              "  <svg xmlns=\"http://www.w3.org/2000/svg\" height=\"24px\"viewBox=\"0 0 24 24\"\n",
              "       width=\"24px\">\n",
              "    <path d=\"M0 0h24v24H0V0z\" fill=\"none\"/>\n",
              "    <path d=\"M18.56 5.44l.94 2.06.94-2.06 2.06-.94-2.06-.94-.94-2.06-.94 2.06-2.06.94zm-11 1L8.5 8.5l.94-2.06 2.06-.94-2.06-.94L8.5 2.5l-.94 2.06-2.06.94zm10 10l.94 2.06.94-2.06 2.06-.94-2.06-.94-.94-2.06-.94 2.06-2.06.94z\"/><path d=\"M17.41 7.96l-1.37-1.37c-.4-.4-.92-.59-1.43-.59-.52 0-1.04.2-1.43.59L10.3 9.45l-7.72 7.72c-.78.78-.78 2.05 0 2.83L4 21.41c.39.39.9.59 1.41.59.51 0 1.02-.2 1.41-.59l7.78-7.78 2.81-2.81c.8-.78.8-2.07 0-2.86zM5.41 20L4 18.59l7.72-7.72 1.47 1.35L5.41 20z\"/>\n",
              "  </svg>\n",
              "      </button>\n",
              "\n",
              "\n",
              "\n",
              "    <div id=\"df-069d0aa4-150a-45e3-86c1-5c1f5867d686\">\n",
              "      <button class=\"colab-df-quickchart\" onclick=\"quickchart('df-069d0aa4-150a-45e3-86c1-5c1f5867d686')\"\n",
              "              title=\"Suggest charts.\"\n",
              "              style=\"display:none;\">\n",
              "\n",
              "<svg xmlns=\"http://www.w3.org/2000/svg\" height=\"24px\"viewBox=\"0 0 24 24\"\n",
              "     width=\"24px\">\n",
              "    <g>\n",
              "        <path d=\"M19 3H5c-1.1 0-2 .9-2 2v14c0 1.1.9 2 2 2h14c1.1 0 2-.9 2-2V5c0-1.1-.9-2-2-2zM9 17H7v-7h2v7zm4 0h-2V7h2v10zm4 0h-2v-4h2v4z\"/>\n",
              "    </g>\n",
              "</svg>\n",
              "      </button>\n",
              "    </div>\n",
              "\n",
              "<style>\n",
              "  .colab-df-quickchart {\n",
              "    background-color: #E8F0FE;\n",
              "    border: none;\n",
              "    border-radius: 50%;\n",
              "    cursor: pointer;\n",
              "    display: none;\n",
              "    fill: #1967D2;\n",
              "    height: 32px;\n",
              "    padding: 0 0 0 0;\n",
              "    width: 32px;\n",
              "  }\n",
              "\n",
              "  .colab-df-quickchart:hover {\n",
              "    background-color: #E2EBFA;\n",
              "    box-shadow: 0px 1px 2px rgba(60, 64, 67, 0.3), 0px 1px 3px 1px rgba(60, 64, 67, 0.15);\n",
              "    fill: #174EA6;\n",
              "  }\n",
              "\n",
              "  [theme=dark] .colab-df-quickchart {\n",
              "    background-color: #3B4455;\n",
              "    fill: #D2E3FC;\n",
              "  }\n",
              "\n",
              "  [theme=dark] .colab-df-quickchart:hover {\n",
              "    background-color: #434B5C;\n",
              "    box-shadow: 0px 1px 3px 1px rgba(0, 0, 0, 0.15);\n",
              "    filter: drop-shadow(0px 1px 2px rgba(0, 0, 0, 0.3));\n",
              "    fill: #FFFFFF;\n",
              "  }\n",
              "</style>\n",
              "\n",
              "    <script>\n",
              "      async function quickchart(key) {\n",
              "        const containerElement = document.querySelector('#' + key);\n",
              "        const charts = await google.colab.kernel.invokeFunction(\n",
              "            'suggestCharts', [key], {});\n",
              "      }\n",
              "    </script>\n",
              "\n",
              "      <script>\n",
              "\n",
              "function displayQuickchartButton(domScope) {\n",
              "  let quickchartButtonEl =\n",
              "    domScope.querySelector('#df-069d0aa4-150a-45e3-86c1-5c1f5867d686 button.colab-df-quickchart');\n",
              "  quickchartButtonEl.style.display =\n",
              "    google.colab.kernel.accessAllowed ? 'block' : 'none';\n",
              "}\n",
              "\n",
              "        displayQuickchartButton(document);\n",
              "      </script>\n",
              "      <style>\n",
              "    .colab-df-container {\n",
              "      display:flex;\n",
              "      flex-wrap:wrap;\n",
              "      gap: 12px;\n",
              "    }\n",
              "\n",
              "    .colab-df-convert {\n",
              "      background-color: #E8F0FE;\n",
              "      border: none;\n",
              "      border-radius: 50%;\n",
              "      cursor: pointer;\n",
              "      display: none;\n",
              "      fill: #1967D2;\n",
              "      height: 32px;\n",
              "      padding: 0 0 0 0;\n",
              "      width: 32px;\n",
              "    }\n",
              "\n",
              "    .colab-df-convert:hover {\n",
              "      background-color: #E2EBFA;\n",
              "      box-shadow: 0px 1px 2px rgba(60, 64, 67, 0.3), 0px 1px 3px 1px rgba(60, 64, 67, 0.15);\n",
              "      fill: #174EA6;\n",
              "    }\n",
              "\n",
              "    [theme=dark] .colab-df-convert {\n",
              "      background-color: #3B4455;\n",
              "      fill: #D2E3FC;\n",
              "    }\n",
              "\n",
              "    [theme=dark] .colab-df-convert:hover {\n",
              "      background-color: #434B5C;\n",
              "      box-shadow: 0px 1px 3px 1px rgba(0, 0, 0, 0.15);\n",
              "      filter: drop-shadow(0px 1px 2px rgba(0, 0, 0, 0.3));\n",
              "      fill: #FFFFFF;\n",
              "    }\n",
              "  </style>\n",
              "\n",
              "      <script>\n",
              "        const buttonEl =\n",
              "          document.querySelector('#df-5f6fbc0c-8ad7-4344-ae8a-eae039e01654 button.colab-df-convert');\n",
              "        buttonEl.style.display =\n",
              "          google.colab.kernel.accessAllowed ? 'block' : 'none';\n",
              "\n",
              "        async function convertToInteractive(key) {\n",
              "          const element = document.querySelector('#df-5f6fbc0c-8ad7-4344-ae8a-eae039e01654');\n",
              "          const dataTable =\n",
              "            await google.colab.kernel.invokeFunction('convertToInteractive',\n",
              "                                                     [key], {});\n",
              "          if (!dataTable) return;\n",
              "\n",
              "          const docLinkHtml = 'Like what you see? Visit the ' +\n",
              "            '<a target=\"_blank\" href=https://colab.research.google.com/notebooks/data_table.ipynb>data table notebook</a>'\n",
              "            + ' to learn more about interactive tables.';\n",
              "          element.innerHTML = '';\n",
              "          dataTable['output_type'] = 'display_data';\n",
              "          await google.colab.output.renderOutput(dataTable, element);\n",
              "          const docLink = document.createElement('div');\n",
              "          docLink.innerHTML = docLinkHtml;\n",
              "          element.appendChild(docLink);\n",
              "        }\n",
              "      </script>\n",
              "    </div>\n",
              "  </div>\n"
            ]
          },
          "metadata": {},
          "execution_count": 5
        }
      ],
      "source": [
        "df.head()"
      ]
    },
    {
      "cell_type": "code",
      "execution_count": null,
      "metadata": {
        "colab": {
          "base_uri": "https://localhost:8080/"
        },
        "id": "S9SzVPLREYE1",
        "outputId": "c48427d8-1092-4c69-b4af-8465ded92ed0"
      },
      "outputs": [
        {
          "output_type": "stream",
          "name": "stdout",
          "text": [
            "<class 'pandas.core.frame.DataFrame'>\n",
            "RangeIndex: 21888 entries, 0 to 21887\n",
            "Data columns (total 23 columns):\n",
            " #   Column    Non-Null Count  Dtype         \n",
            "---  ------    --------------  -----         \n",
            " 0   DateTime  21888 non-null  datetime64[ns]\n",
            " 1   1         21888 non-null  float64       \n",
            " 2   2         21888 non-null  float64       \n",
            " 3   3         21888 non-null  float64       \n",
            " 4   4         21888 non-null  float64       \n",
            " 5   5         21888 non-null  float64       \n",
            " 6   6         21888 non-null  float64       \n",
            " 7   7         21888 non-null  float64       \n",
            " 8   8         21888 non-null  float64       \n",
            " 9   9         21888 non-null  float64       \n",
            " 10  10        21888 non-null  float64       \n",
            " 11  11        21888 non-null  float64       \n",
            " 12  12        21888 non-null  float64       \n",
            " 13  13        21888 non-null  float64       \n",
            " 14  14        21888 non-null  float64       \n",
            " 15  15        21888 non-null  float64       \n",
            " 16  16        21888 non-null  float64       \n",
            " 17  17        21888 non-null  float64       \n",
            " 18  18        21888 non-null  float64       \n",
            " 19  19        21888 non-null  float64       \n",
            " 20  20        21888 non-null  float64       \n",
            " 21  21        21888 non-null  float64       \n",
            " 22  QV        21888 non-null  float64       \n",
            "dtypes: datetime64[ns](1), float64(22)\n",
            "memory usage: 3.8 MB\n"
          ]
        }
      ],
      "source": [
        "df.info()"
      ]
    },
    {
      "cell_type": "markdown",
      "metadata": {
        "id": "IJUwVJiVEYE3"
      },
      "source": [
        "## DATA PREPROCESSING"
      ]
    },
    {
      "cell_type": "markdown",
      "metadata": {
        "id": "2pULsZcSEYE5"
      },
      "source": [
        "### Feature engineering"
      ]
    },
    {
      "cell_type": "markdown",
      "metadata": {
        "id": "YJQ5XND8EYE7"
      },
      "source": [
        "#### Date related features"
      ]
    },
    {
      "cell_type": "code",
      "execution_count": null,
      "metadata": {
        "id": "yHwDi32OEYE7"
      },
      "outputs": [],
      "source": [
        "# Day in a month\n",
        "df[\"Day_of_month\"] = df.DateTime.apply(lambda x: x.day)\n",
        "# Day in a week\n",
        "df[\"Day_of_week\"] = df.DateTime.apply(lambda x: x.dayofweek)\n",
        "# 24-hour based\n",
        "df[\"Hour\"] = df.DateTime.apply(lambda x: x.hour)\n",
        "# Week in a year\n",
        "df[\"Week\"] = df.DateTime.apply(lambda x: x.week)\n",
        "# Month in a year\n",
        "df[\"Month\"] = df.DateTime.apply(lambda x: x.month)"
      ]
    },
    {
      "cell_type": "code",
      "source": [
        "# Set \"DateTime\" column as row index\n",
        "df = df.set_index(\"DateTime\")"
      ],
      "metadata": {
        "id": "JdWC6Qdc5g2m"
      },
      "execution_count": null,
      "outputs": []
    },
    {
      "cell_type": "code",
      "execution_count": null,
      "metadata": {
        "id": "rMfvD59eEYE9",
        "colab": {
          "base_uri": "https://localhost:8080/",
          "height": 267
        },
        "outputId": "4ac7b3d5-e7d6-460d-ead5-2375ef1a6404"
      },
      "outputs": [
        {
          "output_type": "execute_result",
          "data": {
            "text/plain": [
              "                       1    2    3    4    5    6    7    8    9   10  ...  \\\n",
              "DateTime                                                               ...   \n",
              "2020-01-01 00:00:00  0.2  0.0  0.0  0.0  0.0  0.0  0.0  0.0  0.2  0.0  ...   \n",
              "2020-01-01 01:00:00  0.2  0.0  0.0  0.0  0.0  0.0  0.0  0.0  0.0  0.0  ...   \n",
              "2020-01-01 02:00:00  0.6  0.0  0.0  0.0  0.2  0.2  0.0  0.0  0.2  0.0  ...   \n",
              "2020-01-01 03:00:00  0.6  0.0  0.0  0.0  0.6  0.2  0.0  0.0  0.0  0.0  ...   \n",
              "2020-01-01 04:00:00  0.4  0.0  0.0  0.0  0.8  0.2  0.0  0.0  0.0  0.0  ...   \n",
              "\n",
              "                      18   19   20   21  Day_of_month  Day_of_week  Hour  \\\n",
              "DateTime                                                                   \n",
              "2020-01-01 00:00:00  0.0  0.0  0.0  0.0             1            2     0   \n",
              "2020-01-01 01:00:00  0.0  0.0  0.0  0.0             1            2     1   \n",
              "2020-01-01 02:00:00  0.0  0.0  0.0  0.0             1            2     2   \n",
              "2020-01-01 03:00:00  0.0  0.0  0.0  0.0             1            2     3   \n",
              "2020-01-01 04:00:00  0.0  0.0  0.0  0.0             1            2     4   \n",
              "\n",
              "                     Week  Month    QV  \n",
              "DateTime                                \n",
              "2020-01-01 00:00:00     1      1  31.0  \n",
              "2020-01-01 01:00:00     1      1  31.0  \n",
              "2020-01-01 02:00:00     1      1  31.0  \n",
              "2020-01-01 03:00:00     1      1  31.0  \n",
              "2020-01-01 04:00:00     1      1  31.0  \n",
              "\n",
              "[5 rows x 27 columns]"
            ],
            "text/html": [
              "\n",
              "\n",
              "  <div id=\"df-08180cea-c21c-4cc4-8718-8032c64f548f\">\n",
              "    <div class=\"colab-df-container\">\n",
              "      <div>\n",
              "<style scoped>\n",
              "    .dataframe tbody tr th:only-of-type {\n",
              "        vertical-align: middle;\n",
              "    }\n",
              "\n",
              "    .dataframe tbody tr th {\n",
              "        vertical-align: top;\n",
              "    }\n",
              "\n",
              "    .dataframe thead th {\n",
              "        text-align: right;\n",
              "    }\n",
              "</style>\n",
              "<table border=\"1\" class=\"dataframe\">\n",
              "  <thead>\n",
              "    <tr style=\"text-align: right;\">\n",
              "      <th></th>\n",
              "      <th>1</th>\n",
              "      <th>2</th>\n",
              "      <th>3</th>\n",
              "      <th>4</th>\n",
              "      <th>5</th>\n",
              "      <th>6</th>\n",
              "      <th>7</th>\n",
              "      <th>8</th>\n",
              "      <th>9</th>\n",
              "      <th>10</th>\n",
              "      <th>...</th>\n",
              "      <th>18</th>\n",
              "      <th>19</th>\n",
              "      <th>20</th>\n",
              "      <th>21</th>\n",
              "      <th>Day_of_month</th>\n",
              "      <th>Day_of_week</th>\n",
              "      <th>Hour</th>\n",
              "      <th>Week</th>\n",
              "      <th>Month</th>\n",
              "      <th>QV</th>\n",
              "    </tr>\n",
              "    <tr>\n",
              "      <th>DateTime</th>\n",
              "      <th></th>\n",
              "      <th></th>\n",
              "      <th></th>\n",
              "      <th></th>\n",
              "      <th></th>\n",
              "      <th></th>\n",
              "      <th></th>\n",
              "      <th></th>\n",
              "      <th></th>\n",
              "      <th></th>\n",
              "      <th></th>\n",
              "      <th></th>\n",
              "      <th></th>\n",
              "      <th></th>\n",
              "      <th></th>\n",
              "      <th></th>\n",
              "      <th></th>\n",
              "      <th></th>\n",
              "      <th></th>\n",
              "      <th></th>\n",
              "      <th></th>\n",
              "    </tr>\n",
              "  </thead>\n",
              "  <tbody>\n",
              "    <tr>\n",
              "      <th>2020-01-01 00:00:00</th>\n",
              "      <td>0.2</td>\n",
              "      <td>0.0</td>\n",
              "      <td>0.0</td>\n",
              "      <td>0.0</td>\n",
              "      <td>0.0</td>\n",
              "      <td>0.0</td>\n",
              "      <td>0.0</td>\n",
              "      <td>0.0</td>\n",
              "      <td>0.2</td>\n",
              "      <td>0.0</td>\n",
              "      <td>...</td>\n",
              "      <td>0.0</td>\n",
              "      <td>0.0</td>\n",
              "      <td>0.0</td>\n",
              "      <td>0.0</td>\n",
              "      <td>1</td>\n",
              "      <td>2</td>\n",
              "      <td>0</td>\n",
              "      <td>1</td>\n",
              "      <td>1</td>\n",
              "      <td>31.0</td>\n",
              "    </tr>\n",
              "    <tr>\n",
              "      <th>2020-01-01 01:00:00</th>\n",
              "      <td>0.2</td>\n",
              "      <td>0.0</td>\n",
              "      <td>0.0</td>\n",
              "      <td>0.0</td>\n",
              "      <td>0.0</td>\n",
              "      <td>0.0</td>\n",
              "      <td>0.0</td>\n",
              "      <td>0.0</td>\n",
              "      <td>0.0</td>\n",
              "      <td>0.0</td>\n",
              "      <td>...</td>\n",
              "      <td>0.0</td>\n",
              "      <td>0.0</td>\n",
              "      <td>0.0</td>\n",
              "      <td>0.0</td>\n",
              "      <td>1</td>\n",
              "      <td>2</td>\n",
              "      <td>1</td>\n",
              "      <td>1</td>\n",
              "      <td>1</td>\n",
              "      <td>31.0</td>\n",
              "    </tr>\n",
              "    <tr>\n",
              "      <th>2020-01-01 02:00:00</th>\n",
              "      <td>0.6</td>\n",
              "      <td>0.0</td>\n",
              "      <td>0.0</td>\n",
              "      <td>0.0</td>\n",
              "      <td>0.2</td>\n",
              "      <td>0.2</td>\n",
              "      <td>0.0</td>\n",
              "      <td>0.0</td>\n",
              "      <td>0.2</td>\n",
              "      <td>0.0</td>\n",
              "      <td>...</td>\n",
              "      <td>0.0</td>\n",
              "      <td>0.0</td>\n",
              "      <td>0.0</td>\n",
              "      <td>0.0</td>\n",
              "      <td>1</td>\n",
              "      <td>2</td>\n",
              "      <td>2</td>\n",
              "      <td>1</td>\n",
              "      <td>1</td>\n",
              "      <td>31.0</td>\n",
              "    </tr>\n",
              "    <tr>\n",
              "      <th>2020-01-01 03:00:00</th>\n",
              "      <td>0.6</td>\n",
              "      <td>0.0</td>\n",
              "      <td>0.0</td>\n",
              "      <td>0.0</td>\n",
              "      <td>0.6</td>\n",
              "      <td>0.2</td>\n",
              "      <td>0.0</td>\n",
              "      <td>0.0</td>\n",
              "      <td>0.0</td>\n",
              "      <td>0.0</td>\n",
              "      <td>...</td>\n",
              "      <td>0.0</td>\n",
              "      <td>0.0</td>\n",
              "      <td>0.0</td>\n",
              "      <td>0.0</td>\n",
              "      <td>1</td>\n",
              "      <td>2</td>\n",
              "      <td>3</td>\n",
              "      <td>1</td>\n",
              "      <td>1</td>\n",
              "      <td>31.0</td>\n",
              "    </tr>\n",
              "    <tr>\n",
              "      <th>2020-01-01 04:00:00</th>\n",
              "      <td>0.4</td>\n",
              "      <td>0.0</td>\n",
              "      <td>0.0</td>\n",
              "      <td>0.0</td>\n",
              "      <td>0.8</td>\n",
              "      <td>0.2</td>\n",
              "      <td>0.0</td>\n",
              "      <td>0.0</td>\n",
              "      <td>0.0</td>\n",
              "      <td>0.0</td>\n",
              "      <td>...</td>\n",
              "      <td>0.0</td>\n",
              "      <td>0.0</td>\n",
              "      <td>0.0</td>\n",
              "      <td>0.0</td>\n",
              "      <td>1</td>\n",
              "      <td>2</td>\n",
              "      <td>4</td>\n",
              "      <td>1</td>\n",
              "      <td>1</td>\n",
              "      <td>31.0</td>\n",
              "    </tr>\n",
              "  </tbody>\n",
              "</table>\n",
              "<p>5 rows × 27 columns</p>\n",
              "</div>\n",
              "      <button class=\"colab-df-convert\" onclick=\"convertToInteractive('df-08180cea-c21c-4cc4-8718-8032c64f548f')\"\n",
              "              title=\"Convert this dataframe to an interactive table.\"\n",
              "              style=\"display:none;\">\n",
              "\n",
              "  <svg xmlns=\"http://www.w3.org/2000/svg\" height=\"24px\"viewBox=\"0 0 24 24\"\n",
              "       width=\"24px\">\n",
              "    <path d=\"M0 0h24v24H0V0z\" fill=\"none\"/>\n",
              "    <path d=\"M18.56 5.44l.94 2.06.94-2.06 2.06-.94-2.06-.94-.94-2.06-.94 2.06-2.06.94zm-11 1L8.5 8.5l.94-2.06 2.06-.94-2.06-.94L8.5 2.5l-.94 2.06-2.06.94zm10 10l.94 2.06.94-2.06 2.06-.94-2.06-.94-.94-2.06-.94 2.06-2.06.94z\"/><path d=\"M17.41 7.96l-1.37-1.37c-.4-.4-.92-.59-1.43-.59-.52 0-1.04.2-1.43.59L10.3 9.45l-7.72 7.72c-.78.78-.78 2.05 0 2.83L4 21.41c.39.39.9.59 1.41.59.51 0 1.02-.2 1.41-.59l7.78-7.78 2.81-2.81c.8-.78.8-2.07 0-2.86zM5.41 20L4 18.59l7.72-7.72 1.47 1.35L5.41 20z\"/>\n",
              "  </svg>\n",
              "      </button>\n",
              "\n",
              "\n",
              "\n",
              "    <div id=\"df-470c82c6-83f7-4cae-ad4e-52ae024f350d\">\n",
              "      <button class=\"colab-df-quickchart\" onclick=\"quickchart('df-470c82c6-83f7-4cae-ad4e-52ae024f350d')\"\n",
              "              title=\"Suggest charts.\"\n",
              "              style=\"display:none;\">\n",
              "\n",
              "<svg xmlns=\"http://www.w3.org/2000/svg\" height=\"24px\"viewBox=\"0 0 24 24\"\n",
              "     width=\"24px\">\n",
              "    <g>\n",
              "        <path d=\"M19 3H5c-1.1 0-2 .9-2 2v14c0 1.1.9 2 2 2h14c1.1 0 2-.9 2-2V5c0-1.1-.9-2-2-2zM9 17H7v-7h2v7zm4 0h-2V7h2v10zm4 0h-2v-4h2v4z\"/>\n",
              "    </g>\n",
              "</svg>\n",
              "      </button>\n",
              "    </div>\n",
              "\n",
              "<style>\n",
              "  .colab-df-quickchart {\n",
              "    background-color: #E8F0FE;\n",
              "    border: none;\n",
              "    border-radius: 50%;\n",
              "    cursor: pointer;\n",
              "    display: none;\n",
              "    fill: #1967D2;\n",
              "    height: 32px;\n",
              "    padding: 0 0 0 0;\n",
              "    width: 32px;\n",
              "  }\n",
              "\n",
              "  .colab-df-quickchart:hover {\n",
              "    background-color: #E2EBFA;\n",
              "    box-shadow: 0px 1px 2px rgba(60, 64, 67, 0.3), 0px 1px 3px 1px rgba(60, 64, 67, 0.15);\n",
              "    fill: #174EA6;\n",
              "  }\n",
              "\n",
              "  [theme=dark] .colab-df-quickchart {\n",
              "    background-color: #3B4455;\n",
              "    fill: #D2E3FC;\n",
              "  }\n",
              "\n",
              "  [theme=dark] .colab-df-quickchart:hover {\n",
              "    background-color: #434B5C;\n",
              "    box-shadow: 0px 1px 3px 1px rgba(0, 0, 0, 0.15);\n",
              "    filter: drop-shadow(0px 1px 2px rgba(0, 0, 0, 0.3));\n",
              "    fill: #FFFFFF;\n",
              "  }\n",
              "</style>\n",
              "\n",
              "    <script>\n",
              "      async function quickchart(key) {\n",
              "        const containerElement = document.querySelector('#' + key);\n",
              "        const charts = await google.colab.kernel.invokeFunction(\n",
              "            'suggestCharts', [key], {});\n",
              "      }\n",
              "    </script>\n",
              "\n",
              "      <script>\n",
              "\n",
              "function displayQuickchartButton(domScope) {\n",
              "  let quickchartButtonEl =\n",
              "    domScope.querySelector('#df-470c82c6-83f7-4cae-ad4e-52ae024f350d button.colab-df-quickchart');\n",
              "  quickchartButtonEl.style.display =\n",
              "    google.colab.kernel.accessAllowed ? 'block' : 'none';\n",
              "}\n",
              "\n",
              "        displayQuickchartButton(document);\n",
              "      </script>\n",
              "      <style>\n",
              "    .colab-df-container {\n",
              "      display:flex;\n",
              "      flex-wrap:wrap;\n",
              "      gap: 12px;\n",
              "    }\n",
              "\n",
              "    .colab-df-convert {\n",
              "      background-color: #E8F0FE;\n",
              "      border: none;\n",
              "      border-radius: 50%;\n",
              "      cursor: pointer;\n",
              "      display: none;\n",
              "      fill: #1967D2;\n",
              "      height: 32px;\n",
              "      padding: 0 0 0 0;\n",
              "      width: 32px;\n",
              "    }\n",
              "\n",
              "    .colab-df-convert:hover {\n",
              "      background-color: #E2EBFA;\n",
              "      box-shadow: 0px 1px 2px rgba(60, 64, 67, 0.3), 0px 1px 3px 1px rgba(60, 64, 67, 0.15);\n",
              "      fill: #174EA6;\n",
              "    }\n",
              "\n",
              "    [theme=dark] .colab-df-convert {\n",
              "      background-color: #3B4455;\n",
              "      fill: #D2E3FC;\n",
              "    }\n",
              "\n",
              "    [theme=dark] .colab-df-convert:hover {\n",
              "      background-color: #434B5C;\n",
              "      box-shadow: 0px 1px 3px 1px rgba(0, 0, 0, 0.15);\n",
              "      filter: drop-shadow(0px 1px 2px rgba(0, 0, 0, 0.3));\n",
              "      fill: #FFFFFF;\n",
              "    }\n",
              "  </style>\n",
              "\n",
              "      <script>\n",
              "        const buttonEl =\n",
              "          document.querySelector('#df-08180cea-c21c-4cc4-8718-8032c64f548f button.colab-df-convert');\n",
              "        buttonEl.style.display =\n",
              "          google.colab.kernel.accessAllowed ? 'block' : 'none';\n",
              "\n",
              "        async function convertToInteractive(key) {\n",
              "          const element = document.querySelector('#df-08180cea-c21c-4cc4-8718-8032c64f548f');\n",
              "          const dataTable =\n",
              "            await google.colab.kernel.invokeFunction('convertToInteractive',\n",
              "                                                     [key], {});\n",
              "          if (!dataTable) return;\n",
              "\n",
              "          const docLinkHtml = 'Like what you see? Visit the ' +\n",
              "            '<a target=\"_blank\" href=https://colab.research.google.com/notebooks/data_table.ipynb>data table notebook</a>'\n",
              "            + ' to learn more about interactive tables.';\n",
              "          element.innerHTML = '';\n",
              "          dataTable['output_type'] = 'display_data';\n",
              "          await google.colab.output.renderOutput(dataTable, element);\n",
              "          const docLink = document.createElement('div');\n",
              "          docLink.innerHTML = docLinkHtml;\n",
              "          element.appendChild(docLink);\n",
              "        }\n",
              "      </script>\n",
              "    </div>\n",
              "  </div>\n"
            ]
          },
          "metadata": {},
          "execution_count": 9
        }
      ],
      "source": [
        "# Move target to the last column\n",
        "target_feature = \"QV\"\n",
        "df.insert(len(df.columns)-1, target_feature, df.pop(target_feature))\n",
        "df.head()"
      ]
    },
    {
      "cell_type": "code",
      "source": [
        "df.info()"
      ],
      "metadata": {
        "colab": {
          "base_uri": "https://localhost:8080/"
        },
        "id": "L5r2C1so_a5z",
        "outputId": "70749432-55b0-458d-912d-1434adbcc795"
      },
      "execution_count": null,
      "outputs": [
        {
          "output_type": "stream",
          "name": "stdout",
          "text": [
            "<class 'pandas.core.frame.DataFrame'>\n",
            "DatetimeIndex: 21888 entries, 2020-01-01 00:00:00 to 2022-06-30 23:00:00\n",
            "Data columns (total 27 columns):\n",
            " #   Column        Non-Null Count  Dtype  \n",
            "---  ------        --------------  -----  \n",
            " 0   1             21888 non-null  float64\n",
            " 1   2             21888 non-null  float64\n",
            " 2   3             21888 non-null  float64\n",
            " 3   4             21888 non-null  float64\n",
            " 4   5             21888 non-null  float64\n",
            " 5   6             21888 non-null  float64\n",
            " 6   7             21888 non-null  float64\n",
            " 7   8             21888 non-null  float64\n",
            " 8   9             21888 non-null  float64\n",
            " 9   10            21888 non-null  float64\n",
            " 10  11            21888 non-null  float64\n",
            " 11  12            21888 non-null  float64\n",
            " 12  13            21888 non-null  float64\n",
            " 13  14            21888 non-null  float64\n",
            " 14  15            21888 non-null  float64\n",
            " 15  16            21888 non-null  float64\n",
            " 16  17            21888 non-null  float64\n",
            " 17  18            21888 non-null  float64\n",
            " 18  19            21888 non-null  float64\n",
            " 19  20            21888 non-null  float64\n",
            " 20  21            21888 non-null  float64\n",
            " 21  Day_of_month  21888 non-null  int64  \n",
            " 22  Day_of_week   21888 non-null  int64  \n",
            " 23  Hour          21888 non-null  int64  \n",
            " 24  Week          21888 non-null  int64  \n",
            " 25  Month         21888 non-null  int64  \n",
            " 26  QV            21888 non-null  float64\n",
            "dtypes: float64(22), int64(5)\n",
            "memory usage: 4.7 MB\n"
          ]
        }
      ]
    },
    {
      "cell_type": "markdown",
      "metadata": {
        "id": "5ThbPQWfEYFE"
      },
      "source": [
        "### Hyperparameters"
      ]
    },
    {
      "cell_type": "code",
      "execution_count": null,
      "metadata": {
        "id": "rDbOTLonEYFF"
      },
      "outputs": [],
      "source": [
        "batch_size = 32\n",
        "in_seq_len = 24 # How far to look back\n",
        "out_seq_len = 12 # How far to look forward\n",
        "\n",
        "enc_in_size = df.shape[1] # Number of input features + target feature\n",
        "dec_in_size = 6 # Number of known future features + target feature\n",
        "output_size = 1 # Number of target features\n",
        "hidden_size = 64 # Dimensions in hidden layers\n",
        "num_layers = 1 # Number of hidden layers\n",
        "teaching_forcing_prob = 0.75 # Probability of teaching forcing\n",
        "\n",
        "num_epochs = 100\n",
        "learning_rate = 5e-3\n",
        "es_patience = 15\n",
        "lr_patience = 5\n",
        "\n",
        "model_save_path = \"checkpoint_seq2seq.pth\""
      ]
    },
    {
      "cell_type": "markdown",
      "metadata": {
        "id": "WXMFdF7CEYFH"
      },
      "source": [
        "## DATASET PIPELINE"
      ]
    },
    {
      "cell_type": "markdown",
      "metadata": {
        "id": "KS4bAOzFEYE-"
      },
      "source": [
        "#### Train - Val - Test split"
      ]
    },
    {
      "cell_type": "code",
      "execution_count": null,
      "metadata": {
        "colab": {
          "base_uri": "https://localhost:8080/"
        },
        "id": "oPR-ldNyEYFI",
        "outputId": "cd0d1bf4-d1a2-4d71-e10a-b589705a7ccb"
      },
      "outputs": [
        {
          "output_type": "execute_result",
          "data": {
            "text/plain": [
              "(21888, 27)"
            ]
          },
          "metadata": {},
          "execution_count": 13
        }
      ],
      "source": [
        "data = df.values\n",
        "data.shape"
      ]
    },
    {
      "cell_type": "code",
      "source": [
        "train_ratio, val_ratio = 0.7, 0.2\n",
        "train_size = int(len(df) * train_ratio)\n",
        "val_size = int(len(df) * val_ratio)\n",
        "\n",
        "df_train = data[: train_size].copy()\n",
        "df_val = data[train_size : train_size+val_size].copy()\n",
        "df_test = data[train_size+val_size :].copy()"
      ],
      "metadata": {
        "id": "V8RejVr4AXcv"
      },
      "execution_count": null,
      "outputs": []
    },
    {
      "cell_type": "markdown",
      "metadata": {
        "id": "5Zm02S3OEYFJ"
      },
      "source": [
        "### Feature scaling\n",
        "Use natural log transformation (with one plus element-wise to avoid inf. values)"
      ]
    },
    {
      "cell_type": "code",
      "execution_count": null,
      "metadata": {
        "id": "CkYvltoWEYFK"
      },
      "outputs": [],
      "source": [
        "train_scaled = np.log1p(df_train)\n",
        "val_scaled = np.log1p(df_val)\n",
        "test_scaled = np.log1p(df_test)"
      ]
    },
    {
      "cell_type": "markdown",
      "metadata": {
        "id": "CD5QBrvdEYFK"
      },
      "source": [
        "### Create data sequences"
      ]
    },
    {
      "cell_type": "code",
      "execution_count": null,
      "metadata": {
        "id": "TE2vXnH1EYFL"
      },
      "outputs": [],
      "source": [
        "# split a multivariate sequence past, future samples (X and y)\n",
        "def sequence_generator(arr, past_step=in_seq_len, future_step=out_seq_len, y_features=dec_in_size):\n",
        "    # instantiate X and y\n",
        "    X, y = [], []\n",
        "    for i in range(len(arr)):\n",
        "        # find the end of the input, output sequence\n",
        "        input_end = i + past_step\n",
        "        output_end = input_end + future_step\n",
        "        # check if we are beyond the dataset\n",
        "        if output_end > len(arr):\n",
        "            break\n",
        "        else:\n",
        "            # gather input and output of the pattern\n",
        "            seq_x, seq_y = arr[i : input_end], arr[input_end : output_end, -y_features:]\n",
        "            X.append(seq_x), y.append(seq_y)\n",
        "\n",
        "    return np.array(X), np.array(y)"
      ]
    },
    {
      "cell_type": "code",
      "execution_count": null,
      "metadata": {
        "colab": {
          "base_uri": "https://localhost:8080/"
        },
        "id": "esho-A_QEYFL",
        "outputId": "703f9809-2ff9-4f0d-9944-fe0ef0c72c43"
      },
      "outputs": [
        {
          "output_type": "stream",
          "name": "stdout",
          "text": [
            "Training Shape: (15286, 24, 27) (15286, 12, 6)\n",
            "Validation Shape: (4342, 24, 27) (4342, 12, 6)\n",
            "Testing Shape: (2155, 24, 27) (2155, 12, 6)\n"
          ]
        }
      ],
      "source": [
        "X_train, y_train = sequence_generator(train_scaled)\n",
        "X_val, y_val = sequence_generator(val_scaled)\n",
        "X_test, y_test = sequence_generator(test_scaled)\n",
        "\n",
        "print(\"Training Shape:\", X_train.shape, y_train.shape)\n",
        "print(\"Validation Shape:\", X_val.shape, y_val.shape)\n",
        "print(\"Testing Shape:\", X_test.shape, y_test.shape)"
      ]
    },
    {
      "cell_type": "markdown",
      "metadata": {
        "id": "TfgKqsyfEYFO"
      },
      "source": [
        "### Create Dataset Iterator"
      ]
    },
    {
      "cell_type": "markdown",
      "metadata": {
        "id": "5J5GER4eEYFO"
      },
      "source": [
        "#### Define custom dataset"
      ]
    },
    {
      "cell_type": "code",
      "execution_count": null,
      "metadata": {
        "id": "OoVvd744EYFP"
      },
      "outputs": [],
      "source": [
        "class TimeSeriesDataset(Dataset):\n",
        "\n",
        "    def __init__(self, X, y):\n",
        "        # convert into PyTorch tensors and remember them\n",
        "        self.X = torch.tensor(X, dtype=torch.float32)\n",
        "        self.y = torch.tensor(y, dtype=torch.float32)\n",
        "\n",
        "\n",
        "    def __len__(self):\n",
        "        # this should return the size of the dataset\n",
        "        return len(self.X)\n",
        "\n",
        "\n",
        "    def __getitem__(self, idx):\n",
        "        # this should return one sample from the dataset\n",
        "        features = self.X[idx]\n",
        "        target = self.y[idx]\n",
        "        return features, target"
      ]
    },
    {
      "cell_type": "code",
      "execution_count": null,
      "metadata": {
        "id": "mMWN0zuvEYFQ"
      },
      "outputs": [],
      "source": [
        "train_dataset = TimeSeriesDataset(X_train, y_train)\n",
        "val_dataset = TimeSeriesDataset(X_val, y_val)\n",
        "test_dataset = TimeSeriesDataset(X_test, y_test)"
      ]
    },
    {
      "cell_type": "markdown",
      "metadata": {
        "id": "wiNtmEHVEYFQ"
      },
      "source": [
        "#### Generate from PyTorch's `DataLoader` class"
      ]
    },
    {
      "cell_type": "code",
      "execution_count": null,
      "metadata": {
        "id": "LD7Qyg2NEYFR"
      },
      "outputs": [],
      "source": [
        "train_loader = DataLoader(train_dataset, batch_size=batch_size, shuffle=True)\n",
        "val_loader = DataLoader(val_dataset, batch_size=batch_size, shuffle=False)\n",
        "test_loader = DataLoader(test_dataset, batch_size=batch_size, shuffle=False)"
      ]
    },
    {
      "cell_type": "code",
      "execution_count": null,
      "metadata": {
        "colab": {
          "base_uri": "https://localhost:8080/"
        },
        "id": "IpbxGTNrEYFh",
        "outputId": "ec9d4641-9efb-40c1-e345-879115de764d"
      },
      "outputs": [
        {
          "output_type": "stream",
          "name": "stdout",
          "text": [
            "Features shape: torch.Size([32, 24, 27])\n",
            "Target shape: torch.Size([32, 12, 6])\n"
          ]
        }
      ],
      "source": [
        "X, y = next(iter(train_loader))\n",
        "\n",
        "print(\"Features shape:\", X.shape)\n",
        "print(\"Target shape:\", y.shape)"
      ]
    },
    {
      "cell_type": "markdown",
      "metadata": {
        "id": "W4HET70UEYFi"
      },
      "source": [
        "## MODEL AND LEARNING ALGORITHM"
      ]
    },
    {
      "cell_type": "markdown",
      "metadata": {
        "id": "cgVNm1u9EYFj"
      },
      "source": [
        "### Model architecture"
      ]
    },
    {
      "cell_type": "markdown",
      "source": [
        "#### Encoder"
      ],
      "metadata": {
        "id": "qvRcRqr87uQc"
      }
    },
    {
      "cell_type": "code",
      "execution_count": null,
      "metadata": {
        "id": "4ssrXTRIEYFk"
      },
      "outputs": [],
      "source": [
        "class Encoder(nn.Module):\n",
        "\n",
        "    def __init__(self, encoder_input_size, hidden_size, num_layers):\n",
        "        super(Encoder, self).__init__()\n",
        "\n",
        "        # Number of input features\n",
        "        self.encoder_input_size = encoder_input_size\n",
        "        self.hidden_size = hidden_size\n",
        "        self.num_layers = num_layers\n",
        "\n",
        "        self.lstm = nn.LSTM(\n",
        "            input_size=self.encoder_input_size,\n",
        "            hidden_size=self.hidden_size,\n",
        "            num_layers=self.num_layers,\n",
        "            batch_first=True\n",
        "        )\n",
        "\n",
        "    def forward(self, encoder_inputs):\n",
        "        \"\"\"\n",
        "        encoder_inputs: Shape (batch_size x look_back x input_size)\n",
        "          [(X_t-N, feature_t-N), ..., (X_t-1, feature_t-1), (X_t, feature_t)]\n",
        "        \"\"\"\n",
        "        # Feed in the whole sequence\n",
        "        # PyTorch will handle the rollout\n",
        "        _, hidden = self.lstm(encoder_inputs)\n",
        "        # Return final hidden state (context vector)\n",
        "        return hidden"
      ]
    },
    {
      "cell_type": "markdown",
      "source": [
        "#### Decoder"
      ],
      "metadata": {
        "id": "R5SFYsky7xhc"
      }
    },
    {
      "cell_type": "code",
      "execution_count": null,
      "metadata": {
        "id": "Cvut3-b9EYFl"
      },
      "outputs": [],
      "source": [
        "class Decoder(nn.Module):\n",
        "\n",
        "    def __init__(self, decoder_input_size, target_size, hidden_size, num_layers):\n",
        "        super(Decoder, self).__init__()\n",
        "\n",
        "        # Predection size\n",
        "        # i.e univariate forecasting has output size of 1\n",
        "        self.target_size = target_size\n",
        "        self.decoder_input_size = decoder_input_size\n",
        "        self.hidden_size = hidden_size\n",
        "        self.num_layers = num_layers\n",
        "\n",
        "        self.lstm = nn.LSTM(\n",
        "            input_size=self.decoder_input_size,\n",
        "            hidden_size=self.hidden_size,\n",
        "            num_layers=self.num_layers,\n",
        "            batch_first=True\n",
        "        )\n",
        "\n",
        "        # Transform the latent representation\n",
        "        # back to a single prediction\n",
        "        self.fc = nn.Linear(self.hidden_size, self.target_size)\n",
        "\n",
        "\n",
        "    def forward(self, input_init, encoder_hidden, targets, teaching_forcing_prob):\n",
        "        \"\"\"\n",
        "        input_init:  Shape (batch_size x 1 x input_size)\n",
        "          (X_t, feature_t)\n",
        "        encoder_hidden: Shape (num_layers*num_directions x batch_size x hidden_size)\n",
        "          Context vector from the encoder\n",
        "        targets: Shape (batch_size x pred_len x features_size)\n",
        "          Our targets [(X_t+1, feature_t+1), (X_t+2, feature_t+2), .. (X_t+N, feature_t+N)]\n",
        "          Note: features are used as future covariates for prediction only\n",
        "        teaching_forcing_prob: float\n",
        "          The chance of using truth value instead of predicted output for next time step\n",
        "        \"\"\"\n",
        "        # Forecasting steps\n",
        "        decoder_seq_len = targets.shape[1]\n",
        "        # Store decoder outputs\n",
        "        outputs = torch.tensor([])\n",
        "        # Input at time step t\n",
        "        input_t = input_init[:, -1, -self.decoder_input_size:].unsqueeze(1)\n",
        "\n",
        "        # Rollout the sequence\n",
        "        for t in range(decoder_seq_len):\n",
        "            # Change input dim from (B, C) into (B, 1, C)\n",
        "            out, hidden = self.lstm(input_t, encoder_hidden)\n",
        "            # Shape (batch size, 1, target size)\n",
        "            out = self.fc(out)\n",
        "            outputs = torch.cat((outputs, out), 1)\n",
        "            # Setup for next time step\n",
        "            # Use actual output\n",
        "            if random.random() < teaching_forcing_prob:\n",
        "                input_t = targets[:, t, :].unsqueeze(1)\n",
        "            # Use predicted output with known future features (DateTime...)\n",
        "            else:\n",
        "                future_features = targets[:, t, -self.decoder_input_size:-1].unsqueeze(1)\n",
        "                input_t = torch.concat((future_features, out), 2)\n",
        "\n",
        "        # Shape (batch size, pred step, target features)\n",
        "        return outputs"
      ]
    },
    {
      "cell_type": "markdown",
      "source": [
        "#### Seq2Seq Model"
      ],
      "metadata": {
        "id": "G8DYjDLR7zgI"
      }
    },
    {
      "cell_type": "code",
      "execution_count": null,
      "metadata": {
        "id": "2GoRpq37EYFm"
      },
      "outputs": [],
      "source": [
        "class Seq2Seq(nn.Module):\n",
        "    def __init__(self, enc_in_size, dec_in_size, output_size, hidden_size, num_layers):\n",
        "        super(Seq2Seq, self).__init__()\n",
        "\n",
        "        self.encoder = Encoder(enc_in_size, hidden_size, num_layers)\n",
        "        self.decoder = Decoder(dec_in_size, output_size, hidden_size, num_layers)\n",
        "\n",
        "\n",
        "    def forward(self, encoder_inputs, targets, teaching_forcing_prob):\n",
        "        encoder_hidden = self.encoder(encoder_inputs)\n",
        "        # Feed last time step value from encoder\n",
        "        outputs = self.decoder(encoder_inputs, encoder_hidden, targets, teaching_forcing_prob)\n",
        "        return outputs"
      ]
    },
    {
      "cell_type": "code",
      "execution_count": null,
      "metadata": {
        "colab": {
          "base_uri": "https://localhost:8080/"
        },
        "id": "kLSC6qbCEYFm",
        "outputId": "ef85237f-2ece-4899-8417-60859ec3a2fc"
      },
      "outputs": [
        {
          "output_type": "stream",
          "name": "stdout",
          "text": [
            "Seq2Seq(\n",
            "  (encoder): Encoder(\n",
            "    (lstm): LSTM(27, 64, batch_first=True)\n",
            "  )\n",
            "  (decoder): Decoder(\n",
            "    (lstm): LSTM(6, 64, batch_first=True)\n",
            "    (fc): Linear(in_features=64, out_features=1, bias=True)\n",
            "  )\n",
            ")\n",
            "\n",
            "Total parameters: 42305\n",
            "Learnable parameters: 42305\n"
          ]
        }
      ],
      "source": [
        "model = Seq2Seq(enc_in_size, dec_in_size, output_size, hidden_size, num_layers).to(device)\n",
        "total_params = sum(p.numel() for p in model.parameters())\n",
        "learn_params = sum(p.numel() for p in model.parameters() if p.requires_grad)\n",
        "\n",
        "print(model)\n",
        "print(f\"\\nTotal parameters: {total_params}\")\n",
        "print(f\"Learnable parameters: {learn_params}\")"
      ]
    },
    {
      "cell_type": "markdown",
      "metadata": {
        "id": "cPtBbt6fEYFn"
      },
      "source": [
        "### Loss and Optimizer"
      ]
    },
    {
      "cell_type": "code",
      "execution_count": null,
      "metadata": {
        "id": "sXN3nwtsEYFo"
      },
      "outputs": [],
      "source": [
        "loss_func = nn.MSELoss()\n",
        "opt = optim.Adam(model.parameters(), lr=learning_rate)"
      ]
    },
    {
      "cell_type": "markdown",
      "metadata": {
        "id": "eAGkP501EYFp"
      },
      "source": [
        "### Callbacks"
      ]
    },
    {
      "cell_type": "code",
      "execution_count": null,
      "metadata": {
        "id": "zs0CNQn-EYFq"
      },
      "outputs": [],
      "source": [
        "# Early Stopping\n",
        "# Stop training if validation loss does not improve\n",
        "class EarlyStopping:\n",
        "\n",
        "    def __init__(self, patience, model_save_path, min_delta=0):\n",
        "        self.patience = patience\n",
        "        self.min_delta = min_delta\n",
        "        self.model_save_path = model_save_path\n",
        "        self.counter = 0\n",
        "        self.min_validation_loss = np.inf\n",
        "        self.best_epoch = 0\n",
        "        self.early_stop = False\n",
        "\n",
        "\n",
        "    def __call__(self, epoch, model, validation_loss):\n",
        "        delta_loss = self.min_validation_loss - validation_loss\n",
        "        # Check if val loss is smaller than min loss\n",
        "        if delta_loss > self.min_delta:\n",
        "            self.min_validation_loss = validation_loss\n",
        "            self.counter = 0\n",
        "            # Save best model\n",
        "            self.best_epoch = epoch\n",
        "            torch.save(model.state_dict(), self.model_save_path)\n",
        "        else:\n",
        "            self.counter += 1\n",
        "            if self.counter >= self.patience:\n",
        "                print(f\"Early Stopping.\")\n",
        "                print(f\"Save best model at epoch {self.best_epoch}\")\n",
        "                self.early_stop = True"
      ]
    },
    {
      "cell_type": "code",
      "execution_count": null,
      "metadata": {
        "id": "TEQdjk-jEYFr"
      },
      "outputs": [],
      "source": [
        "# ReduceLROnPlateau\n",
        "# Reduce learning rate when validation loss stops improving\n",
        "lr_scheduler = optim.lr_scheduler.ReduceLROnPlateau(opt, factor=0.3, patience=lr_patience, verbose=True)"
      ]
    },
    {
      "cell_type": "markdown",
      "metadata": {
        "id": "jSlw9KH2EYFr"
      },
      "source": [
        "## TRAINING"
      ]
    },
    {
      "cell_type": "markdown",
      "metadata": {
        "id": "4pgxvrGWEYFs"
      },
      "source": [
        "### Define training loop"
      ]
    },
    {
      "cell_type": "code",
      "execution_count": null,
      "metadata": {
        "id": "VJtXVD71EYFt"
      },
      "outputs": [],
      "source": [
        "def train_model(data_loader, model, loss_function, optimizer):\n",
        "    num_batches = len(data_loader)\n",
        "    total_loss = 0\n",
        "    model.train()\n",
        "\n",
        "    for X, y in data_loader:\n",
        "        X, y = X.to(device), y.to(device)\n",
        "\n",
        "        # Forward pass\n",
        "        output = model(X, y, teaching_forcing_prob)\n",
        "        loss = loss_function(output, y[:, :, -1].unsqueeze(2))\n",
        "\n",
        "        # Backward and optimize\n",
        "        optimizer.zero_grad()\n",
        "        loss.backward()\n",
        "        optimizer.step()\n",
        "\n",
        "        total_loss += loss.item()\n",
        "\n",
        "    train_avg_loss = total_loss / num_batches\n",
        "\n",
        "    return train_avg_loss\n",
        "\n",
        "\n",
        "def val_model(data_loader, model, loss_function):\n",
        "    num_batches = len(data_loader)\n",
        "    total_loss = 0\n",
        "\n",
        "    model.eval()\n",
        "    with torch.no_grad():\n",
        "        for X, y in data_loader:\n",
        "            X, y = X.to(device), y.to(device)\n",
        "\n",
        "            output = model(X, y, 0)\n",
        "            total_loss += loss_function(output, y[:, :, -1].unsqueeze(2)).item()\n",
        "\n",
        "    val_avg_loss = total_loss / num_batches\n",
        "\n",
        "    return val_avg_loss"
      ]
    },
    {
      "cell_type": "code",
      "execution_count": null,
      "metadata": {
        "id": "37eLYBPaEYFu",
        "outputId": "c470a8c8-3823-49da-ca4e-99d71c9e9d59",
        "colab": {
          "base_uri": "https://localhost:8080/"
        }
      },
      "outputs": [
        {
          "output_type": "stream",
          "name": "stdout",
          "text": [
            "\n",
            "Epoch [0/99]\t\tTrain loss: 0.314320 - Val loss: 0.031768\n",
            "\n",
            "Epoch [1/99]\t\tTrain loss: 0.016886 - Val loss: 0.027576\n",
            "\n",
            "Epoch [2/99]\t\tTrain loss: 0.011701 - Val loss: 0.198875\n",
            "\n",
            "Epoch [3/99]\t\tTrain loss: 0.010590 - Val loss: 0.027217\n",
            "\n",
            "Epoch [4/99]\t\tTrain loss: 0.010151 - Val loss: 0.080588\n",
            "\n",
            "Epoch [5/99]\t\tTrain loss: 0.008712 - Val loss: 0.090484\n",
            "\n",
            "Epoch [6/99]\t\tTrain loss: 0.010749 - Val loss: 0.027150\n",
            "\n",
            "Epoch [7/99]\t\tTrain loss: 0.009537 - Val loss: 0.036120\n",
            "\n",
            "Epoch [8/99]\t\tTrain loss: 0.006003 - Val loss: 0.029662\n",
            "\n",
            "Epoch [9/99]\t\tTrain loss: 0.019718 - Val loss: 0.045981\n",
            "\n",
            "Epoch [10/99]\t\tTrain loss: 0.007225 - Val loss: 0.027747\n",
            "\n",
            "Epoch [11/99]\t\tTrain loss: 0.007989 - Val loss: 0.044048\n",
            "\n",
            "Epoch [12/99]\t\tTrain loss: 0.008500 - Val loss: 0.026424\n",
            "\n",
            "Epoch [13/99]\t\tTrain loss: 0.005760 - Val loss: 0.065086\n",
            "\n",
            "Epoch [14/99]\t\tTrain loss: 0.009026 - Val loss: 0.057292\n",
            "\n",
            "Epoch [15/99]\t\tTrain loss: 0.007861 - Val loss: 0.121246\n",
            "\n",
            "Epoch [16/99]\t\tTrain loss: 0.006564 - Val loss: 0.029601\n",
            "\n",
            "Epoch [17/99]\t\tTrain loss: 0.010663 - Val loss: 0.081178\n",
            "\n",
            "Epoch [18/99]\t\tTrain loss: 0.006893 - Val loss: 0.038536\n",
            "Epoch 00019: reducing learning rate of group 0 to 1.5000e-03.\n",
            "\n",
            "Epoch [19/99]\t\tTrain loss: 0.004898 - Val loss: 0.029166\n",
            "\n",
            "Epoch [20/99]\t\tTrain loss: 0.004985 - Val loss: 0.031660\n",
            "\n",
            "Epoch [21/99]\t\tTrain loss: 0.005663 - Val loss: 0.035505\n",
            "\n",
            "Epoch [22/99]\t\tTrain loss: 0.005028 - Val loss: 0.031288\n",
            "\n",
            "Epoch [23/99]\t\tTrain loss: 0.004939 - Val loss: 0.031254\n",
            "\n",
            "Epoch [24/99]\t\tTrain loss: 0.005292 - Val loss: 0.028523\n",
            "Epoch 00025: reducing learning rate of group 0 to 4.5000e-04.\n",
            "\n",
            "Epoch [25/99]\t\tTrain loss: 0.004727 - Val loss: 0.030332\n",
            "\n",
            "Epoch [26/99]\t\tTrain loss: 0.004688 - Val loss: 0.040720\n",
            "\n",
            "Epoch [27/99]\t\tTrain loss: 0.004754 - Val loss: 0.032840\n",
            "Early Stopping.\n",
            "Save best model at epoch 12\n"
          ]
        }
      ],
      "source": [
        "# Log losses for plotting\n",
        "all_losses = []\n",
        "\n",
        "# Initialize Early Stopping object\n",
        "early_stopper = EarlyStopping(patience=es_patience, model_save_path=model_save_path)\n",
        "for epoch in range(num_epochs):\n",
        "    train_loss = train_model(train_loader, model, loss_func, opt)\n",
        "    val_loss = val_model(val_loader, model, loss_func)\n",
        "    all_losses.append([train_loss, val_loss])\n",
        "\n",
        "    # Display\n",
        "    print(f\"\\nEpoch [{epoch}/{num_epochs-1}]\\t\\tTrain loss: {train_loss:.6f} - Val loss: {val_loss:.6f}\")\n",
        "\n",
        "    # EarlyStopping\n",
        "    early_stopper(epoch, model, val_loss)\n",
        "    if early_stopper.early_stop:\n",
        "        break\n",
        "    # Adjust learning rate\n",
        "    lr_scheduler.step(val_loss)"
      ]
    },
    {
      "cell_type": "markdown",
      "metadata": {
        "id": "mR2FNKXeEYFv"
      },
      "source": [
        "### Plot history"
      ]
    },
    {
      "cell_type": "code",
      "execution_count": null,
      "metadata": {
        "id": "4p0UI4xYEYFw",
        "outputId": "0ce56772-974f-41f3-9662-2155f0e983a8",
        "colab": {
          "base_uri": "https://localhost:8080/",
          "height": 449
        }
      },
      "outputs": [
        {
          "output_type": "display_data",
          "data": {
            "text/plain": [
              "<Figure size 1200x400 with 1 Axes>"
            ],
            "image/png": "[encoded data removed]"
          },
          "metadata": {}
        }
      ],
      "source": [
        "plt.figure(figsize=(12, 4))\n",
        "plt.title(\"Seq2Seq Model\", size=18, y=1.1)\n",
        "plt.plot(all_losses, label=[\"Train loss\", \"Val loss\"])\n",
        "plt.xlabel(\"Epoch\", fontsize=13)\n",
        "plt.xticks(np.arange(0, len(all_losses), 2))\n",
        "plt.ylabel(\"MSE\", fontsize=13)\n",
        "plt.ylim(bottom=0)\n",
        "plt.legend(loc=\"upper right\", fontsize=10)\n",
        "plt.show()"
      ]
    },
    {
      "cell_type": "markdown",
      "metadata": {
        "id": "eC1qEjpeEYFx"
      },
      "source": [
        "## EVALUATION"
      ]
    },
    {
      "cell_type": "markdown",
      "metadata": {
        "id": "BVEA5G4fEYFy"
      },
      "source": [
        "### Load best checkpoint"
      ]
    },
    {
      "cell_type": "code",
      "execution_count": null,
      "metadata": {
        "id": "YjWpdu3AEYFy",
        "outputId": "51441a47-8663-4137-dedf-19f050d3d145",
        "colab": {
          "base_uri": "https://localhost:8080/"
        }
      },
      "outputs": [
        {
          "output_type": "execute_result",
          "data": {
            "text/plain": [
              "<All keys matched successfully>"
            ]
          },
          "metadata": {},
          "execution_count": 32
        }
      ],
      "source": [
        "model.load_state_dict(torch.load(model_save_path))"
      ]
    },
    {
      "cell_type": "markdown",
      "metadata": {
        "id": "tZqJZq6aEYFz"
      },
      "source": [
        "### Predict"
      ]
    },
    {
      "cell_type": "code",
      "execution_count": null,
      "metadata": {
        "id": "EGylUIHPEYF0"
      },
      "outputs": [],
      "source": [
        "def predict(data_loader, model):\n",
        "    output = torch.tensor([])\n",
        "    model.eval()\n",
        "    with torch.no_grad():\n",
        "        for X, y in data_loader:\n",
        "            y_pred = model(X.to(device), y.to(device), 0)\n",
        "            output = torch.cat((output, y_pred.to(device)), 0)\n",
        "\n",
        "    return output"
      ]
    },
    {
      "cell_type": "code",
      "execution_count": null,
      "metadata": {
        "id": "zoLCKXnzEYF1"
      },
      "outputs": [],
      "source": [
        "y_pred = predict(test_loader, model).numpy()\n",
        "\n",
        "# Inverse the transformation\n",
        "y_pred_inv = np.expm1(y_pred)\n",
        "y_test_inv = np.expm1(y_test)"
      ]
    },
    {
      "cell_type": "markdown",
      "metadata": {
        "id": "7kCvckYxEYF2"
      },
      "source": [
        "### Metrics\n"
      ]
    },
    {
      "cell_type": "code",
      "execution_count": null,
      "metadata": {
        "id": "kV4_6o19EYF2"
      },
      "outputs": [],
      "source": [
        "# Hours ahead to predict\n",
        "forecast_length = 12"
      ]
    },
    {
      "cell_type": "code",
      "execution_count": null,
      "metadata": {
        "id": "_Wyi3kwPEYF3",
        "outputId": "d91a119b-bd70-4466-ed88-48866e52db5d",
        "colab": {
          "base_uri": "https://localhost:8080/"
        }
      },
      "outputs": [
        {
          "output_type": "stream",
          "name": "stdout",
          "text": [
            "12-hour forecast MAPE : 0.1807\n",
            "12-hour forecast MSE : 657.1596\n",
            "12-hour forecast RMSE: 25.6351\n",
            "12-hour forecast NSE: 0.5560\n"
          ]
        }
      ],
      "source": [
        "truth = y_test_inv[:, forecast_length-1, -1].ravel()\n",
        "forecast = y_pred_inv[:, forecast_length-1].ravel()\n",
        "\n",
        "diff = np.subtract(truth, forecast)\n",
        "# MAPE\n",
        "mape = np.mean(np.abs(diff / truth))\n",
        "# MSE\n",
        "mse = np.mean(np.square(diff))\n",
        "# RMSE\n",
        "rmse = np.sqrt(mse)\n",
        "# NSE\n",
        "num = np.sum(np.square(diff))\n",
        "den = np.sum(np.square(np.subtract(truth, truth.mean())))\n",
        "nse = 1 - (num / den)\n",
        "\n",
        "print(f\"{forecast_length}-hour forecast MAPE : {mape:.4f}\")\n",
        "print(f\"{forecast_length}-hour forecast MSE : {mse:.4f}\")\n",
        "print(f\"{forecast_length}-hour forecast RMSE: {rmse:.4f}\")\n",
        "print(f\"{forecast_length}-hour forecast NSE: {nse:.4f}\")"
      ]
    },
    {
      "cell_type": "markdown",
      "metadata": {
        "id": "I7fZRG4CEYF4"
      },
      "source": [
        "### Visualize forecasts"
      ]
    },
    {
      "cell_type": "code",
      "execution_count": null,
      "metadata": {
        "id": "2xX5Q3fUEYF5",
        "outputId": "76f8eadc-313f-44d9-d335-cd5583e66e92",
        "colab": {
          "base_uri": "https://localhost:8080/",
          "height": 465
        }
      },
      "outputs": [
        {
          "output_type": "display_data",
          "data": {
            "text/plain": [
              "<Figure size 1200x400 with 1 Axes>"
            ],
            "image/png": "[encoded data removed]"
          },
          "metadata": {}
        }
      ],
      "source": [
        "plt.figure(figsize=(12, 4))\n",
        "plt.title(f\"{forecast_length}-Hour Ahead Forecasting\\nMAPE: {mape:.3f} - RMSE: {rmse:.3f} - NSE: {nse:.3f}\", size=16, y=1.1)\n",
        "plt.plot(truth, label=\"Ground Truth\", color=\"teal\")\n",
        "plt.plot(forecast, label=\"Prediction\", color=\"darkred\")\n",
        "plt.xlabel(\"Observation\")\n",
        "plt.legend(fontsize=10)\n",
        "plt.show()"
      ]
    },
    {
      "cell_type": "code",
      "execution_count": null,
      "metadata": {
        "id": "dVSILAL0EYF6"
      },
      "outputs": [],
      "source": []
    }
  ],
  "metadata": {
    "kernelspec": {
      "display_name": "Python 3",
      "name": "python3"
    },
    "language_info": {
      "codemirror_mode": {
        "name": "ipython",
        "version": 3
      },
      "file_extension": ".py",
      "mimetype": "text/x-python",
      "name": "python",
      "nbconvert_exporter": "python",
      "pygments_lexer": "ipython3",
      "version": "3.10.11"
    },
    "orig_nbformat": 4,
    "colab": {
      "provenance": [],
      "gpuType": "T4",
      "include_colab_link": true
    }
  },
  "nbformat": 4,
  "nbformat_minor": 0
}