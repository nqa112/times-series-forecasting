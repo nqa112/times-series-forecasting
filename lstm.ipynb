{
  "cells": [
    {
      "cell_type": "markdown",
      "metadata": {
        "id": "view-in-github",
        "colab_type": "text"
      },
      "source": [
        "<a href=\"https://colab.research.google.com/github/nqa112/times-series-forecasting/blob/main/lstm.ipynb\" target=\"_parent\"><img src=\"https://colab.research.google.com/assets/colab-badge.svg\" alt=\"Open In Colab\"/></a>"
      ]
    },
    {
      "cell_type": "markdown",
      "metadata": {
        "id": "u4pYcIqUlIm_"
      },
      "source": [
        "## BASIC SETUP"
      ]
    },
    {
      "cell_type": "code",
      "execution_count": null,
      "metadata": {
        "id": "Hnoj-OjVlInC"
      },
      "outputs": [],
      "source": [
        "from pathlib import Path\n",
        "import numpy as np\n",
        "import pandas as pd\n",
        "import torch\n",
        "import torch.nn as nn\n",
        "import torch.nn.functional as F\n",
        "from torch.utils.data import Dataset, DataLoader\n",
        "import torch.optim as optim"
      ]
    },
    {
      "cell_type": "code",
      "execution_count": null,
      "metadata": {
        "id": "Jxi1vuq5lInD",
        "outputId": "3e9b7fbb-7888-4ded-f8c0-a802a886d159",
        "colab": {
          "base_uri": "https://localhost:8080/"
        }
      },
      "outputs": [
        {
          "output_type": "stream",
          "name": "stdout",
          "text": [
            "Using cpu.\n"
          ]
        }
      ],
      "source": [
        "# Set random seed\n",
        "SEED = 12\n",
        "torch.manual_seed(SEED)\n",
        "np.random.seed(SEED)\n",
        "# Device configuration\n",
        "device = torch.device('cuda' if torch.cuda.is_available() else 'cpu')\n",
        "print(f\"Using {device}.\")"
      ]
    },
    {
      "cell_type": "code",
      "execution_count": null,
      "metadata": {
        "id": "_LxO-JH4lInF"
      },
      "outputs": [],
      "source": [
        "import matplotlib.pyplot as plt\n",
        "from matplotlib import rcParams\n",
        "from cycler import cycler\n",
        "\n",
        "rcParams['figure.figsize'] = 12, 4\n",
        "\n",
        "# Box\n",
        "rcParams['axes.spines.top'] = False\n",
        "rcParams['axes.spines.left'] = False\n",
        "rcParams['axes.spines.right'] = False\n",
        "rcParams['axes.prop_cycle'] = cycler(color=['navy','goldenrod'])\n",
        "\n",
        "# Grid and axis thickness, color\n",
        "rcParams['axes.linewidth'] = 1\n",
        "rcParams['axes.edgecolor'] = '#5B5859'\n",
        "rcParams['axes.ymargin'] = 0\n",
        "rcParams['axes.grid'] = True\n",
        "rcParams['axes.grid.axis'] = 'y'\n",
        "rcParams['axes.axisbelow'] = True\n",
        "rcParams['grid.color'] = 'grey'\n",
        "rcParams['grid.linewidth'] = 0.5\n",
        "\n",
        "# xticks, yticks\n",
        "rcParams['ytick.major.width'] = 0\n",
        "rcParams['ytick.major.size'] = 0\n",
        "rcParams['ytick.color'] = '#393433'\n",
        "rcParams['xtick.major.width'] = 1\n",
        "rcParams['xtick.major.size'] = 3\n",
        "rcParams['xtick.color'] = '#393433'\n",
        "\n",
        "# Line thickness\n",
        "rcParams['lines.linewidth'] = 1.5\n",
        "\n",
        "# Saving quality\n",
        "rcParams['savefig.bbox'] = 'tight'\n",
        "rcParams['savefig.dpi'] = 500\n",
        "rcParams['savefig.transparent'] = True"
      ]
    },
    {
      "cell_type": "markdown",
      "metadata": {
        "id": "PF6VnCQPlInI"
      },
      "source": [
        "## LOAD DATA"
      ]
    },
    {
      "cell_type": "code",
      "execution_count": null,
      "metadata": {
        "id": "dPAaN9vwlInJ",
        "colab": {
          "base_uri": "https://localhost:8080/",
          "height": 236
        },
        "outputId": "9de3ca3c-4ca7-4134-9226-cdedadb8ffb6"
      },
      "outputs": [
        {
          "output_type": "execute_result",
          "data": {
            "text/plain": [
              "             DateTime  Month    1    2    3    4    5    6    7    8  ...  \\\n",
              "0 2020-01-01 00:00:00      1  0.2  0.0  0.0  0.0  0.0  0.0  0.0  0.0  ...   \n",
              "1 2020-01-01 01:00:00      1  0.2  0.0  0.0  0.0  0.0  0.0  0.0  0.0  ...   \n",
              "2 2020-01-01 02:00:00      1  0.6  0.0  0.0  0.0  0.2  0.2  0.0  0.0  ...   \n",
              "3 2020-01-01 03:00:00      1  0.6  0.0  0.0  0.0  0.6  0.2  0.0  0.0  ...   \n",
              "4 2020-01-01 04:00:00      1  0.4  0.0  0.0  0.0  0.8  0.2  0.0  0.0  ...   \n",
              "\n",
              "    13   14   15   16   17   18   19   20   21    QV  \n",
              "0  0.0  0.0  0.0  0.0  0.0  0.0  0.0  0.0  0.0  31.0  \n",
              "1  0.0  0.0  0.0  0.0  0.0  0.0  0.0  0.0  0.0  31.0  \n",
              "2  0.0  0.0  0.0  0.0  0.0  0.0  0.0  0.0  0.0  31.0  \n",
              "3  0.0  0.0  0.0  0.0  0.0  0.0  0.0  0.0  0.0  31.0  \n",
              "4  0.0  0.0  0.0  0.0  0.0  0.0  0.0  0.0  0.0  31.0  \n",
              "\n",
              "[5 rows x 24 columns]"
            ],
            "text/html": [
              "\n",
              "\n",
              "  <div id=\"df-b4c9b4ca-a26f-4057-b094-2a4747d2e2c4\">\n",
              "    <div class=\"colab-df-container\">\n",
              "      <div>\n",
              "<style scoped>\n",
              "    .dataframe tbody tr th:only-of-type {\n",
              "        vertical-align: middle;\n",
              "    }\n",
              "\n",
              "    .dataframe tbody tr th {\n",
              "        vertical-align: top;\n",
              "    }\n",
              "\n",
              "    .dataframe thead th {\n",
              "        text-align: right;\n",
              "    }\n",
              "</style>\n",
              "<table border=\"1\" class=\"dataframe\">\n",
              "  <thead>\n",
              "    <tr style=\"text-align: right;\">\n",
              "      <th></th>\n",
              "      <th>DateTime</th>\n",
              "      <th>Month</th>\n",
              "      <th>1</th>\n",
              "      <th>2</th>\n",
              "      <th>3</th>\n",
              "      <th>4</th>\n",
              "      <th>5</th>\n",
              "      <th>6</th>\n",
              "      <th>7</th>\n",
              "      <th>8</th>\n",
              "      <th>...</th>\n",
              "      <th>13</th>\n",
              "      <th>14</th>\n",
              "      <th>15</th>\n",
              "      <th>16</th>\n",
              "      <th>17</th>\n",
              "      <th>18</th>\n",
              "      <th>19</th>\n",
              "      <th>20</th>\n",
              "      <th>21</th>\n",
              "      <th>QV</th>\n",
              "    </tr>\n",
              "  </thead>\n",
              "  <tbody>\n",
              "    <tr>\n",
              "      <th>0</th>\n",
              "      <td>2020-01-01 00:00:00</td>\n",
              "      <td>1</td>\n",
              "      <td>0.2</td>\n",
              "      <td>0.0</td>\n",
              "      <td>0.0</td>\n",
              "      <td>0.0</td>\n",
              "      <td>0.0</td>\n",
              "      <td>0.0</td>\n",
              "      <td>0.0</td>\n",
              "      <td>0.0</td>\n",
              "      <td>...</td>\n",
              "      <td>0.0</td>\n",
              "      <td>0.0</td>\n",
              "      <td>0.0</td>\n",
              "      <td>0.0</td>\n",
              "      <td>0.0</td>\n",
              "      <td>0.0</td>\n",
              "      <td>0.0</td>\n",
              "      <td>0.0</td>\n",
              "      <td>0.0</td>\n",
              "      <td>31.0</td>\n",
              "    </tr>\n",
              "    <tr>\n",
              "      <th>1</th>\n",
              "      <td>2020-01-01 01:00:00</td>\n",
              "      <td>1</td>\n",
              "      <td>0.2</td>\n",
              "      <td>0.0</td>\n",
              "      <td>0.0</td>\n",
              "      <td>0.0</td>\n",
              "      <td>0.0</td>\n",
              "      <td>0.0</td>\n",
              "      <td>0.0</td>\n",
              "      <td>0.0</td>\n",
              "      <td>...</td>\n",
              "      <td>0.0</td>\n",
              "      <td>0.0</td>\n",
              "      <td>0.0</td>\n",
              "      <td>0.0</td>\n",
              "      <td>0.0</td>\n",
              "      <td>0.0</td>\n",
              "      <td>0.0</td>\n",
              "      <td>0.0</td>\n",
              "      <td>0.0</td>\n",
              "      <td>31.0</td>\n",
              "    </tr>\n",
              "    <tr>\n",
              "      <th>2</th>\n",
              "      <td>2020-01-01 02:00:00</td>\n",
              "      <td>1</td>\n",
              "      <td>0.6</td>\n",
              "      <td>0.0</td>\n",
              "      <td>0.0</td>\n",
              "      <td>0.0</td>\n",
              "      <td>0.2</td>\n",
              "      <td>0.2</td>\n",
              "      <td>0.0</td>\n",
              "      <td>0.0</td>\n",
              "      <td>...</td>\n",
              "      <td>0.0</td>\n",
              "      <td>0.0</td>\n",
              "      <td>0.0</td>\n",
              "      <td>0.0</td>\n",
              "      <td>0.0</td>\n",
              "      <td>0.0</td>\n",
              "      <td>0.0</td>\n",
              "      <td>0.0</td>\n",
              "      <td>0.0</td>\n",
              "      <td>31.0</td>\n",
              "    </tr>\n",
              "    <tr>\n",
              "      <th>3</th>\n",
              "      <td>2020-01-01 03:00:00</td>\n",
              "      <td>1</td>\n",
              "      <td>0.6</td>\n",
              "      <td>0.0</td>\n",
              "      <td>0.0</td>\n",
              "      <td>0.0</td>\n",
              "      <td>0.6</td>\n",
              "      <td>0.2</td>\n",
              "      <td>0.0</td>\n",
              "      <td>0.0</td>\n",
              "      <td>...</td>\n",
              "      <td>0.0</td>\n",
              "      <td>0.0</td>\n",
              "      <td>0.0</td>\n",
              "      <td>0.0</td>\n",
              "      <td>0.0</td>\n",
              "      <td>0.0</td>\n",
              "      <td>0.0</td>\n",
              "      <td>0.0</td>\n",
              "      <td>0.0</td>\n",
              "      <td>31.0</td>\n",
              "    </tr>\n",
              "    <tr>\n",
              "      <th>4</th>\n",
              "      <td>2020-01-01 04:00:00</td>\n",
              "      <td>1</td>\n",
              "      <td>0.4</td>\n",
              "      <td>0.0</td>\n",
              "      <td>0.0</td>\n",
              "      <td>0.0</td>\n",
              "      <td>0.8</td>\n",
              "      <td>0.2</td>\n",
              "      <td>0.0</td>\n",
              "      <td>0.0</td>\n",
              "      <td>...</td>\n",
              "      <td>0.0</td>\n",
              "      <td>0.0</td>\n",
              "      <td>0.0</td>\n",
              "      <td>0.0</td>\n",
              "      <td>0.0</td>\n",
              "      <td>0.0</td>\n",
              "      <td>0.0</td>\n",
              "      <td>0.0</td>\n",
              "      <td>0.0</td>\n",
              "      <td>31.0</td>\n",
              "    </tr>\n",
              "  </tbody>\n",
              "</table>\n",
              "<p>5 rows × 24 columns</p>\n",
              "</div>\n",
              "      <button class=\"colab-df-convert\" onclick=\"convertToInteractive('df-b4c9b4ca-a26f-4057-b094-2a4747d2e2c4')\"\n",
              "              title=\"Convert this dataframe to an interactive table.\"\n",
              "              style=\"display:none;\">\n",
              "\n",
              "  <svg xmlns=\"http://www.w3.org/2000/svg\" height=\"24px\"viewBox=\"0 0 24 24\"\n",
              "       width=\"24px\">\n",
              "    <path d=\"M0 0h24v24H0V0z\" fill=\"none\"/>\n",
              "    <path d=\"M18.56 5.44l.94 2.06.94-2.06 2.06-.94-2.06-.94-.94-2.06-.94 2.06-2.06.94zm-11 1L8.5 8.5l.94-2.06 2.06-.94-2.06-.94L8.5 2.5l-.94 2.06-2.06.94zm10 10l.94 2.06.94-2.06 2.06-.94-2.06-.94-.94-2.06-.94 2.06-2.06.94z\"/><path d=\"M17.41 7.96l-1.37-1.37c-.4-.4-.92-.59-1.43-.59-.52 0-1.04.2-1.43.59L10.3 9.45l-7.72 7.72c-.78.78-.78 2.05 0 2.83L4 21.41c.39.39.9.59 1.41.59.51 0 1.02-.2 1.41-.59l7.78-7.78 2.81-2.81c.8-.78.8-2.07 0-2.86zM5.41 20L4 18.59l7.72-7.72 1.47 1.35L5.41 20z\"/>\n",
              "  </svg>\n",
              "      </button>\n",
              "\n",
              "\n",
              "\n",
              "    <div id=\"df-c1316f29-edc5-45da-b820-3d56a96c2d60\">\n",
              "      <button class=\"colab-df-quickchart\" onclick=\"quickchart('df-c1316f29-edc5-45da-b820-3d56a96c2d60')\"\n",
              "              title=\"Suggest charts.\"\n",
              "              style=\"display:none;\">\n",
              "\n",
              "<svg xmlns=\"http://www.w3.org/2000/svg\" height=\"24px\"viewBox=\"0 0 24 24\"\n",
              "     width=\"24px\">\n",
              "    <g>\n",
              "        <path d=\"M19 3H5c-1.1 0-2 .9-2 2v14c0 1.1.9 2 2 2h14c1.1 0 2-.9 2-2V5c0-1.1-.9-2-2-2zM9 17H7v-7h2v7zm4 0h-2V7h2v10zm4 0h-2v-4h2v4z\"/>\n",
              "    </g>\n",
              "</svg>\n",
              "      </button>\n",
              "    </div>\n",
              "\n",
              "<style>\n",
              "  .colab-df-quickchart {\n",
              "    background-color: #E8F0FE;\n",
              "    border: none;\n",
              "    border-radius: 50%;\n",
              "    cursor: pointer;\n",
              "    display: none;\n",
              "    fill: #1967D2;\n",
              "    height: 32px;\n",
              "    padding: 0 0 0 0;\n",
              "    width: 32px;\n",
              "  }\n",
              "\n",
              "  .colab-df-quickchart:hover {\n",
              "    background-color: #E2EBFA;\n",
              "    box-shadow: 0px 1px 2px rgba(60, 64, 67, 0.3), 0px 1px 3px 1px rgba(60, 64, 67, 0.15);\n",
              "    fill: #174EA6;\n",
              "  }\n",
              "\n",
              "  [theme=dark] .colab-df-quickchart {\n",
              "    background-color: #3B4455;\n",
              "    fill: #D2E3FC;\n",
              "  }\n",
              "\n",
              "  [theme=dark] .colab-df-quickchart:hover {\n",
              "    background-color: #434B5C;\n",
              "    box-shadow: 0px 1px 3px 1px rgba(0, 0, 0, 0.15);\n",
              "    filter: drop-shadow(0px 1px 2px rgba(0, 0, 0, 0.3));\n",
              "    fill: #FFFFFF;\n",
              "  }\n",
              "</style>\n",
              "\n",
              "    <script>\n",
              "      async function quickchart(key) {\n",
              "        const containerElement = document.querySelector('#' + key);\n",
              "        const charts = await google.colab.kernel.invokeFunction(\n",
              "            'suggestCharts', [key], {});\n",
              "      }\n",
              "    </script>\n",
              "\n",
              "      <script>\n",
              "\n",
              "function displayQuickchartButton(domScope) {\n",
              "  let quickchartButtonEl =\n",
              "    domScope.querySelector('#df-c1316f29-edc5-45da-b820-3d56a96c2d60 button.colab-df-quickchart');\n",
              "  quickchartButtonEl.style.display =\n",
              "    google.colab.kernel.accessAllowed ? 'block' : 'none';\n",
              "}\n",
              "\n",
              "        displayQuickchartButton(document);\n",
              "      </script>\n",
              "      <style>\n",
              "    .colab-df-container {\n",
              "      display:flex;\n",
              "      flex-wrap:wrap;\n",
              "      gap: 12px;\n",
              "    }\n",
              "\n",
              "    .colab-df-convert {\n",
              "      background-color: #E8F0FE;\n",
              "      border: none;\n",
              "      border-radius: 50%;\n",
              "      cursor: pointer;\n",
              "      display: none;\n",
              "      fill: #1967D2;\n",
              "      height: 32px;\n",
              "      padding: 0 0 0 0;\n",
              "      width: 32px;\n",
              "    }\n",
              "\n",
              "    .colab-df-convert:hover {\n",
              "      background-color: #E2EBFA;\n",
              "      box-shadow: 0px 1px 2px rgba(60, 64, 67, 0.3), 0px 1px 3px 1px rgba(60, 64, 67, 0.15);\n",
              "      fill: #174EA6;\n",
              "    }\n",
              "\n",
              "    [theme=dark] .colab-df-convert {\n",
              "      background-color: #3B4455;\n",
              "      fill: #D2E3FC;\n",
              "    }\n",
              "\n",
              "    [theme=dark] .colab-df-convert:hover {\n",
              "      background-color: #434B5C;\n",
              "      box-shadow: 0px 1px 3px 1px rgba(0, 0, 0, 0.15);\n",
              "      filter: drop-shadow(0px 1px 2px rgba(0, 0, 0, 0.3));\n",
              "      fill: #FFFFFF;\n",
              "    }\n",
              "  </style>\n",
              "\n",
              "      <script>\n",
              "        const buttonEl =\n",
              "          document.querySelector('#df-b4c9b4ca-a26f-4057-b094-2a4747d2e2c4 button.colab-df-convert');\n",
              "        buttonEl.style.display =\n",
              "          google.colab.kernel.accessAllowed ? 'block' : 'none';\n",
              "\n",
              "        async function convertToInteractive(key) {\n",
              "          const element = document.querySelector('#df-b4c9b4ca-a26f-4057-b094-2a4747d2e2c4');\n",
              "          const dataTable =\n",
              "            await google.colab.kernel.invokeFunction('convertToInteractive',\n",
              "                                                     [key], {});\n",
              "          if (!dataTable) return;\n",
              "\n",
              "          const docLinkHtml = 'Like what you see? Visit the ' +\n",
              "            '<a target=\"_blank\" href=https://colab.research.google.com/notebooks/data_table.ipynb>data table notebook</a>'\n",
              "            + ' to learn more about interactive tables.';\n",
              "          element.innerHTML = '';\n",
              "          dataTable['output_type'] = 'display_data';\n",
              "          await google.colab.output.renderOutput(dataTable, element);\n",
              "          const docLink = document.createElement('div');\n",
              "          docLink.innerHTML = docLinkHtml;\n",
              "          element.appendChild(docLink);\n",
              "        }\n",
              "      </script>\n",
              "    </div>\n",
              "  </div>\n"
            ]
          },
          "metadata": {},
          "execution_count": 4
        }
      ],
      "source": [
        "csv_path = Path(\"BVData.csv\")\n",
        "df = pd.read_csv(csv_path)\n",
        "\n",
        "# Convert into a DateTime type\n",
        "df[\"DateTime\"] = pd.to_datetime(df[\"DateTime\"], format=\"%Y-%m-%d %H:%M\")\n",
        "df.drop([\"Date\", \"Time\"], axis=1, inplace=True)\n",
        "df.head()"
      ]
    },
    {
      "cell_type": "code",
      "execution_count": null,
      "metadata": {
        "id": "78R7f9nclInK",
        "outputId": "b5a38bf5-8b17-427d-de87-5bd0779bd18c",
        "colab": {
          "base_uri": "https://localhost:8080/"
        }
      },
      "outputs": [
        {
          "output_type": "stream",
          "name": "stdout",
          "text": [
            "<class 'pandas.core.frame.DataFrame'>\n",
            "RangeIndex: 21888 entries, 0 to 21887\n",
            "Data columns (total 24 columns):\n",
            " #   Column    Non-Null Count  Dtype         \n",
            "---  ------    --------------  -----         \n",
            " 0   DateTime  21888 non-null  datetime64[ns]\n",
            " 1   Month     21888 non-null  int64         \n",
            " 2   1         21888 non-null  float64       \n",
            " 3   2         21888 non-null  float64       \n",
            " 4   3         21888 non-null  float64       \n",
            " 5   4         21888 non-null  float64       \n",
            " 6   5         21888 non-null  float64       \n",
            " 7   6         21888 non-null  float64       \n",
            " 8   7         21888 non-null  float64       \n",
            " 9   8         21888 non-null  float64       \n",
            " 10  9         21888 non-null  float64       \n",
            " 11  10        21888 non-null  float64       \n",
            " 12  11        21888 non-null  float64       \n",
            " 13  12        21888 non-null  float64       \n",
            " 14  13        21888 non-null  float64       \n",
            " 15  14        21888 non-null  float64       \n",
            " 16  15        21888 non-null  float64       \n",
            " 17  16        21888 non-null  float64       \n",
            " 18  17        21888 non-null  float64       \n",
            " 19  18        21888 non-null  float64       \n",
            " 20  19        21888 non-null  float64       \n",
            " 21  20        21888 non-null  float64       \n",
            " 22  21        21888 non-null  float64       \n",
            " 23  QV        21888 non-null  float64       \n",
            "dtypes: datetime64[ns](1), float64(22), int64(1)\n",
            "memory usage: 4.0 MB\n"
          ]
        }
      ],
      "source": [
        "df.info()"
      ]
    },
    {
      "cell_type": "markdown",
      "metadata": {
        "id": "bLfCW2Q_lInK"
      },
      "source": [
        "## DATA PREPROCESSING"
      ]
    },
    {
      "cell_type": "markdown",
      "metadata": {
        "id": "dyceYdoAlInL"
      },
      "source": [
        "### Feature engineering"
      ]
    },
    {
      "cell_type": "markdown",
      "metadata": {
        "id": "rrGwl8JelInM"
      },
      "source": [
        "#### Date related features"
      ]
    },
    {
      "cell_type": "code",
      "execution_count": null,
      "metadata": {
        "id": "QIb5RdAwlInM",
        "outputId": "eef5bf74-53b6-4f52-a652-11657dc7e58d",
        "colab": {
          "base_uri": "https://localhost:8080/",
          "height": 267
        }
      },
      "outputs": [
        {
          "output_type": "execute_result",
          "data": {
            "text/plain": [
              "                     Month    1    2    3    4    5    6    7    8    9  ...  \\\n",
              "DateTime                                                                 ...   \n",
              "2020-01-01 00:00:00      1  0.2  0.0  0.0  0.0  0.0  0.0  0.0  0.0  0.2  ...   \n",
              "2020-01-01 01:00:00      1  0.2  0.0  0.0  0.0  0.0  0.0  0.0  0.0  0.0  ...   \n",
              "2020-01-01 02:00:00      1  0.6  0.0  0.0  0.0  0.2  0.2  0.0  0.0  0.2  ...   \n",
              "2020-01-01 03:00:00      1  0.6  0.0  0.0  0.0  0.6  0.2  0.0  0.0  0.0  ...   \n",
              "2020-01-01 04:00:00      1  0.4  0.0  0.0  0.0  0.8  0.2  0.0  0.0  0.0  ...   \n",
              "\n",
              "                      17   18   19   20   21    QV  Day_of_month  Day_of_week  \\\n",
              "DateTime                                                                        \n",
              "2020-01-01 00:00:00  0.0  0.0  0.0  0.0  0.0  31.0             1            2   \n",
              "2020-01-01 01:00:00  0.0  0.0  0.0  0.0  0.0  31.0             1            2   \n",
              "2020-01-01 02:00:00  0.0  0.0  0.0  0.0  0.0  31.0             1            2   \n",
              "2020-01-01 03:00:00  0.0  0.0  0.0  0.0  0.0  31.0             1            2   \n",
              "2020-01-01 04:00:00  0.0  0.0  0.0  0.0  0.0  31.0             1            2   \n",
              "\n",
              "                     Hour  Week  \n",
              "DateTime                         \n",
              "2020-01-01 00:00:00     0     1  \n",
              "2020-01-01 01:00:00     1     1  \n",
              "2020-01-01 02:00:00     2     1  \n",
              "2020-01-01 03:00:00     3     1  \n",
              "2020-01-01 04:00:00     4     1  \n",
              "\n",
              "[5 rows x 27 columns]"
            ],
            "text/html": [
              "\n",
              "\n",
              "  <div id=\"df-eb6e8e1b-ab72-44df-946d-1ea9497d2800\">\n",
              "    <div class=\"colab-df-container\">\n",
              "      <div>\n",
              "<style scoped>\n",
              "    .dataframe tbody tr th:only-of-type {\n",
              "        vertical-align: middle;\n",
              "    }\n",
              "\n",
              "    .dataframe tbody tr th {\n",
              "        vertical-align: top;\n",
              "    }\n",
              "\n",
              "    .dataframe thead th {\n",
              "        text-align: right;\n",
              "    }\n",
              "</style>\n",
              "<table border=\"1\" class=\"dataframe\">\n",
              "  <thead>\n",
              "    <tr style=\"text-align: right;\">\n",
              "      <th></th>\n",
              "      <th>Month</th>\n",
              "      <th>1</th>\n",
              "      <th>2</th>\n",
              "      <th>3</th>\n",
              "      <th>4</th>\n",
              "      <th>5</th>\n",
              "      <th>6</th>\n",
              "      <th>7</th>\n",
              "      <th>8</th>\n",
              "      <th>9</th>\n",
              "      <th>...</th>\n",
              "      <th>17</th>\n",
              "      <th>18</th>\n",
              "      <th>19</th>\n",
              "      <th>20</th>\n",
              "      <th>21</th>\n",
              "      <th>QV</th>\n",
              "      <th>Day_of_month</th>\n",
              "      <th>Day_of_week</th>\n",
              "      <th>Hour</th>\n",
              "      <th>Week</th>\n",
              "    </tr>\n",
              "    <tr>\n",
              "      <th>DateTime</th>\n",
              "      <th></th>\n",
              "      <th></th>\n",
              "      <th></th>\n",
              "      <th></th>\n",
              "      <th></th>\n",
              "      <th></th>\n",
              "      <th></th>\n",
              "      <th></th>\n",
              "      <th></th>\n",
              "      <th></th>\n",
              "      <th></th>\n",
              "      <th></th>\n",
              "      <th></th>\n",
              "      <th></th>\n",
              "      <th></th>\n",
              "      <th></th>\n",
              "      <th></th>\n",
              "      <th></th>\n",
              "      <th></th>\n",
              "      <th></th>\n",
              "      <th></th>\n",
              "    </tr>\n",
              "  </thead>\n",
              "  <tbody>\n",
              "    <tr>\n",
              "      <th>2020-01-01 00:00:00</th>\n",
              "      <td>1</td>\n",
              "      <td>0.2</td>\n",
              "      <td>0.0</td>\n",
              "      <td>0.0</td>\n",
              "      <td>0.0</td>\n",
              "      <td>0.0</td>\n",
              "      <td>0.0</td>\n",
              "      <td>0.0</td>\n",
              "      <td>0.0</td>\n",
              "      <td>0.2</td>\n",
              "      <td>...</td>\n",
              "      <td>0.0</td>\n",
              "      <td>0.0</td>\n",
              "      <td>0.0</td>\n",
              "      <td>0.0</td>\n",
              "      <td>0.0</td>\n",
              "      <td>31.0</td>\n",
              "      <td>1</td>\n",
              "      <td>2</td>\n",
              "      <td>0</td>\n",
              "      <td>1</td>\n",
              "    </tr>\n",
              "    <tr>\n",
              "      <th>2020-01-01 01:00:00</th>\n",
              "      <td>1</td>\n",
              "      <td>0.2</td>\n",
              "      <td>0.0</td>\n",
              "      <td>0.0</td>\n",
              "      <td>0.0</td>\n",
              "      <td>0.0</td>\n",
              "      <td>0.0</td>\n",
              "      <td>0.0</td>\n",
              "      <td>0.0</td>\n",
              "      <td>0.0</td>\n",
              "      <td>...</td>\n",
              "      <td>0.0</td>\n",
              "      <td>0.0</td>\n",
              "      <td>0.0</td>\n",
              "      <td>0.0</td>\n",
              "      <td>0.0</td>\n",
              "      <td>31.0</td>\n",
              "      <td>1</td>\n",
              "      <td>2</td>\n",
              "      <td>1</td>\n",
              "      <td>1</td>\n",
              "    </tr>\n",
              "    <tr>\n",
              "      <th>2020-01-01 02:00:00</th>\n",
              "      <td>1</td>\n",
              "      <td>0.6</td>\n",
              "      <td>0.0</td>\n",
              "      <td>0.0</td>\n",
              "      <td>0.0</td>\n",
              "      <td>0.2</td>\n",
              "      <td>0.2</td>\n",
              "      <td>0.0</td>\n",
              "      <td>0.0</td>\n",
              "      <td>0.2</td>\n",
              "      <td>...</td>\n",
              "      <td>0.0</td>\n",
              "      <td>0.0</td>\n",
              "      <td>0.0</td>\n",
              "      <td>0.0</td>\n",
              "      <td>0.0</td>\n",
              "      <td>31.0</td>\n",
              "      <td>1</td>\n",
              "      <td>2</td>\n",
              "      <td>2</td>\n",
              "      <td>1</td>\n",
              "    </tr>\n",
              "    <tr>\n",
              "      <th>2020-01-01 03:00:00</th>\n",
              "      <td>1</td>\n",
              "      <td>0.6</td>\n",
              "      <td>0.0</td>\n",
              "      <td>0.0</td>\n",
              "      <td>0.0</td>\n",
              "      <td>0.6</td>\n",
              "      <td>0.2</td>\n",
              "      <td>0.0</td>\n",
              "      <td>0.0</td>\n",
              "      <td>0.0</td>\n",
              "      <td>...</td>\n",
              "      <td>0.0</td>\n",
              "      <td>0.0</td>\n",
              "      <td>0.0</td>\n",
              "      <td>0.0</td>\n",
              "      <td>0.0</td>\n",
              "      <td>31.0</td>\n",
              "      <td>1</td>\n",
              "      <td>2</td>\n",
              "      <td>3</td>\n",
              "      <td>1</td>\n",
              "    </tr>\n",
              "    <tr>\n",
              "      <th>2020-01-01 04:00:00</th>\n",
              "      <td>1</td>\n",
              "      <td>0.4</td>\n",
              "      <td>0.0</td>\n",
              "      <td>0.0</td>\n",
              "      <td>0.0</td>\n",
              "      <td>0.8</td>\n",
              "      <td>0.2</td>\n",
              "      <td>0.0</td>\n",
              "      <td>0.0</td>\n",
              "      <td>0.0</td>\n",
              "      <td>...</td>\n",
              "      <td>0.0</td>\n",
              "      <td>0.0</td>\n",
              "      <td>0.0</td>\n",
              "      <td>0.0</td>\n",
              "      <td>0.0</td>\n",
              "      <td>31.0</td>\n",
              "      <td>1</td>\n",
              "      <td>2</td>\n",
              "      <td>4</td>\n",
              "      <td>1</td>\n",
              "    </tr>\n",
              "  </tbody>\n",
              "</table>\n",
              "<p>5 rows × 27 columns</p>\n",
              "</div>\n",
              "      <button class=\"colab-df-convert\" onclick=\"convertToInteractive('df-eb6e8e1b-ab72-44df-946d-1ea9497d2800')\"\n",
              "              title=\"Convert this dataframe to an interactive table.\"\n",
              "              style=\"display:none;\">\n",
              "\n",
              "  <svg xmlns=\"http://www.w3.org/2000/svg\" height=\"24px\"viewBox=\"0 0 24 24\"\n",
              "       width=\"24px\">\n",
              "    <path d=\"M0 0h24v24H0V0z\" fill=\"none\"/>\n",
              "    <path d=\"M18.56 5.44l.94 2.06.94-2.06 2.06-.94-2.06-.94-.94-2.06-.94 2.06-2.06.94zm-11 1L8.5 8.5l.94-2.06 2.06-.94-2.06-.94L8.5 2.5l-.94 2.06-2.06.94zm10 10l.94 2.06.94-2.06 2.06-.94-2.06-.94-.94-2.06-.94 2.06-2.06.94z\"/><path d=\"M17.41 7.96l-1.37-1.37c-.4-.4-.92-.59-1.43-.59-.52 0-1.04.2-1.43.59L10.3 9.45l-7.72 7.72c-.78.78-.78 2.05 0 2.83L4 21.41c.39.39.9.59 1.41.59.51 0 1.02-.2 1.41-.59l7.78-7.78 2.81-2.81c.8-.78.8-2.07 0-2.86zM5.41 20L4 18.59l7.72-7.72 1.47 1.35L5.41 20z\"/>\n",
              "  </svg>\n",
              "      </button>\n",
              "\n",
              "\n",
              "\n",
              "    <div id=\"df-4d8eed9b-537c-49d1-8abd-20da7e615872\">\n",
              "      <button class=\"colab-df-quickchart\" onclick=\"quickchart('df-4d8eed9b-537c-49d1-8abd-20da7e615872')\"\n",
              "              title=\"Suggest charts.\"\n",
              "              style=\"display:none;\">\n",
              "\n",
              "<svg xmlns=\"http://www.w3.org/2000/svg\" height=\"24px\"viewBox=\"0 0 24 24\"\n",
              "     width=\"24px\">\n",
              "    <g>\n",
              "        <path d=\"M19 3H5c-1.1 0-2 .9-2 2v14c0 1.1.9 2 2 2h14c1.1 0 2-.9 2-2V5c0-1.1-.9-2-2-2zM9 17H7v-7h2v7zm4 0h-2V7h2v10zm4 0h-2v-4h2v4z\"/>\n",
              "    </g>\n",
              "</svg>\n",
              "      </button>\n",
              "    </div>\n",
              "\n",
              "<style>\n",
              "  .colab-df-quickchart {\n",
              "    background-color: #E8F0FE;\n",
              "    border: none;\n",
              "    border-radius: 50%;\n",
              "    cursor: pointer;\n",
              "    display: none;\n",
              "    fill: #1967D2;\n",
              "    height: 32px;\n",
              "    padding: 0 0 0 0;\n",
              "    width: 32px;\n",
              "  }\n",
              "\n",
              "  .colab-df-quickchart:hover {\n",
              "    background-color: #E2EBFA;\n",
              "    box-shadow: 0px 1px 2px rgba(60, 64, 67, 0.3), 0px 1px 3px 1px rgba(60, 64, 67, 0.15);\n",
              "    fill: #174EA6;\n",
              "  }\n",
              "\n",
              "  [theme=dark] .colab-df-quickchart {\n",
              "    background-color: #3B4455;\n",
              "    fill: #D2E3FC;\n",
              "  }\n",
              "\n",
              "  [theme=dark] .colab-df-quickchart:hover {\n",
              "    background-color: #434B5C;\n",
              "    box-shadow: 0px 1px 3px 1px rgba(0, 0, 0, 0.15);\n",
              "    filter: drop-shadow(0px 1px 2px rgba(0, 0, 0, 0.3));\n",
              "    fill: #FFFFFF;\n",
              "  }\n",
              "</style>\n",
              "\n",
              "    <script>\n",
              "      async function quickchart(key) {\n",
              "        const containerElement = document.querySelector('#' + key);\n",
              "        const charts = await google.colab.kernel.invokeFunction(\n",
              "            'suggestCharts', [key], {});\n",
              "      }\n",
              "    </script>\n",
              "\n",
              "      <script>\n",
              "\n",
              "function displayQuickchartButton(domScope) {\n",
              "  let quickchartButtonEl =\n",
              "    domScope.querySelector('#df-4d8eed9b-537c-49d1-8abd-20da7e615872 button.colab-df-quickchart');\n",
              "  quickchartButtonEl.style.display =\n",
              "    google.colab.kernel.accessAllowed ? 'block' : 'none';\n",
              "}\n",
              "\n",
              "        displayQuickchartButton(document);\n",
              "      </script>\n",
              "      <style>\n",
              "    .colab-df-container {\n",
              "      display:flex;\n",
              "      flex-wrap:wrap;\n",
              "      gap: 12px;\n",
              "    }\n",
              "\n",
              "    .colab-df-convert {\n",
              "      background-color: #E8F0FE;\n",
              "      border: none;\n",
              "      border-radius: 50%;\n",
              "      cursor: pointer;\n",
              "      display: none;\n",
              "      fill: #1967D2;\n",
              "      height: 32px;\n",
              "      padding: 0 0 0 0;\n",
              "      width: 32px;\n",
              "    }\n",
              "\n",
              "    .colab-df-convert:hover {\n",
              "      background-color: #E2EBFA;\n",
              "      box-shadow: 0px 1px 2px rgba(60, 64, 67, 0.3), 0px 1px 3px 1px rgba(60, 64, 67, 0.15);\n",
              "      fill: #174EA6;\n",
              "    }\n",
              "\n",
              "    [theme=dark] .colab-df-convert {\n",
              "      background-color: #3B4455;\n",
              "      fill: #D2E3FC;\n",
              "    }\n",
              "\n",
              "    [theme=dark] .colab-df-convert:hover {\n",
              "      background-color: #434B5C;\n",
              "      box-shadow: 0px 1px 3px 1px rgba(0, 0, 0, 0.15);\n",
              "      filter: drop-shadow(0px 1px 2px rgba(0, 0, 0, 0.3));\n",
              "      fill: #FFFFFF;\n",
              "    }\n",
              "  </style>\n",
              "\n",
              "      <script>\n",
              "        const buttonEl =\n",
              "          document.querySelector('#df-eb6e8e1b-ab72-44df-946d-1ea9497d2800 button.colab-df-convert');\n",
              "        buttonEl.style.display =\n",
              "          google.colab.kernel.accessAllowed ? 'block' : 'none';\n",
              "\n",
              "        async function convertToInteractive(key) {\n",
              "          const element = document.querySelector('#df-eb6e8e1b-ab72-44df-946d-1ea9497d2800');\n",
              "          const dataTable =\n",
              "            await google.colab.kernel.invokeFunction('convertToInteractive',\n",
              "                                                     [key], {});\n",
              "          if (!dataTable) return;\n",
              "\n",
              "          const docLinkHtml = 'Like what you see? Visit the ' +\n",
              "            '<a target=\"_blank\" href=https://colab.research.google.com/notebooks/data_table.ipynb>data table notebook</a>'\n",
              "            + ' to learn more about interactive tables.';\n",
              "          element.innerHTML = '';\n",
              "          dataTable['output_type'] = 'display_data';\n",
              "          await google.colab.output.renderOutput(dataTable, element);\n",
              "          const docLink = document.createElement('div');\n",
              "          docLink.innerHTML = docLinkHtml;\n",
              "          element.appendChild(docLink);\n",
              "        }\n",
              "      </script>\n",
              "    </div>\n",
              "  </div>\n"
            ]
          },
          "metadata": {},
          "execution_count": 6
        }
      ],
      "source": [
        "# Day in a month\n",
        "df[\"Day_of_month\"] = df.DateTime.apply(lambda x: x.day)\n",
        "# Day in a week\n",
        "df[\"Day_of_week\"] = df.DateTime.apply(lambda x: x.dayofweek)\n",
        "# 24-hour based\n",
        "df[\"Hour\"] = df.DateTime.apply(lambda x: x.hour)\n",
        "# Week in a year\n",
        "df[\"Week\"] = df.DateTime.apply(lambda x: x.week)\n",
        "\n",
        "# Set \"DateTime\" column as row index\n",
        "df = df.set_index(\"DateTime\")\n",
        "df.head()"
      ]
    },
    {
      "cell_type": "code",
      "execution_count": null,
      "metadata": {
        "id": "4ejAIiFClInN"
      },
      "outputs": [],
      "source": [
        "# Move target to the last column\n",
        "target_feature = \"QV\"\n",
        "df.insert(len(df.columns)-1, target_feature, df.pop(target_feature))"
      ]
    },
    {
      "cell_type": "markdown",
      "metadata": {
        "id": "UFoPrbt_lInR"
      },
      "source": [
        "### Hyperparameters"
      ]
    },
    {
      "cell_type": "code",
      "execution_count": null,
      "metadata": {
        "id": "fjBZmQgRlInR"
      },
      "outputs": [],
      "source": [
        "batch_size = 32\n",
        "past_len = 24\n",
        "pred_len = 12\n",
        "\n",
        "input_size = df.shape[1]\n",
        "output_size = 1\n",
        "hidden_size = 64\n",
        "num_layers = 1\n",
        "\n",
        "num_epochs = 100\n",
        "learning_rate = 5e-3\n",
        "es_patience = 15\n",
        "lr_patience = 5\n",
        "\n",
        "model_save_path = \"checkpoint_lstm.pth\""
      ]
    },
    {
      "cell_type": "markdown",
      "metadata": {
        "id": "hwEjPG4BlInR"
      },
      "source": [
        "## DATASET PIPELINE"
      ]
    },
    {
      "cell_type": "markdown",
      "metadata": {
        "id": "VAXfdCgolInS"
      },
      "source": [
        "### Feature scaling\n",
        "Use natural log transformation (with one plus element-wise since log does not accept zero)"
      ]
    },
    {
      "cell_type": "code",
      "execution_count": null,
      "metadata": {
        "id": "Ifa03l98lInS"
      },
      "outputs": [],
      "source": [
        "data_scaled = np.log1p(df.values)"
      ]
    },
    {
      "cell_type": "markdown",
      "metadata": {
        "id": "4aLfZcU3lInT"
      },
      "source": [
        "### Train-Val-Test split"
      ]
    },
    {
      "cell_type": "code",
      "execution_count": null,
      "metadata": {
        "id": "IwqKtHeBlInN"
      },
      "outputs": [],
      "source": [
        "train_ratio, val_ratio = 0.7, 0.2\n",
        "train_size = int(len(df) * train_ratio)\n",
        "val_size = int(len(df) * val_ratio)"
      ]
    },
    {
      "cell_type": "code",
      "execution_count": null,
      "metadata": {
        "id": "mvmnP1M2lInU",
        "outputId": "8a229415-de00-4c75-9ce8-feed761c4c6c",
        "colab": {
          "base_uri": "https://localhost:8080/"
        }
      },
      "outputs": [
        {
          "output_type": "stream",
          "name": "stdout",
          "text": [
            "Training Shape: (15321, 27)\n",
            "Validation Shape: (4377, 27)\n",
            "Testing Shape: (2190, 27)\n"
          ]
        }
      ],
      "source": [
        "train_data = data_scaled[: train_size]\n",
        "val_data = data_scaled[train_size : train_size+val_size]\n",
        "test_data = data_scaled[train_size+val_size :]\n",
        "\n",
        "print(\"Training Shape:\", train_data.shape)\n",
        "print(\"Validation Shape:\", val_data.shape)\n",
        "print(\"Testing Shape:\", test_data.shape)"
      ]
    },
    {
      "cell_type": "markdown",
      "metadata": {
        "id": "ZSyPFqPSlInU"
      },
      "source": [
        "### Create Custom Dataset"
      ]
    },
    {
      "cell_type": "markdown",
      "metadata": {
        "id": "0T3QqB4IlInU"
      },
      "source": [
        "#### Generate data sequences"
      ]
    },
    {
      "cell_type": "code",
      "source": [
        "class TimeSeriesDataset(Dataset):\n",
        "    def __init__(self, data, past_len=past_len, pred_len=pred_len):\n",
        "        # Create data sequences\n",
        "        data_len = data.shape[0]\n",
        "        X, Y = list(), list()\n",
        "\n",
        "        for i in range(data_len):\n",
        "            input_end = i + past_len\n",
        "            output_end = input_end + pred_len\n",
        "            # check if we are beyond the dataset\n",
        "            if output_end > data_len:\n",
        "                break\n",
        "            else:\n",
        "                X.append(data[i:input_end])\n",
        "                Y.append(data[input_end:output_end, -1])\n",
        "\n",
        "        # Shape (samples, seq_len, features)\n",
        "        self.X = np.array(X)\n",
        "        # Shape (samples, seq_len, ) : univariate\n",
        "        self.Y = np.array(Y)\n",
        "\n",
        "    def __len__(self):\n",
        "        # return the size of the dataset\n",
        "        return len(self.X)\n",
        "\n",
        "    def __getitem__(self, idx):\n",
        "        # return one sample from the dataset\n",
        "        features = self.X[idx]\n",
        "        target = self.Y[idx]\n",
        "        return features, target"
      ],
      "metadata": {
        "id": "u3Gim4TKiNNF"
      },
      "execution_count": null,
      "outputs": []
    },
    {
      "cell_type": "code",
      "execution_count": null,
      "metadata": {
        "id": "WPBJBHBzlInV"
      },
      "outputs": [],
      "source": [
        "train_dataset = TimeSeriesDataset(train_data)\n",
        "val_dataset = TimeSeriesDataset(val_data)\n",
        "test_dataset = TimeSeriesDataset(test_data)"
      ]
    },
    {
      "cell_type": "markdown",
      "metadata": {
        "id": "tfqRvYhglInV"
      },
      "source": [
        "#### Generate from PyTorch's `DataLoader` class"
      ]
    },
    {
      "cell_type": "code",
      "execution_count": null,
      "metadata": {
        "id": "qP07wzJrlInW"
      },
      "outputs": [],
      "source": [
        "train_loader = DataLoader(train_dataset, batch_size=batch_size, shuffle=True)\n",
        "val_loader = DataLoader(val_dataset, batch_size=batch_size, shuffle=False)\n",
        "test_loader = DataLoader(test_dataset, batch_size=batch_size, shuffle=False)"
      ]
    },
    {
      "cell_type": "code",
      "execution_count": null,
      "metadata": {
        "id": "41qVYJEblInm",
        "outputId": "b9a0f398-a076-457a-9b7f-77a4a3c0c688",
        "colab": {
          "base_uri": "https://localhost:8080/"
        }
      },
      "outputs": [
        {
          "output_type": "stream",
          "name": "stdout",
          "text": [
            "Features shape: torch.Size([32, 24, 27])\n",
            "Target shape: torch.Size([32, 12])\n"
          ]
        }
      ],
      "source": [
        "X, y = next(iter(train_loader))\n",
        "\n",
        "print(\"Features shape:\", X.size())\n",
        "print(\"Target shape:\", y.size())"
      ]
    },
    {
      "cell_type": "markdown",
      "metadata": {
        "id": "hBBYO3ktlInn"
      },
      "source": [
        "## MODEL AND LEARNING ALGORITHM"
      ]
    },
    {
      "cell_type": "markdown",
      "metadata": {
        "id": "Wge0T9e-lInn"
      },
      "source": [
        "### Model architecture"
      ]
    },
    {
      "cell_type": "code",
      "execution_count": null,
      "metadata": {
        "id": "0TcwIoDvlInn"
      },
      "outputs": [],
      "source": [
        "class LSTMModel(nn.Module):\n",
        "\n",
        "    def __init__(self, input_size, pred_len, hidden_size, num_layers):\n",
        "        super(LSTMModel, self).__init__()\n",
        "        self.input_size = input_size\n",
        "        self.pred_len = pred_len\n",
        "        self.hidden_size = hidden_size # neurons in each lstm layer\n",
        "        self.num_layers = num_layers # recurrent layers in the lstm\n",
        "        # LSTM\n",
        "        self.lstm = nn.LSTM(\n",
        "            input_size=self.input_size,\n",
        "            hidden_size=self.hidden_size,\n",
        "            num_layers=self.num_layers,\n",
        "            batch_first=True\n",
        "        )\n",
        "        # Output layer\n",
        "        self.fc = nn.Linear(self.hidden_size, self.pred_len)\n",
        "\n",
        "\n",
        "    def forward(self, x):\n",
        "        # Initialize hidden and cell states with zeros\n",
        "        # shape (num_layers, batch_size, hidden_size)\n",
        "        h0 = torch.zeros(self.num_layers, x.size(0), self.hidden_size).to(device)\n",
        "        c0 = torch.zeros(self.num_layers, x.size(0), self.hidden_size).to(device)\n",
        "        # Forward propagation\n",
        "        # out: tensor of shape (batch_size, seq_length, hidden_size)\n",
        "        out, ht = self.lstm(x, (h0, c0))\n",
        "        # Decode the hidden state of the last time step\n",
        "        out = self.fc(out[:, -1, :])\n",
        "\n",
        "        return out"
      ]
    },
    {
      "cell_type": "code",
      "execution_count": null,
      "metadata": {
        "id": "VEMgA5fslIno",
        "outputId": "93d48f9c-e101-43e8-ebd4-7b8ababdd279",
        "colab": {
          "base_uri": "https://localhost:8080/"
        }
      },
      "outputs": [
        {
          "output_type": "stream",
          "name": "stdout",
          "text": [
            "LSTMModel(\n",
            "  (lstm): LSTM(27, 64, batch_first=True)\n",
            "  (fc): Linear(in_features=64, out_features=12, bias=True)\n",
            ")\n",
            "\n",
            "Total parameters: 24588\n",
            "Learnable parameters: 24588\n"
          ]
        }
      ],
      "source": [
        "model = LSTMModel(input_size, pred_len, hidden_size, num_layers).to(device)\n",
        "total_params = sum(p.numel() for p in model.parameters())\n",
        "learn_params = sum(p.numel() for p in model.parameters() if p.requires_grad)\n",
        "\n",
        "print(model)\n",
        "print(f\"\\nTotal parameters: {total_params}\")\n",
        "print(f\"Learnable parameters: {learn_params}\")"
      ]
    },
    {
      "cell_type": "markdown",
      "metadata": {
        "id": "CIa-lfpPlIno"
      },
      "source": [
        "### Loss and Optimizer"
      ]
    },
    {
      "cell_type": "code",
      "execution_count": null,
      "metadata": {
        "id": "fIpHHxK_lIno"
      },
      "outputs": [],
      "source": [
        "loss_func = nn.MSELoss()\n",
        "opt = optim.Adam(model.parameters(), lr=learning_rate)"
      ]
    },
    {
      "cell_type": "markdown",
      "metadata": {
        "id": "D3AN-CvIlIno"
      },
      "source": [
        "### Callbacks"
      ]
    },
    {
      "cell_type": "code",
      "execution_count": null,
      "metadata": {
        "id": "A5rP0_06lInp"
      },
      "outputs": [],
      "source": [
        "# Early Stopping\n",
        "# Stop training if validation loss does not improve\n",
        "class EarlyStopping:\n",
        "\n",
        "    def __init__(self, patience, model_save_path, min_delta=0):\n",
        "        self.patience = patience\n",
        "        self.min_delta = min_delta\n",
        "        self.model_save_path = model_save_path\n",
        "        self.counter = 0\n",
        "        self.min_validation_loss = np.inf\n",
        "        self.best_epoch = 0\n",
        "        self.early_stop = False\n",
        "\n",
        "\n",
        "    def __call__(self, epoch, model, validation_loss):\n",
        "        delta_loss = self.min_validation_loss - validation_loss\n",
        "        # Check if val loss is smaller than min loss\n",
        "        if delta_loss > self.min_delta:\n",
        "            self.min_validation_loss = validation_loss\n",
        "            self.counter = 0\n",
        "            # Save best model\n",
        "            self.best_epoch = epoch\n",
        "            torch.save(model.state_dict(), self.model_save_path)\n",
        "        else:\n",
        "            self.counter += 1\n",
        "            if self.counter >= self.patience:\n",
        "                print(f\"Early Stopping.\")\n",
        "                print(f\"Save best model at epoch {self.best_epoch}\")\n",
        "                self.early_stop = True"
      ]
    },
    {
      "cell_type": "code",
      "execution_count": null,
      "metadata": {
        "id": "YRazzusflInp"
      },
      "outputs": [],
      "source": [
        "# ReduceLROnPlateau\n",
        "# Reduce learning rate when validation loss stops improving\n",
        "lr_scheduler = optim.lr_scheduler.ReduceLROnPlateau(opt, factor=0.3, patience=lr_patience, verbose=True)"
      ]
    },
    {
      "cell_type": "markdown",
      "metadata": {
        "id": "YBUPVEDMlInp"
      },
      "source": [
        "## TRAINING"
      ]
    },
    {
      "cell_type": "markdown",
      "metadata": {
        "id": "a7fznNcglInp"
      },
      "source": [
        "### Define training loop"
      ]
    },
    {
      "cell_type": "code",
      "execution_count": null,
      "metadata": {
        "id": "TzKHTo6UlInq"
      },
      "outputs": [],
      "source": [
        "def train_model(data_loader, model, loss_function, optimizer):\n",
        "    num_batches = len(data_loader)\n",
        "    total_loss = 0\n",
        "    model.train()\n",
        "\n",
        "    for X, y in data_loader:\n",
        "        X, y = X.float().to(device), y.float().to(device)\n",
        "\n",
        "        # Forward pass\n",
        "        output = model(X)\n",
        "        loss = loss_function(output, y)\n",
        "\n",
        "        # Backward and optimize\n",
        "        optimizer.zero_grad()\n",
        "        loss.backward()\n",
        "        optimizer.step()\n",
        "\n",
        "        total_loss += loss.item()\n",
        "\n",
        "    train_avg_loss = total_loss / num_batches\n",
        "\n",
        "    return train_avg_loss\n",
        "\n",
        "\n",
        "def val_model(data_loader, model, loss_function):\n",
        "    num_batches = len(data_loader)\n",
        "    total_loss = 0\n",
        "\n",
        "    model.eval()\n",
        "    with torch.no_grad():\n",
        "        for X, y in data_loader:\n",
        "            X, y = X.float().to(device), y.float().to(device)\n",
        "\n",
        "            output = model(X)\n",
        "            total_loss += loss_function(output, y).item()\n",
        "\n",
        "    val_avg_loss = total_loss / num_batches\n",
        "\n",
        "    return val_avg_loss"
      ]
    },
    {
      "cell_type": "code",
      "execution_count": null,
      "metadata": {
        "id": "iVxGfctQlInq",
        "outputId": "7e03e5ec-7a2e-4f2e-8c51-b7491cf97235",
        "colab": {
          "base_uri": "https://localhost:8080/"
        }
      },
      "outputs": [
        {
          "output_type": "stream",
          "name": "stdout",
          "text": [
            "\n",
            "Epoch [0/99]\t\tTrain loss: 0.532593 - Val loss: 0.039182\n",
            "\n",
            "Epoch [1/99]\t\tTrain loss: 0.033777 - Val loss: 0.032886\n",
            "\n",
            "Epoch [2/99]\t\tTrain loss: 0.029613 - Val loss: 0.028366\n",
            "\n",
            "Epoch [3/99]\t\tTrain loss: 0.028548 - Val loss: 0.031083\n",
            "\n",
            "Epoch [4/99]\t\tTrain loss: 0.028239 - Val loss: 0.024111\n",
            "\n",
            "Epoch [5/99]\t\tTrain loss: 0.027582 - Val loss: 0.024251\n",
            "\n",
            "Epoch [6/99]\t\tTrain loss: 0.026655 - Val loss: 0.033766\n",
            "\n",
            "Epoch [7/99]\t\tTrain loss: 0.026581 - Val loss: 0.026783\n",
            "\n",
            "Epoch [8/99]\t\tTrain loss: 0.025337 - Val loss: 0.024422\n",
            "\n",
            "Epoch [9/99]\t\tTrain loss: 0.025334 - Val loss: 0.037333\n",
            "\n",
            "Epoch [10/99]\t\tTrain loss: 0.025402 - Val loss: 0.025247\n",
            "Epoch 00011: reducing learning rate of group 0 to 1.5000e-03.\n",
            "\n",
            "Epoch [11/99]\t\tTrain loss: 0.022391 - Val loss: 0.026478\n",
            "\n",
            "Epoch [12/99]\t\tTrain loss: 0.021766 - Val loss: 0.025403\n",
            "\n",
            "Epoch [13/99]\t\tTrain loss: 0.021591 - Val loss: 0.025526\n",
            "\n",
            "Epoch [14/99]\t\tTrain loss: 0.020953 - Val loss: 0.023849\n",
            "\n",
            "Epoch [15/99]\t\tTrain loss: 0.020702 - Val loss: 0.024296\n",
            "\n",
            "Epoch [16/99]\t\tTrain loss: 0.020346 - Val loss: 0.023890\n",
            "\n",
            "Epoch [17/99]\t\tTrain loss: 0.020334 - Val loss: 0.023513\n",
            "\n",
            "Epoch [18/99]\t\tTrain loss: 0.019671 - Val loss: 0.027748\n",
            "\n",
            "Epoch [19/99]\t\tTrain loss: 0.019139 - Val loss: 0.024412\n",
            "\n",
            "Epoch [20/99]\t\tTrain loss: 0.019059 - Val loss: 0.027816\n",
            "\n",
            "Epoch [21/99]\t\tTrain loss: 0.018847 - Val loss: 0.023621\n",
            "\n",
            "Epoch [22/99]\t\tTrain loss: 0.018226 - Val loss: 0.025453\n",
            "\n",
            "Epoch [23/99]\t\tTrain loss: 0.017928 - Val loss: 0.025475\n",
            "Epoch 00024: reducing learning rate of group 0 to 4.5000e-04.\n",
            "\n",
            "Epoch [24/99]\t\tTrain loss: 0.016541 - Val loss: 0.025414\n",
            "\n",
            "Epoch [25/99]\t\tTrain loss: 0.016424 - Val loss: 0.024031\n",
            "\n",
            "Epoch [26/99]\t\tTrain loss: 0.016283 - Val loss: 0.026294\n",
            "\n",
            "Epoch [27/99]\t\tTrain loss: 0.016107 - Val loss: 0.025273\n",
            "\n",
            "Epoch [28/99]\t\tTrain loss: 0.015918 - Val loss: 0.025265\n",
            "\n",
            "Epoch [29/99]\t\tTrain loss: 0.015699 - Val loss: 0.024011\n",
            "Epoch 00030: reducing learning rate of group 0 to 1.3500e-04.\n",
            "\n",
            "Epoch [30/99]\t\tTrain loss: 0.015122 - Val loss: 0.024945\n",
            "\n",
            "Epoch [31/99]\t\tTrain loss: 0.015010 - Val loss: 0.025406\n",
            "\n",
            "Epoch [32/99]\t\tTrain loss: 0.014953 - Val loss: 0.024866\n",
            "Early Stopping.\n",
            "Save best model at epoch 17\n"
          ]
        }
      ],
      "source": [
        "# Log losses for plotting\n",
        "all_losses = []\n",
        "\n",
        "# Initialize Early Stopping object\n",
        "early_stopper = EarlyStopping(patience=es_patience, model_save_path=model_save_path)\n",
        "for epoch in range(num_epochs):\n",
        "    train_loss = train_model(train_loader, model, loss_func, opt)\n",
        "    val_loss = val_model(val_loader, model, loss_func)\n",
        "    all_losses.append([train_loss, val_loss])\n",
        "\n",
        "    # Display\n",
        "    print(f\"\\nEpoch [{epoch}/{num_epochs-1}]\\t\\tTrain loss: {train_loss:.6f} - Val loss: {val_loss:.6f}\")\n",
        "\n",
        "    # EarlyStopping\n",
        "    early_stopper(epoch, model, val_loss)\n",
        "    if early_stopper.early_stop:\n",
        "        break\n",
        "    # Adjust learning rate\n",
        "    lr_scheduler.step(val_loss)"
      ]
    },
    {
      "cell_type": "markdown",
      "metadata": {
        "id": "O0DYVoqOlInq"
      },
      "source": [
        "### Plot history"
      ]
    },
    {
      "cell_type": "code",
      "execution_count": null,
      "metadata": {
        "id": "Wn5UeqsrlInr",
        "outputId": "0efd5a28-a543-4edb-8e93-7997009df129",
        "colab": {
          "base_uri": "https://localhost:8080/",
          "height": 449
        }
      },
      "outputs": [
        {
          "output_type": "display_data",
          "data": {
            "text/plain": [
              "<Figure size 1200x400 with 1 Axes>"
            ],
            "image/png": "[encoded data removed]"
          },
          "metadata": {}
        }
      ],
      "source": [
        "plt.title(\"LSTM Model\", size=18, y=1.1)\n",
        "plt.plot(all_losses, label=[\"Train loss\", \"Val loss\"])\n",
        "plt.xlabel(\"Epoch\", fontsize=13)\n",
        "plt.ylabel(\"MSE\", fontsize=13)\n",
        "plt.legend(loc=\"upper right\", fontsize=10)\n",
        "plt.show()"
      ]
    },
    {
      "cell_type": "markdown",
      "metadata": {
        "id": "3bvGqDZalInr"
      },
      "source": [
        "## EVALUATION"
      ]
    },
    {
      "cell_type": "markdown",
      "metadata": {
        "id": "bmEYjJ3nlInr"
      },
      "source": [
        "### Load best checkpoint"
      ]
    },
    {
      "cell_type": "code",
      "execution_count": null,
      "metadata": {
        "id": "s_0qQqSIlInr",
        "outputId": "a8f10957-9d7a-4b05-9f97-3f626df9f0af",
        "colab": {
          "base_uri": "https://localhost:8080/"
        }
      },
      "outputs": [
        {
          "output_type": "execute_result",
          "data": {
            "text/plain": [
              "<All keys matched successfully>"
            ]
          },
          "metadata": {},
          "execution_count": 26
        }
      ],
      "source": [
        "model.load_state_dict(torch.load(model_save_path))"
      ]
    },
    {
      "cell_type": "markdown",
      "metadata": {
        "id": "71n4A4zzlIns"
      },
      "source": [
        "### Predict"
      ]
    },
    {
      "cell_type": "code",
      "execution_count": null,
      "metadata": {
        "id": "Ol6m4JSClIns"
      },
      "outputs": [],
      "source": [
        "def predict(data_loader, model):\n",
        "    pred, true = torch.tensor([]), torch.tensor([])\n",
        "    model.eval()\n",
        "    with torch.no_grad():\n",
        "        for X, y in data_loader:\n",
        "            y_pred = model(X.float().to(device))\n",
        "            pred = torch.cat((pred, y_pred.to(device)), 0)\n",
        "            true = torch.cat((true, y.to(device)), 0)\n",
        "\n",
        "    return pred, true"
      ]
    },
    {
      "cell_type": "code",
      "execution_count": null,
      "metadata": {
        "id": "LBOU2BCplIns"
      },
      "outputs": [],
      "source": [
        "y_pred, y_test = predict(test_loader, model)\n",
        "\n",
        "# Inverse the transformation\n",
        "y_pred_inv = np.expm1(y_pred)\n",
        "y_test_inv = np.expm1(y_test)"
      ]
    },
    {
      "cell_type": "markdown",
      "metadata": {
        "id": "Tt0GmlNylInt"
      },
      "source": [
        "### Metrics\n"
      ]
    },
    {
      "cell_type": "code",
      "execution_count": null,
      "metadata": {
        "id": "JW43BuwIlInt"
      },
      "outputs": [],
      "source": [
        "# Hours ahead to predict\n",
        "forecast_length = 12"
      ]
    },
    {
      "cell_type": "code",
      "execution_count": null,
      "metadata": {
        "id": "oDTh3ggDlInt",
        "outputId": "938cdcf2-3f9a-497b-8b67-ad677de3b29c",
        "colab": {
          "base_uri": "https://localhost:8080/"
        }
      },
      "outputs": [
        {
          "output_type": "stream",
          "name": "stdout",
          "text": [
            "12-hour forecast MAPE : 0.1525\n",
            "12-hour forecast RMSE: 23.8599\n",
            "12-hour forecast NSE: 0.6154\n"
          ]
        }
      ],
      "source": [
        "truth = y_test_inv[:, forecast_length-1].numpy()\n",
        "forecast = y_pred_inv[:, forecast_length-1].numpy()\n",
        "\n",
        "diff = np.subtract(truth, forecast)\n",
        "# MAPE\n",
        "mape = np.mean(np.abs(diff / truth))\n",
        "# RMSE\n",
        "mse = np.mean(np.square(diff))\n",
        "rmse = np.sqrt(mse)\n",
        "# NSE\n",
        "num = np.sum(np.square(diff))\n",
        "den = np.sum(np.square(np.subtract(truth, truth.mean())))\n",
        "nse = 1 - (num / den)\n",
        "\n",
        "print(f\"{forecast_length}-hour forecast MAPE : {mape:.4f}\")\n",
        "print(f\"{forecast_length}-hour forecast RMSE: {rmse:.4f}\")\n",
        "print(f\"{forecast_length}-hour forecast NSE: {nse:.4f}\")"
      ]
    },
    {
      "cell_type": "markdown",
      "metadata": {
        "id": "X0vc8XyplInu"
      },
      "source": [
        "### Visualize forecasts"
      ]
    },
    {
      "cell_type": "code",
      "execution_count": null,
      "metadata": {
        "id": "KCOqY0yllInu",
        "outputId": "e1d980ac-12d6-40b3-a8b3-d5b363098edc",
        "colab": {
          "base_uri": "https://localhost:8080/",
          "height": 465
        }
      },
      "outputs": [
        {
          "output_type": "display_data",
          "data": {
            "text/plain": [
              "<Figure size 1200x400 with 1 Axes>"
            ],
            "image/png": "[encoded data removed]"
          },
          "metadata": {}
        }
      ],
      "source": [
        "plt.title(f\"{forecast_length}-Hour Ahead Forecasting\\nMAPE: {mape:.3f} - RMSE: {rmse:.3f} - NSE: {nse:.3f}\", size=16, y=1.1)\n",
        "plt.plot(truth, label=\"Ground Truth\", color=\"teal\")\n",
        "plt.plot(forecast, label=\"Prediction\", color=\"darkred\")\n",
        "plt.xlabel(\"Observation\")\n",
        "plt.legend(fontsize=10)\n",
        "plt.show()"
      ]
    }
  ],
  "metadata": {
    "kernelspec": {
      "display_name": "Python 3",
      "name": "python3"
    },
    "language_info": {
      "codemirror_mode": {
        "name": "ipython",
        "version": 3
      },
      "file_extension": ".py",
      "mimetype": "text/x-python",
      "name": "python",
      "nbconvert_exporter": "python",
      "pygments_lexer": "ipython3",
      "version": "3.10.11"
    },
    "orig_nbformat": 4,
    "colab": {
      "provenance": [],
      "include_colab_link": true
    }
  },
  "nbformat": 4,
  "nbformat_minor": 0
}