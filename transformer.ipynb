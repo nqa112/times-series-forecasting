{
  "metadata": {
    "kernelspec": {
      "name": "python3",
      "display_name": "Python 3",
      "language": "python"
    },
    "language_info": {
      "name": "python",
      "version": "3.10.12",
      "mimetype": "text/x-python",
      "codemirror_mode": {
        "name": "ipython",
        "version": 3
      },
      "pygments_lexer": "ipython3",
      "nbconvert_exporter": "python",
      "file_extension": ".py"
    },
    "colab": {
      "provenance": [],
      "gpuType": "T4",
      "include_colab_link": true
    },
    "accelerator": "GPU"
  },
  "nbformat_minor": 0,
  "nbformat": 4,
  "cells": [
    {
      "cell_type": "markdown",
      "metadata": {
        "id": "view-in-github",
        "colab_type": "text"
      },
      "source": [
        "<a href=\"https://colab.research.google.com/github/nqa112/times-series-forecasting/blob/main/transformer.ipynb\" target=\"_parent\"><img src=\"https://colab.research.google.com/assets/colab-badge.svg\" alt=\"Open In Colab\"/></a>"
      ]
    },
    {
      "cell_type": "markdown",
      "source": [
        "## BASIC SETUP"
      ],
      "metadata": {
        "id": "u4pYcIqUlIm_"
      }
    },
    {
      "cell_type": "code",
      "source": [
        "from pathlib import Path\n",
        "import numpy as np\n",
        "import pandas as pd\n",
        "import torch\n",
        "import torch.nn as nn\n",
        "import torch.nn.functional as F\n",
        "from torch.utils.data import Dataset, DataLoader\n",
        "import torch.optim as optim"
      ],
      "metadata": {
        "id": "Hnoj-OjVlInC",
        "execution": {
          "iopub.status.busy": "2023-07-29T15:06:51.098679Z",
          "iopub.execute_input": "2023-07-29T15:06:51.099070Z",
          "iopub.status.idle": "2023-07-29T15:06:54.150889Z",
          "shell.execute_reply.started": "2023-07-29T15:06:51.099040Z",
          "shell.execute_reply": "2023-07-29T15:06:54.149744Z"
        },
        "trusted": true
      },
      "execution_count": null,
      "outputs": []
    },
    {
      "cell_type": "code",
      "source": [
        "# Set random seed\n",
        "SEED = 12\n",
        "torch.manual_seed(SEED)\n",
        "np.random.seed(SEED)\n",
        "# Device configuration\n",
        "device = torch.device('cuda' if torch.cuda.is_available() else 'cpu')\n",
        "print(f\"Using {device}.\")"
      ],
      "metadata": {
        "id": "Jxi1vuq5lInD",
        "outputId": "9ef8eece-b297-4cdb-ca88-d605afd17889",
        "colab": {
          "base_uri": "https://localhost:8080/"
        },
        "execution": {
          "iopub.status.busy": "2023-07-29T15:06:54.152834Z",
          "iopub.execute_input": "2023-07-29T15:06:54.153759Z",
          "iopub.status.idle": "2023-07-29T15:06:54.200121Z",
          "shell.execute_reply.started": "2023-07-29T15:06:54.153714Z",
          "shell.execute_reply": "2023-07-29T15:06:54.199221Z"
        },
        "trusted": true
      },
      "execution_count": null,
      "outputs": [
        {
          "output_type": "stream",
          "name": "stdout",
          "text": [
            "Using cuda.\n"
          ]
        }
      ]
    },
    {
      "cell_type": "code",
      "source": [
        "import matplotlib.pyplot as plt\n",
        "from matplotlib import rcParams\n",
        "from cycler import cycler\n",
        "\n",
        "rcParams['figure.figsize'] = 12, 4\n",
        "\n",
        "# Box\n",
        "rcParams['axes.spines.top'] = False\n",
        "rcParams['axes.spines.left'] = False\n",
        "rcParams['axes.spines.right'] = False\n",
        "rcParams['axes.prop_cycle'] = cycler(color=['navy','goldenrod'])\n",
        "\n",
        "# Grid and axis thickness, color\n",
        "rcParams['axes.linewidth'] = 1\n",
        "rcParams['axes.edgecolor'] = '#5B5859'\n",
        "rcParams['axes.ymargin'] = 0\n",
        "rcParams['axes.grid'] = True\n",
        "rcParams['axes.grid.axis'] = 'y'\n",
        "rcParams['axes.axisbelow'] = True\n",
        "rcParams['grid.color'] = 'grey'\n",
        "rcParams['grid.linewidth'] = 0.5\n",
        "\n",
        "# xticks, yticks\n",
        "rcParams['ytick.major.width'] = 0\n",
        "rcParams['ytick.major.size'] = 0\n",
        "rcParams['ytick.color'] = '#393433'\n",
        "rcParams['xtick.major.width'] = 1\n",
        "rcParams['xtick.major.size'] = 3\n",
        "rcParams['xtick.color'] = '#393433'\n",
        "\n",
        "# Line thickness\n",
        "rcParams['lines.linewidth'] = 1.5\n",
        "\n",
        "# Saving quality\n",
        "rcParams['savefig.bbox'] = 'tight'\n",
        "rcParams['savefig.dpi'] = 500\n",
        "rcParams['savefig.transparent'] = True"
      ],
      "metadata": {
        "id": "_LxO-JH4lInF",
        "execution": {
          "iopub.status.busy": "2023-07-29T15:06:54.204289Z",
          "iopub.execute_input": "2023-07-29T15:06:54.206669Z",
          "iopub.status.idle": "2023-07-29T15:06:54.219159Z",
          "shell.execute_reply.started": "2023-07-29T15:06:54.206611Z",
          "shell.execute_reply": "2023-07-29T15:06:54.218212Z"
        },
        "trusted": true
      },
      "execution_count": null,
      "outputs": []
    },
    {
      "cell_type": "markdown",
      "source": [
        "## LOAD DATA"
      ],
      "metadata": {
        "id": "PF6VnCQPlInI"
      }
    },
    {
      "cell_type": "code",
      "source": [
        "csv_path = Path(\"BVData.csv\")\n",
        "df = pd.read_csv(csv_path)\n",
        "\n",
        "# Convert into a DateTime type\n",
        "df[\"DateTime\"] = pd.to_datetime(df[\"DateTime\"], format=\"%Y-%m-%d %H:%M\")\n",
        "df.drop([\"Date\", \"Time\"], axis=1, inplace=True)\n",
        "df.head()"
      ],
      "metadata": {
        "id": "dPAaN9vwlInJ",
        "colab": {
          "base_uri": "https://localhost:8080/",
          "height": 236
        },
        "outputId": "7fe7b629-fff4-422d-9779-18678f25904b",
        "execution": {
          "iopub.status.busy": "2023-07-29T15:06:54.924321Z",
          "iopub.execute_input": "2023-07-29T15:06:54.924691Z",
          "iopub.status.idle": "2023-07-29T15:06:55.064505Z",
          "shell.execute_reply.started": "2023-07-29T15:06:54.924640Z",
          "shell.execute_reply": "2023-07-29T15:06:55.063543Z"
        },
        "trusted": true
      },
      "execution_count": null,
      "outputs": [
        {
          "output_type": "execute_result",
          "data": {
            "text/plain": [
              "             DateTime  Month    1    2    3    4    5    6    7    8  ...  \\\n",
              "0 2020-01-01 00:00:00      1  0.2  0.0  0.0  0.0  0.0  0.0  0.0  0.0  ...   \n",
              "1 2020-01-01 01:00:00      1  0.2  0.0  0.0  0.0  0.0  0.0  0.0  0.0  ...   \n",
              "2 2020-01-01 02:00:00      1  0.6  0.0  0.0  0.0  0.2  0.2  0.0  0.0  ...   \n",
              "3 2020-01-01 03:00:00      1  0.6  0.0  0.0  0.0  0.6  0.2  0.0  0.0  ...   \n",
              "4 2020-01-01 04:00:00      1  0.4  0.0  0.0  0.0  0.8  0.2  0.0  0.0  ...   \n",
              "\n",
              "    13   14   15   16   17   18   19   20   21    QV  \n",
              "0  0.0  0.0  0.0  0.0  0.0  0.0  0.0  0.0  0.0  31.0  \n",
              "1  0.0  0.0  0.0  0.0  0.0  0.0  0.0  0.0  0.0  31.0  \n",
              "2  0.0  0.0  0.0  0.0  0.0  0.0  0.0  0.0  0.0  31.0  \n",
              "3  0.0  0.0  0.0  0.0  0.0  0.0  0.0  0.0  0.0  31.0  \n",
              "4  0.0  0.0  0.0  0.0  0.0  0.0  0.0  0.0  0.0  31.0  \n",
              "\n",
              "[5 rows x 24 columns]"
            ],
            "text/html": [
              "\n",
              "\n",
              "  <div id=\"df-796e8a44-6833-423c-b503-a311ace0a4e6\">\n",
              "    <div class=\"colab-df-container\">\n",
              "      <div>\n",
              "<style scoped>\n",
              "    .dataframe tbody tr th:only-of-type {\n",
              "        vertical-align: middle;\n",
              "    }\n",
              "\n",
              "    .dataframe tbody tr th {\n",
              "        vertical-align: top;\n",
              "    }\n",
              "\n",
              "    .dataframe thead th {\n",
              "        text-align: right;\n",
              "    }\n",
              "</style>\n",
              "<table border=\"1\" class=\"dataframe\">\n",
              "  <thead>\n",
              "    <tr style=\"text-align: right;\">\n",
              "      <th></th>\n",
              "      <th>DateTime</th>\n",
              "      <th>Month</th>\n",
              "      <th>1</th>\n",
              "      <th>2</th>\n",
              "      <th>3</th>\n",
              "      <th>4</th>\n",
              "      <th>5</th>\n",
              "      <th>6</th>\n",
              "      <th>7</th>\n",
              "      <th>8</th>\n",
              "      <th>...</th>\n",
              "      <th>13</th>\n",
              "      <th>14</th>\n",
              "      <th>15</th>\n",
              "      <th>16</th>\n",
              "      <th>17</th>\n",
              "      <th>18</th>\n",
              "      <th>19</th>\n",
              "      <th>20</th>\n",
              "      <th>21</th>\n",
              "      <th>QV</th>\n",
              "    </tr>\n",
              "  </thead>\n",
              "  <tbody>\n",
              "    <tr>\n",
              "      <th>0</th>\n",
              "      <td>2020-01-01 00:00:00</td>\n",
              "      <td>1</td>\n",
              "      <td>0.2</td>\n",
              "      <td>0.0</td>\n",
              "      <td>0.0</td>\n",
              "      <td>0.0</td>\n",
              "      <td>0.0</td>\n",
              "      <td>0.0</td>\n",
              "      <td>0.0</td>\n",
              "      <td>0.0</td>\n",
              "      <td>...</td>\n",
              "      <td>0.0</td>\n",
              "      <td>0.0</td>\n",
              "      <td>0.0</td>\n",
              "      <td>0.0</td>\n",
              "      <td>0.0</td>\n",
              "      <td>0.0</td>\n",
              "      <td>0.0</td>\n",
              "      <td>0.0</td>\n",
              "      <td>0.0</td>\n",
              "      <td>31.0</td>\n",
              "    </tr>\n",
              "    <tr>\n",
              "      <th>1</th>\n",
              "      <td>2020-01-01 01:00:00</td>\n",
              "      <td>1</td>\n",
              "      <td>0.2</td>\n",
              "      <td>0.0</td>\n",
              "      <td>0.0</td>\n",
              "      <td>0.0</td>\n",
              "      <td>0.0</td>\n",
              "      <td>0.0</td>\n",
              "      <td>0.0</td>\n",
              "      <td>0.0</td>\n",
              "      <td>...</td>\n",
              "      <td>0.0</td>\n",
              "      <td>0.0</td>\n",
              "      <td>0.0</td>\n",
              "      <td>0.0</td>\n",
              "      <td>0.0</td>\n",
              "      <td>0.0</td>\n",
              "      <td>0.0</td>\n",
              "      <td>0.0</td>\n",
              "      <td>0.0</td>\n",
              "      <td>31.0</td>\n",
              "    </tr>\n",
              "    <tr>\n",
              "      <th>2</th>\n",
              "      <td>2020-01-01 02:00:00</td>\n",
              "      <td>1</td>\n",
              "      <td>0.6</td>\n",
              "      <td>0.0</td>\n",
              "      <td>0.0</td>\n",
              "      <td>0.0</td>\n",
              "      <td>0.2</td>\n",
              "      <td>0.2</td>\n",
              "      <td>0.0</td>\n",
              "      <td>0.0</td>\n",
              "      <td>...</td>\n",
              "      <td>0.0</td>\n",
              "      <td>0.0</td>\n",
              "      <td>0.0</td>\n",
              "      <td>0.0</td>\n",
              "      <td>0.0</td>\n",
              "      <td>0.0</td>\n",
              "      <td>0.0</td>\n",
              "      <td>0.0</td>\n",
              "      <td>0.0</td>\n",
              "      <td>31.0</td>\n",
              "    </tr>\n",
              "    <tr>\n",
              "      <th>3</th>\n",
              "      <td>2020-01-01 03:00:00</td>\n",
              "      <td>1</td>\n",
              "      <td>0.6</td>\n",
              "      <td>0.0</td>\n",
              "      <td>0.0</td>\n",
              "      <td>0.0</td>\n",
              "      <td>0.6</td>\n",
              "      <td>0.2</td>\n",
              "      <td>0.0</td>\n",
              "      <td>0.0</td>\n",
              "      <td>...</td>\n",
              "      <td>0.0</td>\n",
              "      <td>0.0</td>\n",
              "      <td>0.0</td>\n",
              "      <td>0.0</td>\n",
              "      <td>0.0</td>\n",
              "      <td>0.0</td>\n",
              "      <td>0.0</td>\n",
              "      <td>0.0</td>\n",
              "      <td>0.0</td>\n",
              "      <td>31.0</td>\n",
              "    </tr>\n",
              "    <tr>\n",
              "      <th>4</th>\n",
              "      <td>2020-01-01 04:00:00</td>\n",
              "      <td>1</td>\n",
              "      <td>0.4</td>\n",
              "      <td>0.0</td>\n",
              "      <td>0.0</td>\n",
              "      <td>0.0</td>\n",
              "      <td>0.8</td>\n",
              "      <td>0.2</td>\n",
              "      <td>0.0</td>\n",
              "      <td>0.0</td>\n",
              "      <td>...</td>\n",
              "      <td>0.0</td>\n",
              "      <td>0.0</td>\n",
              "      <td>0.0</td>\n",
              "      <td>0.0</td>\n",
              "      <td>0.0</td>\n",
              "      <td>0.0</td>\n",
              "      <td>0.0</td>\n",
              "      <td>0.0</td>\n",
              "      <td>0.0</td>\n",
              "      <td>31.0</td>\n",
              "    </tr>\n",
              "  </tbody>\n",
              "</table>\n",
              "<p>5 rows × 24 columns</p>\n",
              "</div>\n",
              "      <button class=\"colab-df-convert\" onclick=\"convertToInteractive('df-796e8a44-6833-423c-b503-a311ace0a4e6')\"\n",
              "              title=\"Convert this dataframe to an interactive table.\"\n",
              "              style=\"display:none;\">\n",
              "\n",
              "  <svg xmlns=\"http://www.w3.org/2000/svg\" height=\"24px\"viewBox=\"0 0 24 24\"\n",
              "       width=\"24px\">\n",
              "    <path d=\"M0 0h24v24H0V0z\" fill=\"none\"/>\n",
              "    <path d=\"M18.56 5.44l.94 2.06.94-2.06 2.06-.94-2.06-.94-.94-2.06-.94 2.06-2.06.94zm-11 1L8.5 8.5l.94-2.06 2.06-.94-2.06-.94L8.5 2.5l-.94 2.06-2.06.94zm10 10l.94 2.06.94-2.06 2.06-.94-2.06-.94-.94-2.06-.94 2.06-2.06.94z\"/><path d=\"M17.41 7.96l-1.37-1.37c-.4-.4-.92-.59-1.43-.59-.52 0-1.04.2-1.43.59L10.3 9.45l-7.72 7.72c-.78.78-.78 2.05 0 2.83L4 21.41c.39.39.9.59 1.41.59.51 0 1.02-.2 1.41-.59l7.78-7.78 2.81-2.81c.8-.78.8-2.07 0-2.86zM5.41 20L4 18.59l7.72-7.72 1.47 1.35L5.41 20z\"/>\n",
              "  </svg>\n",
              "      </button>\n",
              "\n",
              "\n",
              "\n",
              "    <div id=\"df-2b51855f-8aa7-4f87-99fe-4da040735220\">\n",
              "      <button class=\"colab-df-quickchart\" onclick=\"quickchart('df-2b51855f-8aa7-4f87-99fe-4da040735220')\"\n",
              "              title=\"Suggest charts.\"\n",
              "              style=\"display:none;\">\n",
              "\n",
              "<svg xmlns=\"http://www.w3.org/2000/svg\" height=\"24px\"viewBox=\"0 0 24 24\"\n",
              "     width=\"24px\">\n",
              "    <g>\n",
              "        <path d=\"M19 3H5c-1.1 0-2 .9-2 2v14c0 1.1.9 2 2 2h14c1.1 0 2-.9 2-2V5c0-1.1-.9-2-2-2zM9 17H7v-7h2v7zm4 0h-2V7h2v10zm4 0h-2v-4h2v4z\"/>\n",
              "    </g>\n",
              "</svg>\n",
              "      </button>\n",
              "    </div>\n",
              "\n",
              "<style>\n",
              "  .colab-df-quickchart {\n",
              "    background-color: #E8F0FE;\n",
              "    border: none;\n",
              "    border-radius: 50%;\n",
              "    cursor: pointer;\n",
              "    display: none;\n",
              "    fill: #1967D2;\n",
              "    height: 32px;\n",
              "    padding: 0 0 0 0;\n",
              "    width: 32px;\n",
              "  }\n",
              "\n",
              "  .colab-df-quickchart:hover {\n",
              "    background-color: #E2EBFA;\n",
              "    box-shadow: 0px 1px 2px rgba(60, 64, 67, 0.3), 0px 1px 3px 1px rgba(60, 64, 67, 0.15);\n",
              "    fill: #174EA6;\n",
              "  }\n",
              "\n",
              "  [theme=dark] .colab-df-quickchart {\n",
              "    background-color: #3B4455;\n",
              "    fill: #D2E3FC;\n",
              "  }\n",
              "\n",
              "  [theme=dark] .colab-df-quickchart:hover {\n",
              "    background-color: #434B5C;\n",
              "    box-shadow: 0px 1px 3px 1px rgba(0, 0, 0, 0.15);\n",
              "    filter: drop-shadow(0px 1px 2px rgba(0, 0, 0, 0.3));\n",
              "    fill: #FFFFFF;\n",
              "  }\n",
              "</style>\n",
              "\n",
              "    <script>\n",
              "      async function quickchart(key) {\n",
              "        const containerElement = document.querySelector('#' + key);\n",
              "        const charts = await google.colab.kernel.invokeFunction(\n",
              "            'suggestCharts', [key], {});\n",
              "      }\n",
              "    </script>\n",
              "\n",
              "      <script>\n",
              "\n",
              "function displayQuickchartButton(domScope) {\n",
              "  let quickchartButtonEl =\n",
              "    domScope.querySelector('#df-2b51855f-8aa7-4f87-99fe-4da040735220 button.colab-df-quickchart');\n",
              "  quickchartButtonEl.style.display =\n",
              "    google.colab.kernel.accessAllowed ? 'block' : 'none';\n",
              "}\n",
              "\n",
              "        displayQuickchartButton(document);\n",
              "      </script>\n",
              "      <style>\n",
              "    .colab-df-container {\n",
              "      display:flex;\n",
              "      flex-wrap:wrap;\n",
              "      gap: 12px;\n",
              "    }\n",
              "\n",
              "    .colab-df-convert {\n",
              "      background-color: #E8F0FE;\n",
              "      border: none;\n",
              "      border-radius: 50%;\n",
              "      cursor: pointer;\n",
              "      display: none;\n",
              "      fill: #1967D2;\n",
              "      height: 32px;\n",
              "      padding: 0 0 0 0;\n",
              "      width: 32px;\n",
              "    }\n",
              "\n",
              "    .colab-df-convert:hover {\n",
              "      background-color: #E2EBFA;\n",
              "      box-shadow: 0px 1px 2px rgba(60, 64, 67, 0.3), 0px 1px 3px 1px rgba(60, 64, 67, 0.15);\n",
              "      fill: #174EA6;\n",
              "    }\n",
              "\n",
              "    [theme=dark] .colab-df-convert {\n",
              "      background-color: #3B4455;\n",
              "      fill: #D2E3FC;\n",
              "    }\n",
              "\n",
              "    [theme=dark] .colab-df-convert:hover {\n",
              "      background-color: #434B5C;\n",
              "      box-shadow: 0px 1px 3px 1px rgba(0, 0, 0, 0.15);\n",
              "      filter: drop-shadow(0px 1px 2px rgba(0, 0, 0, 0.3));\n",
              "      fill: #FFFFFF;\n",
              "    }\n",
              "  </style>\n",
              "\n",
              "      <script>\n",
              "        const buttonEl =\n",
              "          document.querySelector('#df-796e8a44-6833-423c-b503-a311ace0a4e6 button.colab-df-convert');\n",
              "        buttonEl.style.display =\n",
              "          google.colab.kernel.accessAllowed ? 'block' : 'none';\n",
              "\n",
              "        async function convertToInteractive(key) {\n",
              "          const element = document.querySelector('#df-796e8a44-6833-423c-b503-a311ace0a4e6');\n",
              "          const dataTable =\n",
              "            await google.colab.kernel.invokeFunction('convertToInteractive',\n",
              "                                                     [key], {});\n",
              "          if (!dataTable) return;\n",
              "\n",
              "          const docLinkHtml = 'Like what you see? Visit the ' +\n",
              "            '<a target=\"_blank\" href=https://colab.research.google.com/notebooks/data_table.ipynb>data table notebook</a>'\n",
              "            + ' to learn more about interactive tables.';\n",
              "          element.innerHTML = '';\n",
              "          dataTable['output_type'] = 'display_data';\n",
              "          await google.colab.output.renderOutput(dataTable, element);\n",
              "          const docLink = document.createElement('div');\n",
              "          docLink.innerHTML = docLinkHtml;\n",
              "          element.appendChild(docLink);\n",
              "        }\n",
              "      </script>\n",
              "    </div>\n",
              "  </div>\n"
            ]
          },
          "metadata": {},
          "execution_count": 6
        }
      ]
    },
    {
      "cell_type": "code",
      "source": [
        "df.info()"
      ],
      "metadata": {
        "id": "78R7f9nclInK",
        "outputId": "dca896b7-7284-4b47-c11e-35cc413b68e8",
        "colab": {
          "base_uri": "https://localhost:8080/"
        },
        "execution": {
          "iopub.status.busy": "2023-07-29T15:06:56.971272Z",
          "iopub.execute_input": "2023-07-29T15:06:56.972367Z",
          "iopub.status.idle": "2023-07-29T15:06:56.994277Z",
          "shell.execute_reply.started": "2023-07-29T15:06:56.972321Z",
          "shell.execute_reply": "2023-07-29T15:06:56.992610Z"
        },
        "trusted": true
      },
      "execution_count": null,
      "outputs": [
        {
          "output_type": "stream",
          "name": "stdout",
          "text": [
            "<class 'pandas.core.frame.DataFrame'>\n",
            "RangeIndex: 21888 entries, 0 to 21887\n",
            "Data columns (total 24 columns):\n",
            " #   Column    Non-Null Count  Dtype         \n",
            "---  ------    --------------  -----         \n",
            " 0   DateTime  21888 non-null  datetime64[ns]\n",
            " 1   Month     21888 non-null  int64         \n",
            " 2   1         21888 non-null  float64       \n",
            " 3   2         21888 non-null  float64       \n",
            " 4   3         21888 non-null  float64       \n",
            " 5   4         21888 non-null  float64       \n",
            " 6   5         21888 non-null  float64       \n",
            " 7   6         21888 non-null  float64       \n",
            " 8   7         21888 non-null  float64       \n",
            " 9   8         21888 non-null  float64       \n",
            " 10  9         21888 non-null  float64       \n",
            " 11  10        21888 non-null  float64       \n",
            " 12  11        21888 non-null  float64       \n",
            " 13  12        21888 non-null  float64       \n",
            " 14  13        21888 non-null  float64       \n",
            " 15  14        21888 non-null  float64       \n",
            " 16  15        21888 non-null  float64       \n",
            " 17  16        21888 non-null  float64       \n",
            " 18  17        21888 non-null  float64       \n",
            " 19  18        21888 non-null  float64       \n",
            " 20  19        21888 non-null  float64       \n",
            " 21  20        21888 non-null  float64       \n",
            " 22  21        21888 non-null  float64       \n",
            " 23  QV        21888 non-null  float64       \n",
            "dtypes: datetime64[ns](1), float64(22), int64(1)\n",
            "memory usage: 4.0 MB\n"
          ]
        }
      ]
    },
    {
      "cell_type": "markdown",
      "source": [
        "## DATA PREPROCESSING"
      ],
      "metadata": {
        "id": "bLfCW2Q_lInK"
      }
    },
    {
      "cell_type": "markdown",
      "source": [
        "### Feature engineering"
      ],
      "metadata": {
        "id": "dyceYdoAlInL"
      }
    },
    {
      "cell_type": "markdown",
      "source": [
        "#### Date related features"
      ],
      "metadata": {
        "id": "rrGwl8JelInM"
      }
    },
    {
      "cell_type": "code",
      "source": [
        "# Day in a month\n",
        "df[\"Day_of_month\"] = df.DateTime.apply(lambda x: x.day)\n",
        "# Day in a week\n",
        "df[\"Day_of_week\"] = df.DateTime.apply(lambda x: x.dayofweek)\n",
        "# 24-hour based\n",
        "df[\"Hour\"] = df.DateTime.apply(lambda x: x.hour)\n",
        "# Week in a year\n",
        "df[\"Week\"] = df.DateTime.apply(lambda x: x.week)\n",
        "\n",
        "# Set \"DateTime\" column as row index\n",
        "df = df.set_index(\"DateTime\")\n",
        "df.head()"
      ],
      "metadata": {
        "id": "QIb5RdAwlInM",
        "outputId": "a7868f39-8b97-4cc4-dfef-5b2d0787f535",
        "colab": {
          "base_uri": "https://localhost:8080/",
          "height": 267
        },
        "execution": {
          "iopub.status.busy": "2023-07-29T15:07:01.194561Z",
          "iopub.execute_input": "2023-07-29T15:07:01.195547Z",
          "iopub.status.idle": "2023-07-29T15:07:01.539851Z",
          "shell.execute_reply.started": "2023-07-29T15:07:01.195510Z",
          "shell.execute_reply": "2023-07-29T15:07:01.537836Z"
        },
        "trusted": true
      },
      "execution_count": null,
      "outputs": [
        {
          "output_type": "execute_result",
          "data": {
            "text/plain": [
              "                     Month    1    2    3    4    5    6    7    8    9  ...  \\\n",
              "DateTime                                                                 ...   \n",
              "2020-01-01 00:00:00      1  0.2  0.0  0.0  0.0  0.0  0.0  0.0  0.0  0.2  ...   \n",
              "2020-01-01 01:00:00      1  0.2  0.0  0.0  0.0  0.0  0.0  0.0  0.0  0.0  ...   \n",
              "2020-01-01 02:00:00      1  0.6  0.0  0.0  0.0  0.2  0.2  0.0  0.0  0.2  ...   \n",
              "2020-01-01 03:00:00      1  0.6  0.0  0.0  0.0  0.6  0.2  0.0  0.0  0.0  ...   \n",
              "2020-01-01 04:00:00      1  0.4  0.0  0.0  0.0  0.8  0.2  0.0  0.0  0.0  ...   \n",
              "\n",
              "                      17   18   19   20   21    QV  Day_of_month  Day_of_week  \\\n",
              "DateTime                                                                        \n",
              "2020-01-01 00:00:00  0.0  0.0  0.0  0.0  0.0  31.0             1            2   \n",
              "2020-01-01 01:00:00  0.0  0.0  0.0  0.0  0.0  31.0             1            2   \n",
              "2020-01-01 02:00:00  0.0  0.0  0.0  0.0  0.0  31.0             1            2   \n",
              "2020-01-01 03:00:00  0.0  0.0  0.0  0.0  0.0  31.0             1            2   \n",
              "2020-01-01 04:00:00  0.0  0.0  0.0  0.0  0.0  31.0             1            2   \n",
              "\n",
              "                     Hour  Week  \n",
              "DateTime                         \n",
              "2020-01-01 00:00:00     0     1  \n",
              "2020-01-01 01:00:00     1     1  \n",
              "2020-01-01 02:00:00     2     1  \n",
              "2020-01-01 03:00:00     3     1  \n",
              "2020-01-01 04:00:00     4     1  \n",
              "\n",
              "[5 rows x 27 columns]"
            ],
            "text/html": [
              "\n",
              "\n",
              "  <div id=\"df-86d6ac63-450c-499b-a6b7-6f7e2525733f\">\n",
              "    <div class=\"colab-df-container\">\n",
              "      <div>\n",
              "<style scoped>\n",
              "    .dataframe tbody tr th:only-of-type {\n",
              "        vertical-align: middle;\n",
              "    }\n",
              "\n",
              "    .dataframe tbody tr th {\n",
              "        vertical-align: top;\n",
              "    }\n",
              "\n",
              "    .dataframe thead th {\n",
              "        text-align: right;\n",
              "    }\n",
              "</style>\n",
              "<table border=\"1\" class=\"dataframe\">\n",
              "  <thead>\n",
              "    <tr style=\"text-align: right;\">\n",
              "      <th></th>\n",
              "      <th>Month</th>\n",
              "      <th>1</th>\n",
              "      <th>2</th>\n",
              "      <th>3</th>\n",
              "      <th>4</th>\n",
              "      <th>5</th>\n",
              "      <th>6</th>\n",
              "      <th>7</th>\n",
              "      <th>8</th>\n",
              "      <th>9</th>\n",
              "      <th>...</th>\n",
              "      <th>17</th>\n",
              "      <th>18</th>\n",
              "      <th>19</th>\n",
              "      <th>20</th>\n",
              "      <th>21</th>\n",
              "      <th>QV</th>\n",
              "      <th>Day_of_month</th>\n",
              "      <th>Day_of_week</th>\n",
              "      <th>Hour</th>\n",
              "      <th>Week</th>\n",
              "    </tr>\n",
              "    <tr>\n",
              "      <th>DateTime</th>\n",
              "      <th></th>\n",
              "      <th></th>\n",
              "      <th></th>\n",
              "      <th></th>\n",
              "      <th></th>\n",
              "      <th></th>\n",
              "      <th></th>\n",
              "      <th></th>\n",
              "      <th></th>\n",
              "      <th></th>\n",
              "      <th></th>\n",
              "      <th></th>\n",
              "      <th></th>\n",
              "      <th></th>\n",
              "      <th></th>\n",
              "      <th></th>\n",
              "      <th></th>\n",
              "      <th></th>\n",
              "      <th></th>\n",
              "      <th></th>\n",
              "      <th></th>\n",
              "    </tr>\n",
              "  </thead>\n",
              "  <tbody>\n",
              "    <tr>\n",
              "      <th>2020-01-01 00:00:00</th>\n",
              "      <td>1</td>\n",
              "      <td>0.2</td>\n",
              "      <td>0.0</td>\n",
              "      <td>0.0</td>\n",
              "      <td>0.0</td>\n",
              "      <td>0.0</td>\n",
              "      <td>0.0</td>\n",
              "      <td>0.0</td>\n",
              "      <td>0.0</td>\n",
              "      <td>0.2</td>\n",
              "      <td>...</td>\n",
              "      <td>0.0</td>\n",
              "      <td>0.0</td>\n",
              "      <td>0.0</td>\n",
              "      <td>0.0</td>\n",
              "      <td>0.0</td>\n",
              "      <td>31.0</td>\n",
              "      <td>1</td>\n",
              "      <td>2</td>\n",
              "      <td>0</td>\n",
              "      <td>1</td>\n",
              "    </tr>\n",
              "    <tr>\n",
              "      <th>2020-01-01 01:00:00</th>\n",
              "      <td>1</td>\n",
              "      <td>0.2</td>\n",
              "      <td>0.0</td>\n",
              "      <td>0.0</td>\n",
              "      <td>0.0</td>\n",
              "      <td>0.0</td>\n",
              "      <td>0.0</td>\n",
              "      <td>0.0</td>\n",
              "      <td>0.0</td>\n",
              "      <td>0.0</td>\n",
              "      <td>...</td>\n",
              "      <td>0.0</td>\n",
              "      <td>0.0</td>\n",
              "      <td>0.0</td>\n",
              "      <td>0.0</td>\n",
              "      <td>0.0</td>\n",
              "      <td>31.0</td>\n",
              "      <td>1</td>\n",
              "      <td>2</td>\n",
              "      <td>1</td>\n",
              "      <td>1</td>\n",
              "    </tr>\n",
              "    <tr>\n",
              "      <th>2020-01-01 02:00:00</th>\n",
              "      <td>1</td>\n",
              "      <td>0.6</td>\n",
              "      <td>0.0</td>\n",
              "      <td>0.0</td>\n",
              "      <td>0.0</td>\n",
              "      <td>0.2</td>\n",
              "      <td>0.2</td>\n",
              "      <td>0.0</td>\n",
              "      <td>0.0</td>\n",
              "      <td>0.2</td>\n",
              "      <td>...</td>\n",
              "      <td>0.0</td>\n",
              "      <td>0.0</td>\n",
              "      <td>0.0</td>\n",
              "      <td>0.0</td>\n",
              "      <td>0.0</td>\n",
              "      <td>31.0</td>\n",
              "      <td>1</td>\n",
              "      <td>2</td>\n",
              "      <td>2</td>\n",
              "      <td>1</td>\n",
              "    </tr>\n",
              "    <tr>\n",
              "      <th>2020-01-01 03:00:00</th>\n",
              "      <td>1</td>\n",
              "      <td>0.6</td>\n",
              "      <td>0.0</td>\n",
              "      <td>0.0</td>\n",
              "      <td>0.0</td>\n",
              "      <td>0.6</td>\n",
              "      <td>0.2</td>\n",
              "      <td>0.0</td>\n",
              "      <td>0.0</td>\n",
              "      <td>0.0</td>\n",
              "      <td>...</td>\n",
              "      <td>0.0</td>\n",
              "      <td>0.0</td>\n",
              "      <td>0.0</td>\n",
              "      <td>0.0</td>\n",
              "      <td>0.0</td>\n",
              "      <td>31.0</td>\n",
              "      <td>1</td>\n",
              "      <td>2</td>\n",
              "      <td>3</td>\n",
              "      <td>1</td>\n",
              "    </tr>\n",
              "    <tr>\n",
              "      <th>2020-01-01 04:00:00</th>\n",
              "      <td>1</td>\n",
              "      <td>0.4</td>\n",
              "      <td>0.0</td>\n",
              "      <td>0.0</td>\n",
              "      <td>0.0</td>\n",
              "      <td>0.8</td>\n",
              "      <td>0.2</td>\n",
              "      <td>0.0</td>\n",
              "      <td>0.0</td>\n",
              "      <td>0.0</td>\n",
              "      <td>...</td>\n",
              "      <td>0.0</td>\n",
              "      <td>0.0</td>\n",
              "      <td>0.0</td>\n",
              "      <td>0.0</td>\n",
              "      <td>0.0</td>\n",
              "      <td>31.0</td>\n",
              "      <td>1</td>\n",
              "      <td>2</td>\n",
              "      <td>4</td>\n",
              "      <td>1</td>\n",
              "    </tr>\n",
              "  </tbody>\n",
              "</table>\n",
              "<p>5 rows × 27 columns</p>\n",
              "</div>\n",
              "      <button class=\"colab-df-convert\" onclick=\"convertToInteractive('df-86d6ac63-450c-499b-a6b7-6f7e2525733f')\"\n",
              "              title=\"Convert this dataframe to an interactive table.\"\n",
              "              style=\"display:none;\">\n",
              "\n",
              "  <svg xmlns=\"http://www.w3.org/2000/svg\" height=\"24px\"viewBox=\"0 0 24 24\"\n",
              "       width=\"24px\">\n",
              "    <path d=\"M0 0h24v24H0V0z\" fill=\"none\"/>\n",
              "    <path d=\"M18.56 5.44l.94 2.06.94-2.06 2.06-.94-2.06-.94-.94-2.06-.94 2.06-2.06.94zm-11 1L8.5 8.5l.94-2.06 2.06-.94-2.06-.94L8.5 2.5l-.94 2.06-2.06.94zm10 10l.94 2.06.94-2.06 2.06-.94-2.06-.94-.94-2.06-.94 2.06-2.06.94z\"/><path d=\"M17.41 7.96l-1.37-1.37c-.4-.4-.92-.59-1.43-.59-.52 0-1.04.2-1.43.59L10.3 9.45l-7.72 7.72c-.78.78-.78 2.05 0 2.83L4 21.41c.39.39.9.59 1.41.59.51 0 1.02-.2 1.41-.59l7.78-7.78 2.81-2.81c.8-.78.8-2.07 0-2.86zM5.41 20L4 18.59l7.72-7.72 1.47 1.35L5.41 20z\"/>\n",
              "  </svg>\n",
              "      </button>\n",
              "\n",
              "\n",
              "\n",
              "    <div id=\"df-affa768b-4cc5-4ec9-8aa0-1f97f71a23b2\">\n",
              "      <button class=\"colab-df-quickchart\" onclick=\"quickchart('df-affa768b-4cc5-4ec9-8aa0-1f97f71a23b2')\"\n",
              "              title=\"Suggest charts.\"\n",
              "              style=\"display:none;\">\n",
              "\n",
              "<svg xmlns=\"http://www.w3.org/2000/svg\" height=\"24px\"viewBox=\"0 0 24 24\"\n",
              "     width=\"24px\">\n",
              "    <g>\n",
              "        <path d=\"M19 3H5c-1.1 0-2 .9-2 2v14c0 1.1.9 2 2 2h14c1.1 0 2-.9 2-2V5c0-1.1-.9-2-2-2zM9 17H7v-7h2v7zm4 0h-2V7h2v10zm4 0h-2v-4h2v4z\"/>\n",
              "    </g>\n",
              "</svg>\n",
              "      </button>\n",
              "    </div>\n",
              "\n",
              "<style>\n",
              "  .colab-df-quickchart {\n",
              "    background-color: #E8F0FE;\n",
              "    border: none;\n",
              "    border-radius: 50%;\n",
              "    cursor: pointer;\n",
              "    display: none;\n",
              "    fill: #1967D2;\n",
              "    height: 32px;\n",
              "    padding: 0 0 0 0;\n",
              "    width: 32px;\n",
              "  }\n",
              "\n",
              "  .colab-df-quickchart:hover {\n",
              "    background-color: #E2EBFA;\n",
              "    box-shadow: 0px 1px 2px rgba(60, 64, 67, 0.3), 0px 1px 3px 1px rgba(60, 64, 67, 0.15);\n",
              "    fill: #174EA6;\n",
              "  }\n",
              "\n",
              "  [theme=dark] .colab-df-quickchart {\n",
              "    background-color: #3B4455;\n",
              "    fill: #D2E3FC;\n",
              "  }\n",
              "\n",
              "  [theme=dark] .colab-df-quickchart:hover {\n",
              "    background-color: #434B5C;\n",
              "    box-shadow: 0px 1px 3px 1px rgba(0, 0, 0, 0.15);\n",
              "    filter: drop-shadow(0px 1px 2px rgba(0, 0, 0, 0.3));\n",
              "    fill: #FFFFFF;\n",
              "  }\n",
              "</style>\n",
              "\n",
              "    <script>\n",
              "      async function quickchart(key) {\n",
              "        const containerElement = document.querySelector('#' + key);\n",
              "        const charts = await google.colab.kernel.invokeFunction(\n",
              "            'suggestCharts', [key], {});\n",
              "      }\n",
              "    </script>\n",
              "\n",
              "      <script>\n",
              "\n",
              "function displayQuickchartButton(domScope) {\n",
              "  let quickchartButtonEl =\n",
              "    domScope.querySelector('#df-affa768b-4cc5-4ec9-8aa0-1f97f71a23b2 button.colab-df-quickchart');\n",
              "  quickchartButtonEl.style.display =\n",
              "    google.colab.kernel.accessAllowed ? 'block' : 'none';\n",
              "}\n",
              "\n",
              "        displayQuickchartButton(document);\n",
              "      </script>\n",
              "      <style>\n",
              "    .colab-df-container {\n",
              "      display:flex;\n",
              "      flex-wrap:wrap;\n",
              "      gap: 12px;\n",
              "    }\n",
              "\n",
              "    .colab-df-convert {\n",
              "      background-color: #E8F0FE;\n",
              "      border: none;\n",
              "      border-radius: 50%;\n",
              "      cursor: pointer;\n",
              "      display: none;\n",
              "      fill: #1967D2;\n",
              "      height: 32px;\n",
              "      padding: 0 0 0 0;\n",
              "      width: 32px;\n",
              "    }\n",
              "\n",
              "    .colab-df-convert:hover {\n",
              "      background-color: #E2EBFA;\n",
              "      box-shadow: 0px 1px 2px rgba(60, 64, 67, 0.3), 0px 1px 3px 1px rgba(60, 64, 67, 0.15);\n",
              "      fill: #174EA6;\n",
              "    }\n",
              "\n",
              "    [theme=dark] .colab-df-convert {\n",
              "      background-color: #3B4455;\n",
              "      fill: #D2E3FC;\n",
              "    }\n",
              "\n",
              "    [theme=dark] .colab-df-convert:hover {\n",
              "      background-color: #434B5C;\n",
              "      box-shadow: 0px 1px 3px 1px rgba(0, 0, 0, 0.15);\n",
              "      filter: drop-shadow(0px 1px 2px rgba(0, 0, 0, 0.3));\n",
              "      fill: #FFFFFF;\n",
              "    }\n",
              "  </style>\n",
              "\n",
              "      <script>\n",
              "        const buttonEl =\n",
              "          document.querySelector('#df-86d6ac63-450c-499b-a6b7-6f7e2525733f button.colab-df-convert');\n",
              "        buttonEl.style.display =\n",
              "          google.colab.kernel.accessAllowed ? 'block' : 'none';\n",
              "\n",
              "        async function convertToInteractive(key) {\n",
              "          const element = document.querySelector('#df-86d6ac63-450c-499b-a6b7-6f7e2525733f');\n",
              "          const dataTable =\n",
              "            await google.colab.kernel.invokeFunction('convertToInteractive',\n",
              "                                                     [key], {});\n",
              "          if (!dataTable) return;\n",
              "\n",
              "          const docLinkHtml = 'Like what you see? Visit the ' +\n",
              "            '<a target=\"_blank\" href=https://colab.research.google.com/notebooks/data_table.ipynb>data table notebook</a>'\n",
              "            + ' to learn more about interactive tables.';\n",
              "          element.innerHTML = '';\n",
              "          dataTable['output_type'] = 'display_data';\n",
              "          await google.colab.output.renderOutput(dataTable, element);\n",
              "          const docLink = document.createElement('div');\n",
              "          docLink.innerHTML = docLinkHtml;\n",
              "          element.appendChild(docLink);\n",
              "        }\n",
              "      </script>\n",
              "    </div>\n",
              "  </div>\n"
            ]
          },
          "metadata": {},
          "execution_count": 8
        }
      ]
    },
    {
      "cell_type": "code",
      "source": [
        "# Move target to the last column\n",
        "target_feature = \"QV\"\n",
        "df.insert(len(df.columns)-1, target_feature, df.pop(target_feature))"
      ],
      "metadata": {
        "id": "4ejAIiFClInN",
        "execution": {
          "iopub.status.busy": "2023-07-29T15:07:03.265052Z",
          "iopub.execute_input": "2023-07-29T15:07:03.266256Z",
          "iopub.status.idle": "2023-07-29T15:07:03.272707Z",
          "shell.execute_reply.started": "2023-07-29T15:07:03.266208Z",
          "shell.execute_reply": "2023-07-29T15:07:03.271593Z"
        },
        "trusted": true
      },
      "execution_count": null,
      "outputs": []
    },
    {
      "cell_type": "markdown",
      "source": [
        "### Hyperparameters"
      ],
      "metadata": {
        "id": "UFoPrbt_lInR"
      }
    },
    {
      "cell_type": "code",
      "source": [
        "batch_size = 32\n",
        "past_len = 24\n",
        "pred_len = 12\n",
        "input_size = df.shape[1]\n",
        "\n",
        "num_epochs = 100\n",
        "learning_rate = 1e-3\n",
        "es_patience = 15\n",
        "lr_patience = 5\n",
        "\n",
        "model_save_path = \"checkpoint_transformer.pth\""
      ],
      "metadata": {
        "id": "fjBZmQgRlInR",
        "execution": {
          "iopub.status.busy": "2023-07-29T15:07:05.601595Z",
          "iopub.execute_input": "2023-07-29T15:07:05.602294Z",
          "iopub.status.idle": "2023-07-29T15:07:05.607192Z",
          "shell.execute_reply.started": "2023-07-29T15:07:05.602260Z",
          "shell.execute_reply": "2023-07-29T15:07:05.606215Z"
        },
        "trusted": true
      },
      "execution_count": null,
      "outputs": []
    },
    {
      "cell_type": "markdown",
      "source": [
        "## DATASET PIPELINE"
      ],
      "metadata": {
        "id": "hwEjPG4BlInR"
      }
    },
    {
      "cell_type": "markdown",
      "source": [
        "### Feature scaling\n",
        "Use natural log transformation (with one plus element-wise since log does not accept zero)"
      ],
      "metadata": {
        "id": "VAXfdCgolInS"
      }
    },
    {
      "cell_type": "code",
      "source": [
        "data_scaled = np.log1p(df.values)"
      ],
      "metadata": {
        "id": "Ifa03l98lInS",
        "execution": {
          "iopub.status.busy": "2023-07-29T15:07:12.080705Z",
          "iopub.execute_input": "2023-07-29T15:07:12.081057Z",
          "iopub.status.idle": "2023-07-29T15:07:12.099343Z",
          "shell.execute_reply.started": "2023-07-29T15:07:12.081028Z",
          "shell.execute_reply": "2023-07-29T15:07:12.098381Z"
        },
        "trusted": true
      },
      "execution_count": null,
      "outputs": []
    },
    {
      "cell_type": "markdown",
      "source": [
        "### Train-Val-Test split"
      ],
      "metadata": {
        "id": "4aLfZcU3lInT"
      }
    },
    {
      "cell_type": "code",
      "source": [
        "train_ratio, val_ratio = 0.7, 0.2\n",
        "train_size = int(len(df) * train_ratio)\n",
        "val_size = int(len(df) * val_ratio)"
      ],
      "metadata": {
        "id": "IwqKtHeBlInN",
        "execution": {
          "iopub.status.busy": "2023-07-29T15:07:13.546153Z",
          "iopub.execute_input": "2023-07-29T15:07:13.546513Z",
          "iopub.status.idle": "2023-07-29T15:07:13.551189Z",
          "shell.execute_reply.started": "2023-07-29T15:07:13.546482Z",
          "shell.execute_reply": "2023-07-29T15:07:13.550249Z"
        },
        "trusted": true
      },
      "execution_count": null,
      "outputs": []
    },
    {
      "cell_type": "code",
      "source": [
        "train_data = data_scaled[: train_size]\n",
        "val_data = data_scaled[train_size : train_size+val_size]\n",
        "test_data = data_scaled[train_size+val_size :]\n",
        "\n",
        "print(\"Training Shape:\", train_data.shape)\n",
        "print(\"Validation Shape:\", val_data.shape)\n",
        "print(\"Testing Shape:\", test_data.shape)"
      ],
      "metadata": {
        "id": "mvmnP1M2lInU",
        "outputId": "f820c93a-23ff-4f5a-f94a-98349ad47827",
        "colab": {
          "base_uri": "https://localhost:8080/"
        },
        "execution": {
          "iopub.status.busy": "2023-07-29T15:07:13.700476Z",
          "iopub.execute_input": "2023-07-29T15:07:13.700848Z",
          "iopub.status.idle": "2023-07-29T15:07:13.707538Z",
          "shell.execute_reply.started": "2023-07-29T15:07:13.700817Z",
          "shell.execute_reply": "2023-07-29T15:07:13.706436Z"
        },
        "trusted": true
      },
      "execution_count": null,
      "outputs": [
        {
          "output_type": "stream",
          "name": "stdout",
          "text": [
            "Training Shape: (15321, 27)\n",
            "Validation Shape: (4377, 27)\n",
            "Testing Shape: (2190, 27)\n"
          ]
        }
      ]
    },
    {
      "cell_type": "markdown",
      "source": [
        "### Create Custom Dataset"
      ],
      "metadata": {
        "id": "ZSyPFqPSlInU"
      }
    },
    {
      "cell_type": "markdown",
      "source": [
        "#### Generate data sequences"
      ],
      "metadata": {
        "id": "0T3QqB4IlInU"
      }
    },
    {
      "cell_type": "code",
      "source": [
        "class TimeSeriesDataset(Dataset):\n",
        "    def __init__(self, data, past_len=past_len, pred_len=pred_len):\n",
        "        # Create data sequences\n",
        "        data_len = data.shape[0]\n",
        "        X, Y = list(), list()\n",
        "\n",
        "        for i in range(data_len):\n",
        "            input_end = i + past_len\n",
        "            output_end = input_end + pred_len + 1\n",
        "            # check if we are beyond the dataset\n",
        "            if output_end > data_len:\n",
        "                break\n",
        "            else:\n",
        "                X.append(data[i:input_end])\n",
        "                Y.append(data[input_end:output_end, -1].reshape(-1, 1))\n",
        "\n",
        "        # Shape (samples, seq_len, features)\n",
        "        self.X = np.array(X, dtype=np.float32)\n",
        "        # Shape (samples, seq_len, ) : univariate\n",
        "        self.Y = np.array(Y, dtype=np.float32)\n",
        "\n",
        "    def __len__(self):\n",
        "        # return the size of the dataset\n",
        "        return len(self.X)\n",
        "\n",
        "    def __getitem__(self, idx):\n",
        "        # return one sample from the dataset\n",
        "        return self.X[idx], self.Y[idx, :-1], self.Y[idx, 1:]"
      ],
      "metadata": {
        "id": "u3Gim4TKiNNF",
        "execution": {
          "iopub.status.busy": "2023-07-29T15:14:09.756078Z",
          "iopub.execute_input": "2023-07-29T15:14:09.757190Z",
          "iopub.status.idle": "2023-07-29T15:14:09.766810Z",
          "shell.execute_reply.started": "2023-07-29T15:14:09.757146Z",
          "shell.execute_reply": "2023-07-29T15:14:09.765810Z"
        },
        "trusted": true
      },
      "execution_count": null,
      "outputs": []
    },
    {
      "cell_type": "code",
      "source": [
        "train_dataset = TimeSeriesDataset(train_data)\n",
        "val_dataset = TimeSeriesDataset(val_data)\n",
        "test_dataset = TimeSeriesDataset(test_data)"
      ],
      "metadata": {
        "id": "WPBJBHBzlInV",
        "execution": {
          "iopub.status.busy": "2023-07-29T15:14:11.987468Z",
          "iopub.execute_input": "2023-07-29T15:14:11.987843Z",
          "iopub.status.idle": "2023-07-29T15:14:12.088672Z",
          "shell.execute_reply.started": "2023-07-29T15:14:11.987812Z",
          "shell.execute_reply": "2023-07-29T15:14:12.087683Z"
        },
        "trusted": true
      },
      "execution_count": null,
      "outputs": []
    },
    {
      "cell_type": "markdown",
      "source": [
        "#### Generate from PyTorch's `DataLoader` class"
      ],
      "metadata": {
        "id": "tfqRvYhglInV"
      }
    },
    {
      "cell_type": "code",
      "source": [
        "train_loader = DataLoader(train_dataset, batch_size=batch_size, shuffle=True)\n",
        "val_loader = DataLoader(val_dataset, batch_size=batch_size, shuffle=False)\n",
        "test_loader = DataLoader(test_dataset, batch_size=batch_size, shuffle=False)"
      ],
      "metadata": {
        "id": "qP07wzJrlInW",
        "execution": {
          "iopub.status.busy": "2023-07-29T15:14:14.155187Z",
          "iopub.execute_input": "2023-07-29T15:14:14.155559Z",
          "iopub.status.idle": "2023-07-29T15:14:14.162447Z",
          "shell.execute_reply.started": "2023-07-29T15:14:14.155526Z",
          "shell.execute_reply": "2023-07-29T15:14:14.161309Z"
        },
        "trusted": true
      },
      "execution_count": null,
      "outputs": []
    },
    {
      "cell_type": "code",
      "source": [
        "X, dec_in, y = next(iter(train_loader))\n",
        "\n",
        "print(\"Input shape:\", X.size())\n",
        "print(\"Decoder input shape:\", dec_in.size())\n",
        "print(\"Target shape:\", y.size())"
      ],
      "metadata": {
        "id": "41qVYJEblInm",
        "outputId": "5f480ea2-74c9-4f9f-bcb3-1066da280179",
        "colab": {
          "base_uri": "https://localhost:8080/"
        },
        "execution": {
          "iopub.status.busy": "2023-07-29T16:04:18.413502Z",
          "iopub.execute_input": "2023-07-29T16:04:18.413888Z",
          "iopub.status.idle": "2023-07-29T16:04:18.424875Z",
          "shell.execute_reply.started": "2023-07-29T16:04:18.413856Z",
          "shell.execute_reply": "2023-07-29T16:04:18.423751Z"
        },
        "trusted": true
      },
      "execution_count": null,
      "outputs": [
        {
          "output_type": "stream",
          "name": "stdout",
          "text": [
            "Input shape: torch.Size([32, 24, 27])\n",
            "Decoder input shape: torch.Size([32, 12, 1])\n",
            "Target shape: torch.Size([32, 12, 1])\n"
          ]
        }
      ]
    },
    {
      "cell_type": "markdown",
      "source": [
        "## MODEL AND LEARNING ALGORITHM"
      ],
      "metadata": {
        "id": "hBBYO3ktlInn"
      }
    },
    {
      "cell_type": "markdown",
      "source": [
        "### Model architecture"
      ],
      "metadata": {
        "id": "Wge0T9e-lInn"
      }
    },
    {
      "cell_type": "code",
      "source": [
        "class TransformerModel(nn.Module):\n",
        "    def __init__(self, d_model, nhead, nhid, nlayers, input_size, dropout):\n",
        "        super(TransformerModel, self).__init__()\n",
        "        self.transformer = nn.Transformer(d_model=d_model, nhead=nhead,\n",
        "                                       dim_feedforward=nhid, num_encoder_layers=nlayers,\n",
        "                                       num_decoder_layers=nlayers,dropout=dropout)\n",
        "        self.pos_encoder = PositionalEncoding(d_model, dropout)\n",
        "        self.pos_encoder_d = PositionalEncoding(d_model, dropout)\n",
        "        self.linear = nn.Linear(d_model, 1)\n",
        "        self.encoder = nn.Linear(input_size, d_model)\n",
        "        self.encoder_d = nn.Linear(1, d_model)\n",
        "\n",
        "    def generate_square_subsequent_mask(self, sz):\n",
        "        mask = (torch.triu(torch.ones(sz, sz)) == 1).transpose(0, 1)\n",
        "        mask = mask.float().masked_fill(mask == 0, float('-inf')).masked_fill(mask == 1, float(0.0))\n",
        "        return mask\n",
        "\n",
        "    def forward(self, src, tgt, srcmask, tgtmask):\n",
        "        src = self.encoder(src)\n",
        "        src = self.pos_encoder(src)\n",
        "\n",
        "        tgt = self.encoder_d(tgt)\n",
        "        tgt = self.pos_encoder_d(tgt)\n",
        "        output = self.transformer(src.transpose(0,1), tgt.transpose(0,1), srcmask, tgtmask)\n",
        "        output = self.linear(output)\n",
        "        return output\n",
        "\n",
        "class PositionalEncoding(nn.Module):\n",
        "    def __init__(self, d_model, dropout=0.1, max_len=5000):\n",
        "        super(PositionalEncoding, self).__init__()\n",
        "        self.dropout = nn.Dropout(p=dropout)\n",
        "\n",
        "        pe = torch.zeros(max_len, d_model)\n",
        "        position = torch.arange(0, max_len, dtype=torch.float).unsqueeze(1)\n",
        "        div_term = torch.exp(torch.arange(0, d_model, 2).float() * (-np.log(10000.0) / d_model))\n",
        "        pe[:, 0::2] = torch.sin(position * div_term)\n",
        "        pe[:, 1::2] = torch.cos(position * div_term)\n",
        "        pe = pe.unsqueeze(0).transpose(0, 1)\n",
        "        self.register_buffer('pe', pe)\n",
        "\n",
        "    def forward(self, x):\n",
        "        x = x + self.pe[:x.size(0), :]\n",
        "        return self.dropout(x)\n",
        "\n",
        "def gen_attention_mask(x):\n",
        "    mask = torch.eq(x, 0)\n",
        "    return mask"
      ],
      "metadata": {
        "id": "rb8DRMYT1kK5",
        "execution": {
          "iopub.status.busy": "2023-07-29T15:23:24.673930Z",
          "iopub.execute_input": "2023-07-29T15:23:24.674289Z",
          "iopub.status.idle": "2023-07-29T15:23:24.689478Z",
          "shell.execute_reply.started": "2023-07-29T15:23:24.674260Z",
          "shell.execute_reply": "2023-07-29T15:23:24.688219Z"
        },
        "trusted": true
      },
      "execution_count": null,
      "outputs": []
    },
    {
      "cell_type": "code",
      "source": [
        "model = TransformerModel(d_model=64, nhead=2, nhid=64*4,\n",
        "                    nlayers=2, input_size=input_size,\n",
        "                    dropout=0.1).to(device)\n",
        "\n",
        "total_params = sum(p.numel() for p in model.parameters())\n",
        "learn_params = sum(p.numel() for p in model.parameters() if p.requires_grad)\n",
        "\n",
        "print(model)\n",
        "print(f\"\\nTotal parameters: {total_params}\")\n",
        "print(f\"Learnable parameters: {learn_params}\")"
      ],
      "metadata": {
        "colab": {
          "base_uri": "https://localhost:8080/"
        },
        "id": "Jx3X0IXc2AN1",
        "outputId": "f99216f7-370e-459b-a448-900d3cd274cb",
        "execution": {
          "iopub.status.busy": "2023-07-29T15:23:24.696116Z",
          "iopub.execute_input": "2023-07-29T15:23:24.696388Z",
          "iopub.status.idle": "2023-07-29T15:23:24.722612Z",
          "shell.execute_reply.started": "2023-07-29T15:23:24.696364Z",
          "shell.execute_reply": "2023-07-29T15:23:24.721704Z"
        },
        "trusted": true
      },
      "execution_count": null,
      "outputs": [
        {
          "output_type": "stream",
          "name": "stdout",
          "text": [
            "TransformerModel(\n",
            "  (transformer): Transformer(\n",
            "    (encoder): TransformerEncoder(\n",
            "      (layers): ModuleList(\n",
            "        (0-1): 2 x TransformerEncoderLayer(\n",
            "          (self_attn): MultiheadAttention(\n",
            "            (out_proj): NonDynamicallyQuantizableLinear(in_features=64, out_features=64, bias=True)\n",
            "          )\n",
            "          (linear1): Linear(in_features=64, out_features=256, bias=True)\n",
            "          (dropout): Dropout(p=0.1, inplace=False)\n",
            "          (linear2): Linear(in_features=256, out_features=64, bias=True)\n",
            "          (norm1): LayerNorm((64,), eps=1e-05, elementwise_affine=True)\n",
            "          (norm2): LayerNorm((64,), eps=1e-05, elementwise_affine=True)\n",
            "          (dropout1): Dropout(p=0.1, inplace=False)\n",
            "          (dropout2): Dropout(p=0.1, inplace=False)\n",
            "        )\n",
            "      )\n",
            "      (norm): LayerNorm((64,), eps=1e-05, elementwise_affine=True)\n",
            "    )\n",
            "    (decoder): TransformerDecoder(\n",
            "      (layers): ModuleList(\n",
            "        (0-1): 2 x TransformerDecoderLayer(\n",
            "          (self_attn): MultiheadAttention(\n",
            "            (out_proj): NonDynamicallyQuantizableLinear(in_features=64, out_features=64, bias=True)\n",
            "          )\n",
            "          (multihead_attn): MultiheadAttention(\n",
            "            (out_proj): NonDynamicallyQuantizableLinear(in_features=64, out_features=64, bias=True)\n",
            "          )\n",
            "          (linear1): Linear(in_features=64, out_features=256, bias=True)\n",
            "          (dropout): Dropout(p=0.1, inplace=False)\n",
            "          (linear2): Linear(in_features=256, out_features=64, bias=True)\n",
            "          (norm1): LayerNorm((64,), eps=1e-05, elementwise_affine=True)\n",
            "          (norm2): LayerNorm((64,), eps=1e-05, elementwise_affine=True)\n",
            "          (norm3): LayerNorm((64,), eps=1e-05, elementwise_affine=True)\n",
            "          (dropout1): Dropout(p=0.1, inplace=False)\n",
            "          (dropout2): Dropout(p=0.1, inplace=False)\n",
            "          (dropout3): Dropout(p=0.1, inplace=False)\n",
            "        )\n",
            "      )\n",
            "      (norm): LayerNorm((64,), eps=1e-05, elementwise_affine=True)\n",
            "    )\n",
            "  )\n",
            "  (pos_encoder): PositionalEncoding(\n",
            "    (dropout): Dropout(p=0.1, inplace=False)\n",
            "  )\n",
            "  (pos_encoder_d): PositionalEncoding(\n",
            "    (dropout): Dropout(p=0.1, inplace=False)\n",
            "  )\n",
            "  (linear): Linear(in_features=64, out_features=1, bias=True)\n",
            "  (encoder): Linear(in_features=27, out_features=64, bias=True)\n",
            "  (encoder_d): Linear(in_features=1, out_features=64, bias=True)\n",
            ")\n",
            "\n",
            "Total parameters: 235713\n",
            "Learnable parameters: 235713\n"
          ]
        }
      ]
    },
    {
      "cell_type": "markdown",
      "source": [
        "### Loss and Optimizer"
      ],
      "metadata": {
        "id": "CIa-lfpPlIno"
      }
    },
    {
      "cell_type": "code",
      "source": [
        "loss_func = nn.MSELoss()\n",
        "opt = optim.Adam(model.parameters(), lr=learning_rate)"
      ],
      "metadata": {
        "id": "fIpHHxK_lIno",
        "execution": {
          "iopub.status.busy": "2023-07-29T15:23:27.654135Z",
          "iopub.execute_input": "2023-07-29T15:23:27.654801Z",
          "iopub.status.idle": "2023-07-29T15:23:27.660113Z",
          "shell.execute_reply.started": "2023-07-29T15:23:27.654764Z",
          "shell.execute_reply": "2023-07-29T15:23:27.658871Z"
        },
        "trusted": true
      },
      "execution_count": null,
      "outputs": []
    },
    {
      "cell_type": "markdown",
      "source": [
        "### Callbacks"
      ],
      "metadata": {
        "id": "D3AN-CvIlIno"
      }
    },
    {
      "cell_type": "code",
      "source": [
        "# Early Stopping\n",
        "# Stop training if validation loss does not improve\n",
        "class EarlyStopping:\n",
        "\n",
        "    def __init__(self, patience, model_save_path, min_delta=0):\n",
        "        self.patience = patience\n",
        "        self.min_delta = min_delta\n",
        "        self.model_save_path = model_save_path\n",
        "        self.counter = 0\n",
        "        self.min_validation_loss = np.inf\n",
        "        self.best_epoch = 0\n",
        "        self.early_stop = False\n",
        "\n",
        "\n",
        "    def __call__(self, epoch, model, validation_loss):\n",
        "        delta_loss = self.min_validation_loss - validation_loss\n",
        "        # Check if val loss is smaller than min loss\n",
        "        if delta_loss > self.min_delta:\n",
        "            self.min_validation_loss = validation_loss\n",
        "            self.counter = 0\n",
        "            # Save best model\n",
        "            self.best_epoch = epoch\n",
        "            torch.save(model.state_dict(), self.model_save_path)\n",
        "        else:\n",
        "            self.counter += 1\n",
        "            if self.counter >= self.patience:\n",
        "                print(f\"Early Stopping.\")\n",
        "                print(f\"Save best model at epoch {self.best_epoch}\")\n",
        "                self.early_stop = True"
      ],
      "metadata": {
        "id": "A5rP0_06lInp",
        "execution": {
          "iopub.status.busy": "2023-07-29T15:07:47.205408Z",
          "iopub.execute_input": "2023-07-29T15:07:47.206105Z",
          "iopub.status.idle": "2023-07-29T15:07:47.214483Z",
          "shell.execute_reply.started": "2023-07-29T15:07:47.206070Z",
          "shell.execute_reply": "2023-07-29T15:07:47.213301Z"
        },
        "trusted": true
      },
      "execution_count": null,
      "outputs": []
    },
    {
      "cell_type": "code",
      "source": [
        "# ReduceLROnPlateau\n",
        "# Reduce learning rate when validation loss stops improving\n",
        "lr_scheduler = optim.lr_scheduler.ReduceLROnPlateau(opt, factor=0.3, patience=lr_patience, verbose=True)"
      ],
      "metadata": {
        "id": "YRazzusflInp",
        "execution": {
          "iopub.status.busy": "2023-07-29T15:23:29.963476Z",
          "iopub.execute_input": "2023-07-29T15:23:29.963831Z",
          "iopub.status.idle": "2023-07-29T15:23:29.968664Z",
          "shell.execute_reply.started": "2023-07-29T15:23:29.963800Z",
          "shell.execute_reply": "2023-07-29T15:23:29.967633Z"
        },
        "trusted": true
      },
      "execution_count": null,
      "outputs": []
    },
    {
      "cell_type": "markdown",
      "source": [
        "## TRAINING"
      ],
      "metadata": {
        "id": "YBUPVEDMlInp"
      }
    },
    {
      "cell_type": "markdown",
      "source": [
        "### Define training loop"
      ],
      "metadata": {
        "id": "a7fznNcglInp"
      }
    },
    {
      "cell_type": "code",
      "source": [
        "def train_model(data_loader, model, loss_function, optimizer):\n",
        "    num_batches = len(data_loader)\n",
        "    total_loss = 0\n",
        "    model.train()\n",
        "\n",
        "    for X, dec_in, y in data_loader:\n",
        "        X, dec_in, y = X.to(device), dec_in.to(device), y.to(device)\n",
        "\n",
        "        # Forward pass\n",
        "        src_mask = model.generate_square_subsequent_mask(X.shape[1]).to(device)\n",
        "        tgt_mask = model.generate_square_subsequent_mask(dec_in.shape[1]).to(device)\n",
        "        output = model(X, dec_in, src_mask, tgt_mask)\n",
        "        loss = loss_function(output.permute(1,0,2), y)\n",
        "\n",
        "        # Backward and optimize\n",
        "        optimizer.zero_grad()\n",
        "        loss.backward()\n",
        "        optimizer.step()\n",
        "\n",
        "        total_loss += loss.item()\n",
        "\n",
        "    train_avg_loss = total_loss / num_batches\n",
        "\n",
        "    return train_avg_loss\n",
        "\n",
        "\n",
        "def val_model(data_loader, model, loss_function):\n",
        "    num_batches = len(data_loader)\n",
        "    total_loss = 0\n",
        "\n",
        "    model.eval()\n",
        "    with torch.no_grad():\n",
        "        for X, dec_in, y in data_loader:\n",
        "            X, dec_in, y = X.to(device), dec_in.to(device), y.to(device)\n",
        "\n",
        "            # Forward pass\n",
        "            src_mask = model.generate_square_subsequent_mask(X.shape[1]).to(device)\n",
        "            tgt_mask = model.generate_square_subsequent_mask(dec_in.shape[1]).to(device)\n",
        "            output = model(X, dec_in, src_mask, tgt_mask)\n",
        "            total_loss += loss_function(output.permute(1,0,2), y).item()\n",
        "\n",
        "    val_avg_loss = total_loss / num_batches\n",
        "\n",
        "    return val_avg_loss"
      ],
      "metadata": {
        "id": "TzKHTo6UlInq",
        "execution": {
          "iopub.status.busy": "2023-07-29T15:23:36.148463Z",
          "iopub.execute_input": "2023-07-29T15:23:36.148840Z",
          "iopub.status.idle": "2023-07-29T15:23:36.161076Z",
          "shell.execute_reply.started": "2023-07-29T15:23:36.148808Z",
          "shell.execute_reply": "2023-07-29T15:23:36.160113Z"
        },
        "trusted": true
      },
      "execution_count": null,
      "outputs": []
    },
    {
      "cell_type": "code",
      "source": [
        "# Log losses for plotting\n",
        "all_losses = []\n",
        "\n",
        "# Initialize Early Stopping object\n",
        "early_stopper = EarlyStopping(patience=es_patience, model_save_path=model_save_path)\n",
        "for epoch in range(num_epochs):\n",
        "    train_loss = train_model(train_loader, model, loss_func, opt)\n",
        "    val_loss = val_model(val_loader, model, loss_func)\n",
        "    all_losses.append([train_loss, val_loss])\n",
        "\n",
        "    # Display\n",
        "    print(f\"\\nEpoch [{epoch}/{num_epochs-1}]\\t\\tTrain loss: {train_loss:.6f} - Val loss: {val_loss:.6f}\")\n",
        "\n",
        "    # EarlyStopping\n",
        "    early_stopper(epoch, model, val_loss)\n",
        "    if early_stopper.early_stop:\n",
        "        break\n",
        "    # Adjust learning rate\n",
        "    lr_scheduler.step(val_loss)"
      ],
      "metadata": {
        "id": "iVxGfctQlInq",
        "outputId": "887c4f4f-9083-41f8-83fa-1023efcb8b59",
        "colab": {
          "base_uri": "https://localhost:8080/"
        },
        "execution": {
          "iopub.status.busy": "2023-07-29T15:23:38.196476Z",
          "iopub.execute_input": "2023-07-29T15:23:38.196839Z",
          "iopub.status.idle": "2023-07-29T15:32:40.309083Z",
          "shell.execute_reply.started": "2023-07-29T15:23:38.196809Z",
          "shell.execute_reply": "2023-07-29T15:32:40.307994Z"
        },
        "scrolled": true,
        "trusted": true
      },
      "execution_count": null,
      "outputs": [
        {
          "output_type": "stream",
          "name": "stdout",
          "text": [
            "\n",
            "Epoch [0/99]\t\tTrain loss: 0.154422 - Val loss: 0.034919\n",
            "\n",
            "Epoch [1/99]\t\tTrain loss: 0.035193 - Val loss: 0.061900\n",
            "\n",
            "Epoch [2/99]\t\tTrain loss: 0.028226 - Val loss: 0.021760\n",
            "\n",
            "Epoch [3/99]\t\tTrain loss: 0.024920 - Val loss: 0.018979\n",
            "\n",
            "Epoch [4/99]\t\tTrain loss: 0.021271 - Val loss: 0.018358\n",
            "\n",
            "Epoch [5/99]\t\tTrain loss: 0.019304 - Val loss: 0.016513\n",
            "\n",
            "Epoch [6/99]\t\tTrain loss: 0.017340 - Val loss: 0.013813\n",
            "\n",
            "Epoch [7/99]\t\tTrain loss: 0.016323 - Val loss: 0.023765\n",
            "\n",
            "Epoch [8/99]\t\tTrain loss: 0.015188 - Val loss: 0.014906\n",
            "\n",
            "Epoch [9/99]\t\tTrain loss: 0.014575 - Val loss: 0.020859\n",
            "\n",
            "Epoch [10/99]\t\tTrain loss: 0.013036 - Val loss: 0.016578\n",
            "\n",
            "Epoch [11/99]\t\tTrain loss: 0.012843 - Val loss: 0.020464\n",
            "\n",
            "Epoch [12/99]\t\tTrain loss: 0.013007 - Val loss: 0.016349\n",
            "Epoch 00013: reducing learning rate of group 0 to 3.0000e-04.\n",
            "\n",
            "Epoch [13/99]\t\tTrain loss: 0.010350 - Val loss: 0.013175\n",
            "\n",
            "Epoch [14/99]\t\tTrain loss: 0.009989 - Val loss: 0.013954\n",
            "\n",
            "Epoch [15/99]\t\tTrain loss: 0.009728 - Val loss: 0.013605\n",
            "\n",
            "Epoch [16/99]\t\tTrain loss: 0.009625 - Val loss: 0.013914\n",
            "\n",
            "Epoch [17/99]\t\tTrain loss: 0.009545 - Val loss: 0.013409\n",
            "\n",
            "Epoch [18/99]\t\tTrain loss: 0.009448 - Val loss: 0.013939\n",
            "\n",
            "Epoch [19/99]\t\tTrain loss: 0.009232 - Val loss: 0.013194\n",
            "Epoch 00020: reducing learning rate of group 0 to 9.0000e-05.\n",
            "\n",
            "Epoch [20/99]\t\tTrain loss: 0.008592 - Val loss: 0.013886\n",
            "\n",
            "Epoch [21/99]\t\tTrain loss: 0.008476 - Val loss: 0.013257\n",
            "\n",
            "Epoch [22/99]\t\tTrain loss: 0.008455 - Val loss: 0.013591\n",
            "\n",
            "Epoch [23/99]\t\tTrain loss: 0.008338 - Val loss: 0.013748\n",
            "\n",
            "Epoch [24/99]\t\tTrain loss: 0.008212 - Val loss: 0.013095\n",
            "\n",
            "Epoch [25/99]\t\tTrain loss: 0.008166 - Val loss: 0.012873\n",
            "\n",
            "Epoch [26/99]\t\tTrain loss: 0.008049 - Val loss: 0.013022\n",
            "\n",
            "Epoch [27/99]\t\tTrain loss: 0.007992 - Val loss: 0.012936\n",
            "\n",
            "Epoch [28/99]\t\tTrain loss: 0.007866 - Val loss: 0.013189\n",
            "\n",
            "Epoch [29/99]\t\tTrain loss: 0.007813 - Val loss: 0.012896\n",
            "\n",
            "Epoch [30/99]\t\tTrain loss: 0.007737 - Val loss: 0.013494\n",
            "\n",
            "Epoch [31/99]\t\tTrain loss: 0.007667 - Val loss: 0.013702\n",
            "Epoch 00032: reducing learning rate of group 0 to 2.7000e-05.\n",
            "\n",
            "Epoch [32/99]\t\tTrain loss: 0.007484 - Val loss: 0.012642\n",
            "\n",
            "Epoch [33/99]\t\tTrain loss: 0.007464 - Val loss: 0.012941\n",
            "\n",
            "Epoch [34/99]\t\tTrain loss: 0.007390 - Val loss: 0.013158\n",
            "\n",
            "Epoch [35/99]\t\tTrain loss: 0.007306 - Val loss: 0.012883\n",
            "\n",
            "Epoch [36/99]\t\tTrain loss: 0.007302 - Val loss: 0.012682\n",
            "\n",
            "Epoch [37/99]\t\tTrain loss: 0.007314 - Val loss: 0.012866\n",
            "\n",
            "Epoch [38/99]\t\tTrain loss: 0.007273 - Val loss: 0.012719\n",
            "Epoch 00039: reducing learning rate of group 0 to 8.1000e-06.\n",
            "\n",
            "Epoch [39/99]\t\tTrain loss: 0.007193 - Val loss: 0.012771\n",
            "\n",
            "Epoch [40/99]\t\tTrain loss: 0.007183 - Val loss: 0.012657\n",
            "\n",
            "Epoch [41/99]\t\tTrain loss: 0.007227 - Val loss: 0.012790\n",
            "\n",
            "Epoch [42/99]\t\tTrain loss: 0.007147 - Val loss: 0.012844\n",
            "\n",
            "Epoch [43/99]\t\tTrain loss: 0.007189 - Val loss: 0.012836\n",
            "\n",
            "Epoch [44/99]\t\tTrain loss: 0.007108 - Val loss: 0.012692\n",
            "Epoch 00045: reducing learning rate of group 0 to 2.4300e-06.\n",
            "\n",
            "Epoch [45/99]\t\tTrain loss: 0.007088 - Val loss: 0.012763\n",
            "\n",
            "Epoch [46/99]\t\tTrain loss: 0.007131 - Val loss: 0.012723\n",
            "\n",
            "Epoch [47/99]\t\tTrain loss: 0.007141 - Val loss: 0.012752\n",
            "Early Stopping.\n",
            "Save best model at epoch 32\n"
          ]
        }
      ]
    },
    {
      "cell_type": "markdown",
      "source": [
        "### Plot history"
      ],
      "metadata": {
        "id": "O0DYVoqOlInq"
      }
    },
    {
      "cell_type": "code",
      "source": [
        "plt.title(\"Transformer Model\", size=18, y=1.1)\n",
        "plt.plot(all_losses, label=[\"Train loss\", \"Val loss\"])\n",
        "plt.xlabel(\"Epoch\", fontsize=13)\n",
        "plt.ylabel(\"MSE\", fontsize=13)\n",
        "plt.legend(loc=\"upper right\", fontsize=10)\n",
        "plt.show()"
      ],
      "metadata": {
        "id": "Wn5UeqsrlInr",
        "outputId": "1131aee7-20c7-4df8-8d3c-ab10e2770348",
        "colab": {
          "base_uri": "https://localhost:8080/",
          "height": 449
        },
        "execution": {
          "iopub.status.busy": "2023-07-29T15:32:47.196529Z",
          "iopub.execute_input": "2023-07-29T15:32:47.197162Z",
          "iopub.status.idle": "2023-07-29T15:32:47.497314Z",
          "shell.execute_reply.started": "2023-07-29T15:32:47.197129Z",
          "shell.execute_reply": "2023-07-29T15:32:47.496236Z"
        },
        "trusted": true
      },
      "execution_count": null,
      "outputs": [
        {
          "output_type": "display_data",
          "data": {
            "text/plain": [
              "<Figure size 1200x400 with 1 Axes>"
            ],
            "image/png": "[encoded data removed]"
          },
          "metadata": {}
        }
      ]
    },
    {
      "cell_type": "markdown",
      "source": [
        "## EVALUATION"
      ],
      "metadata": {
        "id": "3bvGqDZalInr"
      }
    },
    {
      "cell_type": "markdown",
      "source": [
        "### Load best checkpoint"
      ],
      "metadata": {
        "id": "bmEYjJ3nlInr"
      }
    },
    {
      "cell_type": "code",
      "source": [
        "model.load_state_dict(torch.load(model_save_path))"
      ],
      "metadata": {
        "id": "s_0qQqSIlInr",
        "outputId": "a5b759fc-a0f0-43a8-b9b0-dfcce84847d1",
        "colab": {
          "base_uri": "https://localhost:8080/"
        },
        "execution": {
          "iopub.status.busy": "2023-07-29T15:32:55.090621Z",
          "iopub.execute_input": "2023-07-29T15:32:55.091515Z",
          "iopub.status.idle": "2023-07-29T15:32:55.113912Z",
          "shell.execute_reply.started": "2023-07-29T15:32:55.091468Z",
          "shell.execute_reply": "2023-07-29T15:32:55.112825Z"
        },
        "trusted": true
      },
      "execution_count": null,
      "outputs": [
        {
          "output_type": "execute_result",
          "data": {
            "text/plain": [
              "<All keys matched successfully>"
            ]
          },
          "metadata": {},
          "execution_count": 38
        }
      ]
    },
    {
      "cell_type": "markdown",
      "source": [
        "### Predict"
      ],
      "metadata": {
        "id": "71n4A4zzlIns"
      }
    },
    {
      "cell_type": "code",
      "source": [
        "def predict(data_loader, model):\n",
        "    pred, true = torch.tensor([]).to(device), torch.tensor([]).to(device)\n",
        "    model.eval()\n",
        "    with torch.no_grad():\n",
        "        for X, dec_in, y in data_loader:\n",
        "            X, dec_in, y = X.to(device), dec_in.to(device), y.to(device)\n",
        "            src_mask = model.generate_square_subsequent_mask(X.shape[1]).to(device)\n",
        "            tgt_mask = model.generate_square_subsequent_mask(dec_in.shape[1]).to(device)\n",
        "            y_pred = model(X, dec_in, src_mask, tgt_mask)\n",
        "            pred = torch.cat((pred, y_pred.permute(1,0,2).to(device)), 0)\n",
        "            true = torch.cat((true, y.to(device)), 0)\n",
        "\n",
        "    return pred, true"
      ],
      "metadata": {
        "id": "Ol6m4JSClIns",
        "execution": {
          "iopub.status.busy": "2023-07-29T15:44:34.524447Z",
          "iopub.execute_input": "2023-07-29T15:44:34.524842Z",
          "iopub.status.idle": "2023-07-29T15:44:34.533663Z",
          "shell.execute_reply.started": "2023-07-29T15:44:34.524792Z",
          "shell.execute_reply": "2023-07-29T15:44:34.532533Z"
        },
        "trusted": true
      },
      "execution_count": null,
      "outputs": []
    },
    {
      "cell_type": "code",
      "source": [
        "y_pred, y_test = predict(test_loader, model)\n",
        "\n",
        "# Inverse the transformation\n",
        "y_pred_inv = np.expm1(y_pred.cpu())\n",
        "y_test_inv = np.expm1(y_test.cpu())"
      ],
      "metadata": {
        "id": "LBOU2BCplIns",
        "execution": {
          "iopub.status.busy": "2023-07-29T15:44:37.111996Z",
          "iopub.execute_input": "2023-07-29T15:44:37.112358Z",
          "iopub.status.idle": "2023-07-29T15:44:37.429260Z",
          "shell.execute_reply.started": "2023-07-29T15:44:37.112326Z",
          "shell.execute_reply": "2023-07-29T15:44:37.428267Z"
        },
        "trusted": true
      },
      "execution_count": null,
      "outputs": []
    },
    {
      "cell_type": "markdown",
      "source": [
        "### Metrics\n"
      ],
      "metadata": {
        "id": "Tt0GmlNylInt"
      }
    },
    {
      "cell_type": "code",
      "source": [
        "# Hours ahead to predict\n",
        "forecast_length = 12"
      ],
      "metadata": {
        "id": "JW43BuwIlInt",
        "execution": {
          "iopub.status.busy": "2023-07-29T16:02:47.535840Z",
          "iopub.execute_input": "2023-07-29T16:02:47.536216Z",
          "iopub.status.idle": "2023-07-29T16:02:47.540689Z",
          "shell.execute_reply.started": "2023-07-29T16:02:47.536185Z",
          "shell.execute_reply": "2023-07-29T16:02:47.539520Z"
        },
        "trusted": true
      },
      "execution_count": null,
      "outputs": []
    },
    {
      "cell_type": "code",
      "source": [
        "truth = y_test_inv[:, forecast_length-1].numpy()\n",
        "forecast = y_pred_inv[:, forecast_length-1].numpy()\n",
        "\n",
        "diff = np.subtract(truth, forecast)\n",
        "# MAPE\n",
        "mape = np.mean(np.abs(diff / truth))\n",
        "# RMSE\n",
        "mse = np.mean(np.square(diff))\n",
        "rmse = np.sqrt(mse)\n",
        "# NSE\n",
        "num = np.sum(np.square(diff))\n",
        "den = np.sum(np.square(np.subtract(truth, truth.mean())))\n",
        "nse = 1 - (num / den)\n",
        "\n",
        "print(f\"{forecast_length}-hour forecast MAPE : {mape:.4f}\")\n",
        "print(f\"{forecast_length}-hour forecast RMSE: {rmse:.4f}\")\n",
        "print(f\"{forecast_length}-hour forecast NSE: {nse:.4f}\")"
      ],
      "metadata": {
        "id": "oDTh3ggDlInt",
        "outputId": "d3542771-4406-4010-baa4-e56360caa03e",
        "colab": {
          "base_uri": "https://localhost:8080/"
        },
        "execution": {
          "iopub.status.busy": "2023-07-29T16:02:47.881539Z",
          "iopub.execute_input": "2023-07-29T16:02:47.882219Z",
          "iopub.status.idle": "2023-07-29T16:02:47.892084Z",
          "shell.execute_reply.started": "2023-07-29T16:02:47.882185Z",
          "shell.execute_reply": "2023-07-29T16:02:47.890980Z"
        },
        "trusted": true
      },
      "execution_count": null,
      "outputs": [
        {
          "output_type": "stream",
          "name": "stdout",
          "text": [
            "12-hour forecast MAPE : 0.0906\n",
            "12-hour forecast RMSE: 13.7557\n",
            "12-hour forecast NSE: 0.8722\n"
          ]
        }
      ]
    },
    {
      "cell_type": "markdown",
      "source": [
        "### Visualize forecasts"
      ],
      "metadata": {
        "id": "X0vc8XyplInu"
      }
    },
    {
      "cell_type": "code",
      "source": [
        "plt.title(f\"{forecast_length}-Hour Ahead Forecasting\\nMAPE: {mape:.3f} - RMSE: {rmse:.3f} - NSE: {nse:.3f}\", size=16, y=1.1)\n",
        "plt.plot(truth, label=\"Ground Truth\", color=\"teal\")\n",
        "plt.plot(forecast, label=\"Prediction\", color=\"darkred\")\n",
        "plt.xlabel(\"Observation\")\n",
        "plt.legend(fontsize=10)\n",
        "plt.show()"
      ],
      "metadata": {
        "id": "KCOqY0yllInu",
        "outputId": "d846d6e7-d717-4f39-a714-5f2ff20ab7b1",
        "colab": {
          "base_uri": "https://localhost:8080/",
          "height": 465
        },
        "execution": {
          "iopub.status.busy": "2023-07-29T16:02:51.870462Z",
          "iopub.execute_input": "2023-07-29T16:02:51.870848Z",
          "iopub.status.idle": "2023-07-29T16:02:52.140595Z",
          "shell.execute_reply.started": "2023-07-29T16:02:51.870815Z",
          "shell.execute_reply": "2023-07-29T16:02:52.139682Z"
        },
        "trusted": true
      },
      "execution_count": null,
      "outputs": [
        {
          "output_type": "display_data",
          "data": {
            "text/plain": [
              "<Figure size 1200x400 with 1 Axes>"
            ],
            "image/png": "[encoded data removed]"
          },
          "metadata": {}
        }
      ]
    }
  ]
}