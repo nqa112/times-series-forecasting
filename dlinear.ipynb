{
  "cells": [
    {
      "cell_type": "markdown",
      "metadata": {
        "id": "view-in-github",
        "colab_type": "text"
      },
      "source": [
        "<a href=\"https://colab.research.google.com/github/nqa112/times-series-forecasting/blob/main/dlinear.ipynb\" target=\"_parent\"><img src=\"https://colab.research.google.com/assets/colab-badge.svg\" alt=\"Open In Colab\"/></a>"
      ]
    },
    {
      "cell_type": "markdown",
      "metadata": {
        "id": "9nu3gw3BU2np"
      },
      "source": [
        "## BASIC SETUP"
      ]
    },
    {
      "cell_type": "code",
      "execution_count": null,
      "metadata": {
        "id": "MtoKQSxmU2ns"
      },
      "outputs": [],
      "source": [
        "from pathlib import Path\n",
        "import numpy as np\n",
        "import pandas as pd\n",
        "import torch\n",
        "import torch.nn as nn\n",
        "import torch.nn.functional as F\n",
        "from torch.utils.data import Dataset, DataLoader\n",
        "import torch.optim as optim"
      ]
    },
    {
      "cell_type": "code",
      "execution_count": null,
      "metadata": {
        "colab": {
          "base_uri": "https://localhost:8080/"
        },
        "id": "ltXTApgCU2nu",
        "outputId": "2c1a5b56-5e0b-4f75-c4c7-1cb659c782c8"
      },
      "outputs": [
        {
          "output_type": "stream",
          "name": "stdout",
          "text": [
            "Using cpu.\n"
          ]
        }
      ],
      "source": [
        "# Set random seed\n",
        "SEED = 12\n",
        "torch.manual_seed(SEED)\n",
        "np.random.seed(SEED)\n",
        "# Device configuration\n",
        "device = torch.device('cuda' if torch.cuda.is_available() else 'cpu')\n",
        "print(f\"Using {device}.\")"
      ]
    },
    {
      "cell_type": "code",
      "execution_count": null,
      "metadata": {
        "id": "UGdi4YJzU2nw"
      },
      "outputs": [],
      "source": [
        "import matplotlib.pyplot as plt\n",
        "from matplotlib import rcParams\n",
        "from cycler import cycler\n",
        "\n",
        "rcParams['figure.figsize'] = 13, 4\n",
        "\n",
        "# Box\n",
        "rcParams['axes.spines.top'] = False\n",
        "rcParams['axes.spines.left'] = False\n",
        "rcParams['axes.spines.right'] = False\n",
        "rcParams['axes.prop_cycle'] = cycler(color=['navy','goldenrod'])\n",
        "\n",
        "# Grid and axis thickness, color\n",
        "rcParams['axes.linewidth'] = 1\n",
        "rcParams['axes.edgecolor'] = '#5B5859'\n",
        "rcParams['axes.ymargin'] = 0\n",
        "rcParams['axes.grid'] = True\n",
        "rcParams['axes.grid.axis'] = 'y'\n",
        "rcParams['axes.axisbelow'] = True\n",
        "rcParams['grid.color'] = 'grey'\n",
        "rcParams['grid.linewidth'] = 0.5\n",
        "\n",
        "# xticks, yticks\n",
        "rcParams['ytick.major.width'] = 0\n",
        "rcParams['ytick.major.size'] = 0\n",
        "rcParams['ytick.color'] = '#393433'\n",
        "rcParams['xtick.major.width'] = 1\n",
        "rcParams['xtick.major.size'] = 3\n",
        "rcParams['xtick.color'] = '#393433'\n",
        "\n",
        "# Line thickness\n",
        "rcParams['lines.linewidth'] = 1.5\n",
        "\n",
        "# Saving quality\n",
        "rcParams['savefig.bbox'] = 'tight'\n",
        "rcParams['savefig.dpi'] = 500\n",
        "rcParams['savefig.transparent'] = True"
      ]
    },
    {
      "cell_type": "markdown",
      "metadata": {
        "id": "9U9NUfEhU2nx"
      },
      "source": [
        "## LOAD DATA"
      ]
    },
    {
      "cell_type": "code",
      "execution_count": null,
      "metadata": {
        "id": "MYb6JMcvU2nx"
      },
      "outputs": [],
      "source": [
        "csv_path = Path(\"BVData.csv\")\n",
        "df = pd.read_csv(csv_path)\n",
        "\n",
        "# Convert into a DateTime type\n",
        "df[\"DateTime\"] = pd.to_datetime(df[\"DateTime\"], format=\"%Y-%m-%d %H:%M\")\n",
        "df = df.drop(columns=[\"Date\", \"Time\"])"
      ]
    },
    {
      "cell_type": "code",
      "execution_count": null,
      "metadata": {
        "colab": {
          "base_uri": "https://localhost:8080/",
          "height": 236
        },
        "id": "Stk9hzrXU2ny",
        "outputId": "77a3c7f2-80af-448d-fe36-04774190aeeb"
      },
      "outputs": [
        {
          "output_type": "execute_result",
          "data": {
            "text/plain": [
              "             DateTime  Month    1    2    3    4    5    6    7    8  ...  \\\n",
              "0 2020-01-01 00:00:00      1  0.2  0.0  0.0  0.0  0.0  0.0  0.0  0.0  ...   \n",
              "1 2020-01-01 01:00:00      1  0.2  0.0  0.0  0.0  0.0  0.0  0.0  0.0  ...   \n",
              "2 2020-01-01 02:00:00      1  0.6  0.0  0.0  0.0  0.2  0.2  0.0  0.0  ...   \n",
              "3 2020-01-01 03:00:00      1  0.6  0.0  0.0  0.0  0.6  0.2  0.0  0.0  ...   \n",
              "4 2020-01-01 04:00:00      1  0.4  0.0  0.0  0.0  0.8  0.2  0.0  0.0  ...   \n",
              "\n",
              "    13   14   15   16   17   18   19   20   21    QV  \n",
              "0  0.0  0.0  0.0  0.0  0.0  0.0  0.0  0.0  0.0  31.0  \n",
              "1  0.0  0.0  0.0  0.0  0.0  0.0  0.0  0.0  0.0  31.0  \n",
              "2  0.0  0.0  0.0  0.0  0.0  0.0  0.0  0.0  0.0  31.0  \n",
              "3  0.0  0.0  0.0  0.0  0.0  0.0  0.0  0.0  0.0  31.0  \n",
              "4  0.0  0.0  0.0  0.0  0.0  0.0  0.0  0.0  0.0  31.0  \n",
              "\n",
              "[5 rows x 24 columns]"
            ],
            "text/html": [
              "\n",
              "\n",
              "  <div id=\"df-60945ebd-d9a2-48e4-bddb-d4108e3e8c04\">\n",
              "    <div class=\"colab-df-container\">\n",
              "      <div>\n",
              "<style scoped>\n",
              "    .dataframe tbody tr th:only-of-type {\n",
              "        vertical-align: middle;\n",
              "    }\n",
              "\n",
              "    .dataframe tbody tr th {\n",
              "        vertical-align: top;\n",
              "    }\n",
              "\n",
              "    .dataframe thead th {\n",
              "        text-align: right;\n",
              "    }\n",
              "</style>\n",
              "<table border=\"1\" class=\"dataframe\">\n",
              "  <thead>\n",
              "    <tr style=\"text-align: right;\">\n",
              "      <th></th>\n",
              "      <th>DateTime</th>\n",
              "      <th>Month</th>\n",
              "      <th>1</th>\n",
              "      <th>2</th>\n",
              "      <th>3</th>\n",
              "      <th>4</th>\n",
              "      <th>5</th>\n",
              "      <th>6</th>\n",
              "      <th>7</th>\n",
              "      <th>8</th>\n",
              "      <th>...</th>\n",
              "      <th>13</th>\n",
              "      <th>14</th>\n",
              "      <th>15</th>\n",
              "      <th>16</th>\n",
              "      <th>17</th>\n",
              "      <th>18</th>\n",
              "      <th>19</th>\n",
              "      <th>20</th>\n",
              "      <th>21</th>\n",
              "      <th>QV</th>\n",
              "    </tr>\n",
              "  </thead>\n",
              "  <tbody>\n",
              "    <tr>\n",
              "      <th>0</th>\n",
              "      <td>2020-01-01 00:00:00</td>\n",
              "      <td>1</td>\n",
              "      <td>0.2</td>\n",
              "      <td>0.0</td>\n",
              "      <td>0.0</td>\n",
              "      <td>0.0</td>\n",
              "      <td>0.0</td>\n",
              "      <td>0.0</td>\n",
              "      <td>0.0</td>\n",
              "      <td>0.0</td>\n",
              "      <td>...</td>\n",
              "      <td>0.0</td>\n",
              "      <td>0.0</td>\n",
              "      <td>0.0</td>\n",
              "      <td>0.0</td>\n",
              "      <td>0.0</td>\n",
              "      <td>0.0</td>\n",
              "      <td>0.0</td>\n",
              "      <td>0.0</td>\n",
              "      <td>0.0</td>\n",
              "      <td>31.0</td>\n",
              "    </tr>\n",
              "    <tr>\n",
              "      <th>1</th>\n",
              "      <td>2020-01-01 01:00:00</td>\n",
              "      <td>1</td>\n",
              "      <td>0.2</td>\n",
              "      <td>0.0</td>\n",
              "      <td>0.0</td>\n",
              "      <td>0.0</td>\n",
              "      <td>0.0</td>\n",
              "      <td>0.0</td>\n",
              "      <td>0.0</td>\n",
              "      <td>0.0</td>\n",
              "      <td>...</td>\n",
              "      <td>0.0</td>\n",
              "      <td>0.0</td>\n",
              "      <td>0.0</td>\n",
              "      <td>0.0</td>\n",
              "      <td>0.0</td>\n",
              "      <td>0.0</td>\n",
              "      <td>0.0</td>\n",
              "      <td>0.0</td>\n",
              "      <td>0.0</td>\n",
              "      <td>31.0</td>\n",
              "    </tr>\n",
              "    <tr>\n",
              "      <th>2</th>\n",
              "      <td>2020-01-01 02:00:00</td>\n",
              "      <td>1</td>\n",
              "      <td>0.6</td>\n",
              "      <td>0.0</td>\n",
              "      <td>0.0</td>\n",
              "      <td>0.0</td>\n",
              "      <td>0.2</td>\n",
              "      <td>0.2</td>\n",
              "      <td>0.0</td>\n",
              "      <td>0.0</td>\n",
              "      <td>...</td>\n",
              "      <td>0.0</td>\n",
              "      <td>0.0</td>\n",
              "      <td>0.0</td>\n",
              "      <td>0.0</td>\n",
              "      <td>0.0</td>\n",
              "      <td>0.0</td>\n",
              "      <td>0.0</td>\n",
              "      <td>0.0</td>\n",
              "      <td>0.0</td>\n",
              "      <td>31.0</td>\n",
              "    </tr>\n",
              "    <tr>\n",
              "      <th>3</th>\n",
              "      <td>2020-01-01 03:00:00</td>\n",
              "      <td>1</td>\n",
              "      <td>0.6</td>\n",
              "      <td>0.0</td>\n",
              "      <td>0.0</td>\n",
              "      <td>0.0</td>\n",
              "      <td>0.6</td>\n",
              "      <td>0.2</td>\n",
              "      <td>0.0</td>\n",
              "      <td>0.0</td>\n",
              "      <td>...</td>\n",
              "      <td>0.0</td>\n",
              "      <td>0.0</td>\n",
              "      <td>0.0</td>\n",
              "      <td>0.0</td>\n",
              "      <td>0.0</td>\n",
              "      <td>0.0</td>\n",
              "      <td>0.0</td>\n",
              "      <td>0.0</td>\n",
              "      <td>0.0</td>\n",
              "      <td>31.0</td>\n",
              "    </tr>\n",
              "    <tr>\n",
              "      <th>4</th>\n",
              "      <td>2020-01-01 04:00:00</td>\n",
              "      <td>1</td>\n",
              "      <td>0.4</td>\n",
              "      <td>0.0</td>\n",
              "      <td>0.0</td>\n",
              "      <td>0.0</td>\n",
              "      <td>0.8</td>\n",
              "      <td>0.2</td>\n",
              "      <td>0.0</td>\n",
              "      <td>0.0</td>\n",
              "      <td>...</td>\n",
              "      <td>0.0</td>\n",
              "      <td>0.0</td>\n",
              "      <td>0.0</td>\n",
              "      <td>0.0</td>\n",
              "      <td>0.0</td>\n",
              "      <td>0.0</td>\n",
              "      <td>0.0</td>\n",
              "      <td>0.0</td>\n",
              "      <td>0.0</td>\n",
              "      <td>31.0</td>\n",
              "    </tr>\n",
              "  </tbody>\n",
              "</table>\n",
              "<p>5 rows × 24 columns</p>\n",
              "</div>\n",
              "      <button class=\"colab-df-convert\" onclick=\"convertToInteractive('df-60945ebd-d9a2-48e4-bddb-d4108e3e8c04')\"\n",
              "              title=\"Convert this dataframe to an interactive table.\"\n",
              "              style=\"display:none;\">\n",
              "\n",
              "  <svg xmlns=\"http://www.w3.org/2000/svg\" height=\"24px\"viewBox=\"0 0 24 24\"\n",
              "       width=\"24px\">\n",
              "    <path d=\"M0 0h24v24H0V0z\" fill=\"none\"/>\n",
              "    <path d=\"M18.56 5.44l.94 2.06.94-2.06 2.06-.94-2.06-.94-.94-2.06-.94 2.06-2.06.94zm-11 1L8.5 8.5l.94-2.06 2.06-.94-2.06-.94L8.5 2.5l-.94 2.06-2.06.94zm10 10l.94 2.06.94-2.06 2.06-.94-2.06-.94-.94-2.06-.94 2.06-2.06.94z\"/><path d=\"M17.41 7.96l-1.37-1.37c-.4-.4-.92-.59-1.43-.59-.52 0-1.04.2-1.43.59L10.3 9.45l-7.72 7.72c-.78.78-.78 2.05 0 2.83L4 21.41c.39.39.9.59 1.41.59.51 0 1.02-.2 1.41-.59l7.78-7.78 2.81-2.81c.8-.78.8-2.07 0-2.86zM5.41 20L4 18.59l7.72-7.72 1.47 1.35L5.41 20z\"/>\n",
              "  </svg>\n",
              "      </button>\n",
              "\n",
              "\n",
              "\n",
              "    <div id=\"df-cd0c9155-28ca-4cdf-a212-1d5afc174573\">\n",
              "      <button class=\"colab-df-quickchart\" onclick=\"quickchart('df-cd0c9155-28ca-4cdf-a212-1d5afc174573')\"\n",
              "              title=\"Suggest charts.\"\n",
              "              style=\"display:none;\">\n",
              "\n",
              "<svg xmlns=\"http://www.w3.org/2000/svg\" height=\"24px\"viewBox=\"0 0 24 24\"\n",
              "     width=\"24px\">\n",
              "    <g>\n",
              "        <path d=\"M19 3H5c-1.1 0-2 .9-2 2v14c0 1.1.9 2 2 2h14c1.1 0 2-.9 2-2V5c0-1.1-.9-2-2-2zM9 17H7v-7h2v7zm4 0h-2V7h2v10zm4 0h-2v-4h2v4z\"/>\n",
              "    </g>\n",
              "</svg>\n",
              "      </button>\n",
              "    </div>\n",
              "\n",
              "<style>\n",
              "  .colab-df-quickchart {\n",
              "    background-color: #E8F0FE;\n",
              "    border: none;\n",
              "    border-radius: 50%;\n",
              "    cursor: pointer;\n",
              "    display: none;\n",
              "    fill: #1967D2;\n",
              "    height: 32px;\n",
              "    padding: 0 0 0 0;\n",
              "    width: 32px;\n",
              "  }\n",
              "\n",
              "  .colab-df-quickchart:hover {\n",
              "    background-color: #E2EBFA;\n",
              "    box-shadow: 0px 1px 2px rgba(60, 64, 67, 0.3), 0px 1px 3px 1px rgba(60, 64, 67, 0.15);\n",
              "    fill: #174EA6;\n",
              "  }\n",
              "\n",
              "  [theme=dark] .colab-df-quickchart {\n",
              "    background-color: #3B4455;\n",
              "    fill: #D2E3FC;\n",
              "  }\n",
              "\n",
              "  [theme=dark] .colab-df-quickchart:hover {\n",
              "    background-color: #434B5C;\n",
              "    box-shadow: 0px 1px 3px 1px rgba(0, 0, 0, 0.15);\n",
              "    filter: drop-shadow(0px 1px 2px rgba(0, 0, 0, 0.3));\n",
              "    fill: #FFFFFF;\n",
              "  }\n",
              "</style>\n",
              "\n",
              "    <script>\n",
              "      async function quickchart(key) {\n",
              "        const containerElement = document.querySelector('#' + key);\n",
              "        const charts = await google.colab.kernel.invokeFunction(\n",
              "            'suggestCharts', [key], {});\n",
              "      }\n",
              "    </script>\n",
              "\n",
              "      <script>\n",
              "\n",
              "function displayQuickchartButton(domScope) {\n",
              "  let quickchartButtonEl =\n",
              "    domScope.querySelector('#df-cd0c9155-28ca-4cdf-a212-1d5afc174573 button.colab-df-quickchart');\n",
              "  quickchartButtonEl.style.display =\n",
              "    google.colab.kernel.accessAllowed ? 'block' : 'none';\n",
              "}\n",
              "\n",
              "        displayQuickchartButton(document);\n",
              "      </script>\n",
              "      <style>\n",
              "    .colab-df-container {\n",
              "      display:flex;\n",
              "      flex-wrap:wrap;\n",
              "      gap: 12px;\n",
              "    }\n",
              "\n",
              "    .colab-df-convert {\n",
              "      background-color: #E8F0FE;\n",
              "      border: none;\n",
              "      border-radius: 50%;\n",
              "      cursor: pointer;\n",
              "      display: none;\n",
              "      fill: #1967D2;\n",
              "      height: 32px;\n",
              "      padding: 0 0 0 0;\n",
              "      width: 32px;\n",
              "    }\n",
              "\n",
              "    .colab-df-convert:hover {\n",
              "      background-color: #E2EBFA;\n",
              "      box-shadow: 0px 1px 2px rgba(60, 64, 67, 0.3), 0px 1px 3px 1px rgba(60, 64, 67, 0.15);\n",
              "      fill: #174EA6;\n",
              "    }\n",
              "\n",
              "    [theme=dark] .colab-df-convert {\n",
              "      background-color: #3B4455;\n",
              "      fill: #D2E3FC;\n",
              "    }\n",
              "\n",
              "    [theme=dark] .colab-df-convert:hover {\n",
              "      background-color: #434B5C;\n",
              "      box-shadow: 0px 1px 3px 1px rgba(0, 0, 0, 0.15);\n",
              "      filter: drop-shadow(0px 1px 2px rgba(0, 0, 0, 0.3));\n",
              "      fill: #FFFFFF;\n",
              "    }\n",
              "  </style>\n",
              "\n",
              "      <script>\n",
              "        const buttonEl =\n",
              "          document.querySelector('#df-60945ebd-d9a2-48e4-bddb-d4108e3e8c04 button.colab-df-convert');\n",
              "        buttonEl.style.display =\n",
              "          google.colab.kernel.accessAllowed ? 'block' : 'none';\n",
              "\n",
              "        async function convertToInteractive(key) {\n",
              "          const element = document.querySelector('#df-60945ebd-d9a2-48e4-bddb-d4108e3e8c04');\n",
              "          const dataTable =\n",
              "            await google.colab.kernel.invokeFunction('convertToInteractive',\n",
              "                                                     [key], {});\n",
              "          if (!dataTable) return;\n",
              "\n",
              "          const docLinkHtml = 'Like what you see? Visit the ' +\n",
              "            '<a target=\"_blank\" href=https://colab.research.google.com/notebooks/data_table.ipynb>data table notebook</a>'\n",
              "            + ' to learn more about interactive tables.';\n",
              "          element.innerHTML = '';\n",
              "          dataTable['output_type'] = 'display_data';\n",
              "          await google.colab.output.renderOutput(dataTable, element);\n",
              "          const docLink = document.createElement('div');\n",
              "          docLink.innerHTML = docLinkHtml;\n",
              "          element.appendChild(docLink);\n",
              "        }\n",
              "      </script>\n",
              "    </div>\n",
              "  </div>\n"
            ]
          },
          "metadata": {},
          "execution_count": 5
        }
      ],
      "source": [
        "df.head()"
      ]
    },
    {
      "cell_type": "code",
      "execution_count": null,
      "metadata": {
        "colab": {
          "base_uri": "https://localhost:8080/"
        },
        "id": "KDr4rc5ZU2ny",
        "outputId": "90e6b8b4-6bd0-4d20-e9ff-acc5815d3cba"
      },
      "outputs": [
        {
          "output_type": "stream",
          "name": "stdout",
          "text": [
            "<class 'pandas.core.frame.DataFrame'>\n",
            "RangeIndex: 21888 entries, 0 to 21887\n",
            "Data columns (total 24 columns):\n",
            " #   Column    Non-Null Count  Dtype         \n",
            "---  ------    --------------  -----         \n",
            " 0   DateTime  21888 non-null  datetime64[ns]\n",
            " 1   Month     21888 non-null  int64         \n",
            " 2   1         21888 non-null  float64       \n",
            " 3   2         21888 non-null  float64       \n",
            " 4   3         21888 non-null  float64       \n",
            " 5   4         21888 non-null  float64       \n",
            " 6   5         21888 non-null  float64       \n",
            " 7   6         21888 non-null  float64       \n",
            " 8   7         21888 non-null  float64       \n",
            " 9   8         21888 non-null  float64       \n",
            " 10  9         21888 non-null  float64       \n",
            " 11  10        21888 non-null  float64       \n",
            " 12  11        21888 non-null  float64       \n",
            " 13  12        21888 non-null  float64       \n",
            " 14  13        21888 non-null  float64       \n",
            " 15  14        21888 non-null  float64       \n",
            " 16  15        21888 non-null  float64       \n",
            " 17  16        21888 non-null  float64       \n",
            " 18  17        21888 non-null  float64       \n",
            " 19  18        21888 non-null  float64       \n",
            " 20  19        21888 non-null  float64       \n",
            " 21  20        21888 non-null  float64       \n",
            " 22  21        21888 non-null  float64       \n",
            " 23  QV        21888 non-null  float64       \n",
            "dtypes: datetime64[ns](1), float64(22), int64(1)\n",
            "memory usage: 4.0 MB\n"
          ]
        }
      ],
      "source": [
        "df.info()"
      ]
    },
    {
      "cell_type": "markdown",
      "metadata": {
        "id": "VuDk26U4U2nz"
      },
      "source": [
        "## DATA PREPROCESSING"
      ]
    },
    {
      "cell_type": "markdown",
      "metadata": {
        "id": "2pULsZcSEYE5"
      },
      "source": [
        "### Feature engineering"
      ]
    },
    {
      "cell_type": "markdown",
      "metadata": {
        "id": "YJQ5XND8EYE7"
      },
      "source": [
        "#### Date related features"
      ]
    },
    {
      "cell_type": "code",
      "execution_count": null,
      "metadata": {
        "colab": {
          "base_uri": "https://localhost:8080/",
          "height": 267
        },
        "id": "yHwDi32OEYE7",
        "outputId": "8ec921cd-a457-4763-f90d-0bef53837551"
      },
      "outputs": [
        {
          "output_type": "execute_result",
          "data": {
            "text/plain": [
              "                     Month    1    2    3    4    5    6    7    8    9  ...  \\\n",
              "DateTime                                                                 ...   \n",
              "2020-01-01 00:00:00      1  0.2  0.0  0.0  0.0  0.0  0.0  0.0  0.0  0.2  ...   \n",
              "2020-01-01 01:00:00      1  0.2  0.0  0.0  0.0  0.0  0.0  0.0  0.0  0.0  ...   \n",
              "2020-01-01 02:00:00      1  0.6  0.0  0.0  0.0  0.2  0.2  0.0  0.0  0.2  ...   \n",
              "2020-01-01 03:00:00      1  0.6  0.0  0.0  0.0  0.6  0.2  0.0  0.0  0.0  ...   \n",
              "2020-01-01 04:00:00      1  0.4  0.0  0.0  0.0  0.8  0.2  0.0  0.0  0.0  ...   \n",
              "\n",
              "                      17   18   19   20   21    QV  Day_of_month  Day_of_week  \\\n",
              "DateTime                                                                        \n",
              "2020-01-01 00:00:00  0.0  0.0  0.0  0.0  0.0  31.0             1            2   \n",
              "2020-01-01 01:00:00  0.0  0.0  0.0  0.0  0.0  31.0             1            2   \n",
              "2020-01-01 02:00:00  0.0  0.0  0.0  0.0  0.0  31.0             1            2   \n",
              "2020-01-01 03:00:00  0.0  0.0  0.0  0.0  0.0  31.0             1            2   \n",
              "2020-01-01 04:00:00  0.0  0.0  0.0  0.0  0.0  31.0             1            2   \n",
              "\n",
              "                     Hour  Week  \n",
              "DateTime                         \n",
              "2020-01-01 00:00:00     0     1  \n",
              "2020-01-01 01:00:00     1     1  \n",
              "2020-01-01 02:00:00     2     1  \n",
              "2020-01-01 03:00:00     3     1  \n",
              "2020-01-01 04:00:00     4     1  \n",
              "\n",
              "[5 rows x 27 columns]"
            ],
            "text/html": [
              "\n",
              "\n",
              "  <div id=\"df-05568be2-8ca9-4549-9a2b-3a8a63be01a1\">\n",
              "    <div class=\"colab-df-container\">\n",
              "      <div>\n",
              "<style scoped>\n",
              "    .dataframe tbody tr th:only-of-type {\n",
              "        vertical-align: middle;\n",
              "    }\n",
              "\n",
              "    .dataframe tbody tr th {\n",
              "        vertical-align: top;\n",
              "    }\n",
              "\n",
              "    .dataframe thead th {\n",
              "        text-align: right;\n",
              "    }\n",
              "</style>\n",
              "<table border=\"1\" class=\"dataframe\">\n",
              "  <thead>\n",
              "    <tr style=\"text-align: right;\">\n",
              "      <th></th>\n",
              "      <th>Month</th>\n",
              "      <th>1</th>\n",
              "      <th>2</th>\n",
              "      <th>3</th>\n",
              "      <th>4</th>\n",
              "      <th>5</th>\n",
              "      <th>6</th>\n",
              "      <th>7</th>\n",
              "      <th>8</th>\n",
              "      <th>9</th>\n",
              "      <th>...</th>\n",
              "      <th>17</th>\n",
              "      <th>18</th>\n",
              "      <th>19</th>\n",
              "      <th>20</th>\n",
              "      <th>21</th>\n",
              "      <th>QV</th>\n",
              "      <th>Day_of_month</th>\n",
              "      <th>Day_of_week</th>\n",
              "      <th>Hour</th>\n",
              "      <th>Week</th>\n",
              "    </tr>\n",
              "    <tr>\n",
              "      <th>DateTime</th>\n",
              "      <th></th>\n",
              "      <th></th>\n",
              "      <th></th>\n",
              "      <th></th>\n",
              "      <th></th>\n",
              "      <th></th>\n",
              "      <th></th>\n",
              "      <th></th>\n",
              "      <th></th>\n",
              "      <th></th>\n",
              "      <th></th>\n",
              "      <th></th>\n",
              "      <th></th>\n",
              "      <th></th>\n",
              "      <th></th>\n",
              "      <th></th>\n",
              "      <th></th>\n",
              "      <th></th>\n",
              "      <th></th>\n",
              "      <th></th>\n",
              "      <th></th>\n",
              "    </tr>\n",
              "  </thead>\n",
              "  <tbody>\n",
              "    <tr>\n",
              "      <th>2020-01-01 00:00:00</th>\n",
              "      <td>1</td>\n",
              "      <td>0.2</td>\n",
              "      <td>0.0</td>\n",
              "      <td>0.0</td>\n",
              "      <td>0.0</td>\n",
              "      <td>0.0</td>\n",
              "      <td>0.0</td>\n",
              "      <td>0.0</td>\n",
              "      <td>0.0</td>\n",
              "      <td>0.2</td>\n",
              "      <td>...</td>\n",
              "      <td>0.0</td>\n",
              "      <td>0.0</td>\n",
              "      <td>0.0</td>\n",
              "      <td>0.0</td>\n",
              "      <td>0.0</td>\n",
              "      <td>31.0</td>\n",
              "      <td>1</td>\n",
              "      <td>2</td>\n",
              "      <td>0</td>\n",
              "      <td>1</td>\n",
              "    </tr>\n",
              "    <tr>\n",
              "      <th>2020-01-01 01:00:00</th>\n",
              "      <td>1</td>\n",
              "      <td>0.2</td>\n",
              "      <td>0.0</td>\n",
              "      <td>0.0</td>\n",
              "      <td>0.0</td>\n",
              "      <td>0.0</td>\n",
              "      <td>0.0</td>\n",
              "      <td>0.0</td>\n",
              "      <td>0.0</td>\n",
              "      <td>0.0</td>\n",
              "      <td>...</td>\n",
              "      <td>0.0</td>\n",
              "      <td>0.0</td>\n",
              "      <td>0.0</td>\n",
              "      <td>0.0</td>\n",
              "      <td>0.0</td>\n",
              "      <td>31.0</td>\n",
              "      <td>1</td>\n",
              "      <td>2</td>\n",
              "      <td>1</td>\n",
              "      <td>1</td>\n",
              "    </tr>\n",
              "    <tr>\n",
              "      <th>2020-01-01 02:00:00</th>\n",
              "      <td>1</td>\n",
              "      <td>0.6</td>\n",
              "      <td>0.0</td>\n",
              "      <td>0.0</td>\n",
              "      <td>0.0</td>\n",
              "      <td>0.2</td>\n",
              "      <td>0.2</td>\n",
              "      <td>0.0</td>\n",
              "      <td>0.0</td>\n",
              "      <td>0.2</td>\n",
              "      <td>...</td>\n",
              "      <td>0.0</td>\n",
              "      <td>0.0</td>\n",
              "      <td>0.0</td>\n",
              "      <td>0.0</td>\n",
              "      <td>0.0</td>\n",
              "      <td>31.0</td>\n",
              "      <td>1</td>\n",
              "      <td>2</td>\n",
              "      <td>2</td>\n",
              "      <td>1</td>\n",
              "    </tr>\n",
              "    <tr>\n",
              "      <th>2020-01-01 03:00:00</th>\n",
              "      <td>1</td>\n",
              "      <td>0.6</td>\n",
              "      <td>0.0</td>\n",
              "      <td>0.0</td>\n",
              "      <td>0.0</td>\n",
              "      <td>0.6</td>\n",
              "      <td>0.2</td>\n",
              "      <td>0.0</td>\n",
              "      <td>0.0</td>\n",
              "      <td>0.0</td>\n",
              "      <td>...</td>\n",
              "      <td>0.0</td>\n",
              "      <td>0.0</td>\n",
              "      <td>0.0</td>\n",
              "      <td>0.0</td>\n",
              "      <td>0.0</td>\n",
              "      <td>31.0</td>\n",
              "      <td>1</td>\n",
              "      <td>2</td>\n",
              "      <td>3</td>\n",
              "      <td>1</td>\n",
              "    </tr>\n",
              "    <tr>\n",
              "      <th>2020-01-01 04:00:00</th>\n",
              "      <td>1</td>\n",
              "      <td>0.4</td>\n",
              "      <td>0.0</td>\n",
              "      <td>0.0</td>\n",
              "      <td>0.0</td>\n",
              "      <td>0.8</td>\n",
              "      <td>0.2</td>\n",
              "      <td>0.0</td>\n",
              "      <td>0.0</td>\n",
              "      <td>0.0</td>\n",
              "      <td>...</td>\n",
              "      <td>0.0</td>\n",
              "      <td>0.0</td>\n",
              "      <td>0.0</td>\n",
              "      <td>0.0</td>\n",
              "      <td>0.0</td>\n",
              "      <td>31.0</td>\n",
              "      <td>1</td>\n",
              "      <td>2</td>\n",
              "      <td>4</td>\n",
              "      <td>1</td>\n",
              "    </tr>\n",
              "  </tbody>\n",
              "</table>\n",
              "<p>5 rows × 27 columns</p>\n",
              "</div>\n",
              "      <button class=\"colab-df-convert\" onclick=\"convertToInteractive('df-05568be2-8ca9-4549-9a2b-3a8a63be01a1')\"\n",
              "              title=\"Convert this dataframe to an interactive table.\"\n",
              "              style=\"display:none;\">\n",
              "\n",
              "  <svg xmlns=\"http://www.w3.org/2000/svg\" height=\"24px\"viewBox=\"0 0 24 24\"\n",
              "       width=\"24px\">\n",
              "    <path d=\"M0 0h24v24H0V0z\" fill=\"none\"/>\n",
              "    <path d=\"M18.56 5.44l.94 2.06.94-2.06 2.06-.94-2.06-.94-.94-2.06-.94 2.06-2.06.94zm-11 1L8.5 8.5l.94-2.06 2.06-.94-2.06-.94L8.5 2.5l-.94 2.06-2.06.94zm10 10l.94 2.06.94-2.06 2.06-.94-2.06-.94-.94-2.06-.94 2.06-2.06.94z\"/><path d=\"M17.41 7.96l-1.37-1.37c-.4-.4-.92-.59-1.43-.59-.52 0-1.04.2-1.43.59L10.3 9.45l-7.72 7.72c-.78.78-.78 2.05 0 2.83L4 21.41c.39.39.9.59 1.41.59.51 0 1.02-.2 1.41-.59l7.78-7.78 2.81-2.81c.8-.78.8-2.07 0-2.86zM5.41 20L4 18.59l7.72-7.72 1.47 1.35L5.41 20z\"/>\n",
              "  </svg>\n",
              "      </button>\n",
              "\n",
              "\n",
              "\n",
              "    <div id=\"df-8b282ab1-2c8b-4dbd-8208-cbd2f7b4ff2d\">\n",
              "      <button class=\"colab-df-quickchart\" onclick=\"quickchart('df-8b282ab1-2c8b-4dbd-8208-cbd2f7b4ff2d')\"\n",
              "              title=\"Suggest charts.\"\n",
              "              style=\"display:none;\">\n",
              "\n",
              "<svg xmlns=\"http://www.w3.org/2000/svg\" height=\"24px\"viewBox=\"0 0 24 24\"\n",
              "     width=\"24px\">\n",
              "    <g>\n",
              "        <path d=\"M19 3H5c-1.1 0-2 .9-2 2v14c0 1.1.9 2 2 2h14c1.1 0 2-.9 2-2V5c0-1.1-.9-2-2-2zM9 17H7v-7h2v7zm4 0h-2V7h2v10zm4 0h-2v-4h2v4z\"/>\n",
              "    </g>\n",
              "</svg>\n",
              "      </button>\n",
              "    </div>\n",
              "\n",
              "<style>\n",
              "  .colab-df-quickchart {\n",
              "    background-color: #E8F0FE;\n",
              "    border: none;\n",
              "    border-radius: 50%;\n",
              "    cursor: pointer;\n",
              "    display: none;\n",
              "    fill: #1967D2;\n",
              "    height: 32px;\n",
              "    padding: 0 0 0 0;\n",
              "    width: 32px;\n",
              "  }\n",
              "\n",
              "  .colab-df-quickchart:hover {\n",
              "    background-color: #E2EBFA;\n",
              "    box-shadow: 0px 1px 2px rgba(60, 64, 67, 0.3), 0px 1px 3px 1px rgba(60, 64, 67, 0.15);\n",
              "    fill: #174EA6;\n",
              "  }\n",
              "\n",
              "  [theme=dark] .colab-df-quickchart {\n",
              "    background-color: #3B4455;\n",
              "    fill: #D2E3FC;\n",
              "  }\n",
              "\n",
              "  [theme=dark] .colab-df-quickchart:hover {\n",
              "    background-color: #434B5C;\n",
              "    box-shadow: 0px 1px 3px 1px rgba(0, 0, 0, 0.15);\n",
              "    filter: drop-shadow(0px 1px 2px rgba(0, 0, 0, 0.3));\n",
              "    fill: #FFFFFF;\n",
              "  }\n",
              "</style>\n",
              "\n",
              "    <script>\n",
              "      async function quickchart(key) {\n",
              "        const containerElement = document.querySelector('#' + key);\n",
              "        const charts = await google.colab.kernel.invokeFunction(\n",
              "            'suggestCharts', [key], {});\n",
              "      }\n",
              "    </script>\n",
              "\n",
              "      <script>\n",
              "\n",
              "function displayQuickchartButton(domScope) {\n",
              "  let quickchartButtonEl =\n",
              "    domScope.querySelector('#df-8b282ab1-2c8b-4dbd-8208-cbd2f7b4ff2d button.colab-df-quickchart');\n",
              "  quickchartButtonEl.style.display =\n",
              "    google.colab.kernel.accessAllowed ? 'block' : 'none';\n",
              "}\n",
              "\n",
              "        displayQuickchartButton(document);\n",
              "      </script>\n",
              "      <style>\n",
              "    .colab-df-container {\n",
              "      display:flex;\n",
              "      flex-wrap:wrap;\n",
              "      gap: 12px;\n",
              "    }\n",
              "\n",
              "    .colab-df-convert {\n",
              "      background-color: #E8F0FE;\n",
              "      border: none;\n",
              "      border-radius: 50%;\n",
              "      cursor: pointer;\n",
              "      display: none;\n",
              "      fill: #1967D2;\n",
              "      height: 32px;\n",
              "      padding: 0 0 0 0;\n",
              "      width: 32px;\n",
              "    }\n",
              "\n",
              "    .colab-df-convert:hover {\n",
              "      background-color: #E2EBFA;\n",
              "      box-shadow: 0px 1px 2px rgba(60, 64, 67, 0.3), 0px 1px 3px 1px rgba(60, 64, 67, 0.15);\n",
              "      fill: #174EA6;\n",
              "    }\n",
              "\n",
              "    [theme=dark] .colab-df-convert {\n",
              "      background-color: #3B4455;\n",
              "      fill: #D2E3FC;\n",
              "    }\n",
              "\n",
              "    [theme=dark] .colab-df-convert:hover {\n",
              "      background-color: #434B5C;\n",
              "      box-shadow: 0px 1px 3px 1px rgba(0, 0, 0, 0.15);\n",
              "      filter: drop-shadow(0px 1px 2px rgba(0, 0, 0, 0.3));\n",
              "      fill: #FFFFFF;\n",
              "    }\n",
              "  </style>\n",
              "\n",
              "      <script>\n",
              "        const buttonEl =\n",
              "          document.querySelector('#df-05568be2-8ca9-4549-9a2b-3a8a63be01a1 button.colab-df-convert');\n",
              "        buttonEl.style.display =\n",
              "          google.colab.kernel.accessAllowed ? 'block' : 'none';\n",
              "\n",
              "        async function convertToInteractive(key) {\n",
              "          const element = document.querySelector('#df-05568be2-8ca9-4549-9a2b-3a8a63be01a1');\n",
              "          const dataTable =\n",
              "            await google.colab.kernel.invokeFunction('convertToInteractive',\n",
              "                                                     [key], {});\n",
              "          if (!dataTable) return;\n",
              "\n",
              "          const docLinkHtml = 'Like what you see? Visit the ' +\n",
              "            '<a target=\"_blank\" href=https://colab.research.google.com/notebooks/data_table.ipynb>data table notebook</a>'\n",
              "            + ' to learn more about interactive tables.';\n",
              "          element.innerHTML = '';\n",
              "          dataTable['output_type'] = 'display_data';\n",
              "          await google.colab.output.renderOutput(dataTable, element);\n",
              "          const docLink = document.createElement('div');\n",
              "          docLink.innerHTML = docLinkHtml;\n",
              "          element.appendChild(docLink);\n",
              "        }\n",
              "      </script>\n",
              "    </div>\n",
              "  </div>\n"
            ]
          },
          "metadata": {},
          "execution_count": 7
        }
      ],
      "source": [
        "# Day in a month\n",
        "df[\"Day_of_month\"] = df.DateTime.apply(lambda x: x.day)\n",
        "# Day in a week\n",
        "df[\"Day_of_week\"] = df.DateTime.apply(lambda x: x.dayofweek)\n",
        "# 24-hour based\n",
        "df[\"Hour\"] = df.DateTime.apply(lambda x: x.hour)\n",
        "# Week in a year\n",
        "df[\"Week\"] = df.DateTime.apply(lambda x: x.week)\n",
        "\n",
        "# Set \"DateTime\" column as row index\n",
        "df = df.set_index(\"DateTime\")\n",
        "df.head()"
      ]
    },
    {
      "cell_type": "code",
      "execution_count": null,
      "metadata": {
        "id": "rMfvD59eEYE9"
      },
      "outputs": [],
      "source": [
        "# Move target to the last column\n",
        "target_feature = \"QV\"\n",
        "df.insert(len(df.columns)-1, target_feature, df.pop(target_feature))"
      ]
    },
    {
      "cell_type": "markdown",
      "metadata": {
        "id": "M3iYfLohU2n0"
      },
      "source": [
        "### Hyperparameters"
      ]
    },
    {
      "cell_type": "code",
      "execution_count": null,
      "metadata": {
        "id": "iB3Dv7QmU2n0"
      },
      "outputs": [],
      "source": [
        "batch_size = 32\n",
        "in_seq_len = 24\n",
        "out_seq_len = 12\n",
        "\n",
        "input_size = df.shape[1]\n",
        "\n",
        "num_epochs = 100\n",
        "learning_rate = 5e-3\n",
        "es_patience = 15\n",
        "lr_patience = 5\n",
        "\n",
        "model_save_path = \"checkpoint_dlinear.pth\""
      ]
    },
    {
      "cell_type": "markdown",
      "metadata": {
        "id": "4QlSwqLFU2n0"
      },
      "source": [
        "## DATASET PIPELINE"
      ]
    },
    {
      "cell_type": "markdown",
      "metadata": {
        "id": "WCKn598rU2n0"
      },
      "source": [
        "### Train - Val - Test split"
      ]
    },
    {
      "cell_type": "code",
      "execution_count": null,
      "metadata": {
        "colab": {
          "base_uri": "https://localhost:8080/"
        },
        "id": "6zD7qIuWU2n0",
        "outputId": "88d981c8-6d14-47a9-eb87-3fdfc82a9f56"
      },
      "outputs": [
        {
          "output_type": "execute_result",
          "data": {
            "text/plain": [
              "(21888, 27)"
            ]
          },
          "metadata": {},
          "execution_count": 10
        }
      ],
      "source": [
        "data = df.values\n",
        "data.shape"
      ]
    },
    {
      "cell_type": "code",
      "source": [
        "train_ratio, val_ratio = 0.7, 0.2\n",
        "train_size = int(len(df) * train_ratio)\n",
        "val_size = int(len(df) * val_ratio)\n",
        "\n",
        "data_train = data[: train_size]\n",
        "data_val = data[train_size : train_size+val_size]\n",
        "data_test = data[train_size+val_size :]"
      ],
      "metadata": {
        "id": "hQ0iDJVOSKEP"
      },
      "execution_count": null,
      "outputs": []
    },
    {
      "cell_type": "markdown",
      "metadata": {
        "id": "E9AJZ1u5U2n1"
      },
      "source": [
        "### Feature scaling\n",
        "Use natural log transformation (with one plus element-wise since log does not accept zero)"
      ]
    },
    {
      "cell_type": "code",
      "execution_count": null,
      "metadata": {
        "id": "npVSpHTQU2n1"
      },
      "outputs": [],
      "source": [
        "train_scaled = np.log1p(data_train)\n",
        "val_scaled = np.log1p(data_val)\n",
        "test_scaled = np.log1p(data_test)"
      ]
    },
    {
      "cell_type": "markdown",
      "metadata": {
        "id": "9yGm4ciCU2n1"
      },
      "source": [
        "### Create data sequences"
      ]
    },
    {
      "cell_type": "code",
      "execution_count": null,
      "metadata": {
        "id": "ZvBdX-slU2n2"
      },
      "outputs": [],
      "source": [
        "# split a multivariate sequence past, future samples (X and y)\n",
        "def sequence_generator(arr, past_step=in_seq_len, future_step=out_seq_len):\n",
        "    # instantiate X and y\n",
        "    X, y = list(), list()\n",
        "    for i in range(len(arr)):\n",
        "        # find the end of the input, output sequence\n",
        "        input_end = i + past_step\n",
        "        output_end = input_end + future_step\n",
        "        # check if we are beyond the dataset\n",
        "        if output_end > len(arr):\n",
        "            break\n",
        "        else:\n",
        "            # gather input and output of the pattern\n",
        "            # seq_x, seq_y = X_arr[i : input_end], y_arr[input_end : output_end, -1]\n",
        "            seq_x, seq_y = arr[i : input_end], arr[input_end : output_end]\n",
        "            X.append(seq_x), y.append(seq_y)\n",
        "\n",
        "    return np.array(X), np.array(y)"
      ]
    },
    {
      "cell_type": "code",
      "execution_count": null,
      "metadata": {
        "colab": {
          "base_uri": "https://localhost:8080/"
        },
        "id": "BM1_dO9jU2n2",
        "outputId": "551ce59e-7c0f-4ada-ed9b-8cc20376d91d"
      },
      "outputs": [
        {
          "output_type": "stream",
          "name": "stdout",
          "text": [
            "Training Shape: (15286, 24, 27) (15286, 12, 27)\n",
            "Validation Shape: (4342, 24, 27) (4342, 12, 27)\n",
            "Testing Shape: (2155, 24, 27) (2155, 12, 27)\n"
          ]
        }
      ],
      "source": [
        "X_train, y_train = sequence_generator(train_scaled)\n",
        "X_val, y_val = sequence_generator(val_scaled)\n",
        "X_test, y_test = sequence_generator(test_scaled)\n",
        "\n",
        "print(\"Training Shape:\", X_train.shape, y_train.shape)\n",
        "print(\"Validation Shape:\", X_val.shape, y_val.shape)\n",
        "print(\"Testing Shape:\", X_test.shape, y_test.shape)"
      ]
    },
    {
      "cell_type": "markdown",
      "metadata": {
        "id": "MFnvsxonU2n3"
      },
      "source": [
        "### Create Dataset Iterator"
      ]
    },
    {
      "cell_type": "markdown",
      "metadata": {
        "id": "MA-o3itqU2n3"
      },
      "source": [
        "#### Define custom dataset"
      ]
    },
    {
      "cell_type": "code",
      "execution_count": null,
      "metadata": {
        "id": "0MFnqU0RU2n4"
      },
      "outputs": [],
      "source": [
        "class TimeSeriesDataset(Dataset):\n",
        "    def __init__(self, X, y):\n",
        "        # convert into PyTorch tensors and remember them\n",
        "        self.X = torch.tensor(X, dtype=torch.float32)\n",
        "        self.y = torch.tensor(y, dtype=torch.float32)\n",
        "\n",
        "    def __len__(self):\n",
        "        # this should return the size of the dataset\n",
        "        return len(self.X)\n",
        "\n",
        "    def __getitem__(self, idx):\n",
        "        # this should return one sample from the dataset\n",
        "        features = self.X[idx]\n",
        "        target = self.y[idx]\n",
        "        return features, target"
      ]
    },
    {
      "cell_type": "code",
      "execution_count": null,
      "metadata": {
        "id": "se2-nSQoU2n4"
      },
      "outputs": [],
      "source": [
        "train_dataset = TimeSeriesDataset(X_train, y_train)\n",
        "val_dataset = TimeSeriesDataset(X_val, y_val)\n",
        "test_dataset = TimeSeriesDataset(X_test, y_test)"
      ]
    },
    {
      "cell_type": "markdown",
      "metadata": {
        "id": "CdkRknnkU2n4"
      },
      "source": [
        "#### Generate from PyTorch's `DataLoader` class"
      ]
    },
    {
      "cell_type": "code",
      "execution_count": null,
      "metadata": {
        "id": "gDQi_1xPU2n5"
      },
      "outputs": [],
      "source": [
        "train_loader = DataLoader(train_dataset, batch_size=batch_size, shuffle=True)\n",
        "val_loader = DataLoader(val_dataset, batch_size=batch_size, shuffle=False)\n",
        "test_loader = DataLoader(test_dataset, batch_size=batch_size, shuffle=False)"
      ]
    },
    {
      "cell_type": "code",
      "execution_count": null,
      "metadata": {
        "colab": {
          "base_uri": "https://localhost:8080/"
        },
        "id": "VuR0NONtU2n5",
        "outputId": "76fed688-5dc2-42a6-aaf7-ad337e4a58cf"
      },
      "outputs": [
        {
          "output_type": "stream",
          "name": "stdout",
          "text": [
            "Features shape: torch.Size([32, 24, 27])\n",
            "Target shape: torch.Size([32, 12, 27])\n"
          ]
        }
      ],
      "source": [
        "X, y = next(iter(train_loader))\n",
        "\n",
        "print(\"Features shape:\", X.size())\n",
        "print(\"Target shape:\", y.size())"
      ]
    },
    {
      "cell_type": "markdown",
      "metadata": {
        "id": "k9JgF-aYU2n5"
      },
      "source": [
        "## MODEL AND LEARNING ALGORITHM"
      ]
    },
    {
      "cell_type": "markdown",
      "metadata": {
        "id": "YVwYEc33U2n5"
      },
      "source": [
        "### Model architecture"
      ]
    },
    {
      "cell_type": "code",
      "execution_count": null,
      "metadata": {
        "id": "dgvAXPK_U2n5"
      },
      "outputs": [],
      "source": [
        "class moving_avg(nn.Module):\n",
        "    \"\"\"\n",
        "    Moving average block to highlight the trend of time series\n",
        "    \"\"\"\n",
        "    def __init__(self, kernel_size, stride):\n",
        "        super(moving_avg, self).__init__()\n",
        "        self.kernel_size = kernel_size\n",
        "        self.avg = nn.AvgPool1d(kernel_size=kernel_size, stride=stride, padding=0)\n",
        "\n",
        "    def forward(self, x):\n",
        "        # padding on the both ends of time series\n",
        "        front = x[:, 0:1, :].repeat(1, (self.kernel_size - 1) // 2, 1)\n",
        "        end = x[:, -1:, :].repeat(1, (self.kernel_size - 1) // 2, 1)\n",
        "        x = torch.cat([front, x, end], dim=1)\n",
        "        x = self.avg(x.permute(0, 2, 1))\n",
        "        x = x.permute(0, 2, 1)\n",
        "        return x"
      ]
    },
    {
      "cell_type": "code",
      "execution_count": null,
      "metadata": {
        "id": "JF99dvarU2n6"
      },
      "outputs": [],
      "source": [
        "class series_decomp(nn.Module):\n",
        "    \"\"\"\n",
        "    Series decomposition block\n",
        "    \"\"\"\n",
        "    def __init__(self, kernel_size):\n",
        "        super(series_decomp, self).__init__()\n",
        "        self.moving_avg = moving_avg(kernel_size, stride=1)\n",
        "\n",
        "    def forward(self, x):\n",
        "        moving_mean = self.moving_avg(x)\n",
        "        res = x - moving_mean\n",
        "        return res, moving_mean"
      ]
    },
    {
      "cell_type": "code",
      "execution_count": null,
      "metadata": {
        "id": "tE1taW_EU2n6"
      },
      "outputs": [],
      "source": [
        "class DLinear(nn.Module):\n",
        "    \"\"\"\n",
        "    Decomposition-Linear\n",
        "    \"\"\"\n",
        "    def __init__(self, enc_in, seq_len, pred_len, individual):\n",
        "        super(DLinear, self).__init__()\n",
        "        self.seq_len = seq_len\n",
        "        self.pred_len = pred_len\n",
        "\n",
        "        # Decompsition Kernel Size\n",
        "        kernel_size = 25\n",
        "        self.decompsition = series_decomp(kernel_size)\n",
        "        # If True, set a linear layer for each variate (channel) individually\n",
        "        self.individual = individual\n",
        "        # Encoder input size\n",
        "        # Equal input features if individual=True\n",
        "        self.channels = enc_in\n",
        "\n",
        "        if self.individual:\n",
        "            self.Linear_Seasonal = nn.ModuleList()\n",
        "            self.Linear_Trend = nn.ModuleList()\n",
        "\n",
        "            for i in range(self.channels):\n",
        "                self.Linear_Seasonal.append(nn.Linear(self.seq_len,self.pred_len))\n",
        "                self.Linear_Trend.append(nn.Linear(self.seq_len,self.pred_len))\n",
        "\n",
        "                # Use this two lines if you want to visualize the weights\n",
        "                # self.Linear_Seasonal[i].weight = nn.Parameter((1/self.seq_len)*torch.ones([self.pred_len,self.seq_len]))\n",
        "                # self.Linear_Trend[i].weight = nn.Parameter((1/self.seq_len)*torch.ones([self.pred_len,self.seq_len]))\n",
        "        else:\n",
        "            self.Linear_Seasonal = nn.Linear(self.seq_len,self.pred_len)\n",
        "            self.Linear_Trend = nn.Linear(self.seq_len,self.pred_len)\n",
        "\n",
        "            # Use this two lines if you want to visualize the weights\n",
        "            # self.Linear_Seasonal.weight = nn.Parameter((1/self.seq_len)*torch.ones([self.pred_len,self.seq_len]))\n",
        "            # self.Linear_Trend.weight = nn.Parameter((1/self.seq_len)*torch.ones([self.pred_len,self.seq_len]))\n",
        "\n",
        "    def forward(self, x):\n",
        "        # x: [Batch, Input length, Channel]\n",
        "        seasonal_init, trend_init = self.decompsition(x)\n",
        "        seasonal_init, trend_init = seasonal_init.permute(0,2,1), trend_init.permute(0,2,1)\n",
        "        if self.individual:\n",
        "            seasonal_output = torch.zeros([seasonal_init.size(0),seasonal_init.size(1),self.pred_len],dtype=seasonal_init.dtype).to(seasonal_init.device)\n",
        "            trend_output = torch.zeros([trend_init.size(0),trend_init.size(1),self.pred_len],dtype=trend_init.dtype).to(trend_init.device)\n",
        "            for i in range(self.channels):\n",
        "                seasonal_output[:,i,:] = self.Linear_Seasonal[i](seasonal_init[:,i,:])\n",
        "                trend_output[:,i,:] = self.Linear_Trend[i](trend_init[:,i,:])\n",
        "        else:\n",
        "            seasonal_output = self.Linear_Seasonal(seasonal_init)\n",
        "            trend_output = self.Linear_Trend(trend_init)\n",
        "\n",
        "        x = seasonal_output + trend_output\n",
        "        return x.permute(0,2,1) # to [Batch, Output length, Channel]"
      ]
    },
    {
      "cell_type": "code",
      "execution_count": null,
      "metadata": {
        "colab": {
          "base_uri": "https://localhost:8080/"
        },
        "id": "1OOj5vMvU2n6",
        "outputId": "b2f84d4d-9eb6-4ae4-8d37-f99c90eb0089"
      },
      "outputs": [
        {
          "output_type": "stream",
          "name": "stdout",
          "text": [
            "DLinear(\n",
            "  (decompsition): series_decomp(\n",
            "    (moving_avg): moving_avg(\n",
            "      (avg): AvgPool1d(kernel_size=(25,), stride=(1,), padding=(0,))\n",
            "    )\n",
            "  )\n",
            "  (Linear_Seasonal): ModuleList(\n",
            "    (0-26): 27 x Linear(in_features=24, out_features=12, bias=True)\n",
            "  )\n",
            "  (Linear_Trend): ModuleList(\n",
            "    (0-26): 27 x Linear(in_features=24, out_features=12, bias=True)\n",
            "  )\n",
            ")\n",
            "\n",
            "Total parameters: 16200\n",
            "Learnable parameters: 16200\n"
          ]
        }
      ],
      "source": [
        "model = DLinear(input_size, in_seq_len, out_seq_len, True).to(device)\n",
        "total_params = sum(p.numel() for p in model.parameters())\n",
        "learn_params = sum(p.numel() for p in model.parameters() if p.requires_grad)\n",
        "\n",
        "print(model)\n",
        "print(f\"\\nTotal parameters: {total_params}\")\n",
        "print(f\"Learnable parameters: {learn_params}\")"
      ]
    },
    {
      "cell_type": "markdown",
      "metadata": {
        "id": "4Y2jUjFLU2n6"
      },
      "source": [
        "### Loss and Optimizer"
      ]
    },
    {
      "cell_type": "code",
      "execution_count": null,
      "metadata": {
        "id": "tOi0LEylU2n7"
      },
      "outputs": [],
      "source": [
        "loss_func = nn.MSELoss()\n",
        "opt = optim.Adam(model.parameters(), lr=learning_rate)"
      ]
    },
    {
      "cell_type": "markdown",
      "metadata": {
        "id": "pVx5CpSKU2n7"
      },
      "source": [
        "### Callbacks"
      ]
    },
    {
      "cell_type": "code",
      "execution_count": null,
      "metadata": {
        "id": "Pu1Ne0pRU2oF"
      },
      "outputs": [],
      "source": [
        "# Early Stopping\n",
        "# Stop training if validation loss does not improve\n",
        "class EarlyStopping:\n",
        "\n",
        "    def __init__(self, patience, model_save_path, min_delta=0):\n",
        "        self.patience = patience\n",
        "        self.min_delta = min_delta\n",
        "        self.model_save_path = model_save_path\n",
        "        self.counter = 0\n",
        "        self.min_validation_loss = np.inf\n",
        "        self.best_epoch = 0\n",
        "        self.early_stop = False\n",
        "\n",
        "\n",
        "    def __call__(self, epoch, model, validation_loss):\n",
        "        delta_loss = self.min_validation_loss - validation_loss\n",
        "        # Check if val loss is smaller than min loss\n",
        "        if delta_loss > self.min_delta:\n",
        "            self.min_validation_loss = validation_loss\n",
        "            self.counter = 0\n",
        "            # Save best model\n",
        "            self.best_epoch = epoch\n",
        "            torch.save(model.state_dict(), self.model_save_path)\n",
        "        else:\n",
        "            self.counter += 1\n",
        "            if self.counter >= self.patience:\n",
        "                print(f\"Early Stopping.\")\n",
        "                print(f\"Save best model at epoch {self.best_epoch}\")\n",
        "                self.early_stop = True"
      ]
    },
    {
      "cell_type": "code",
      "execution_count": null,
      "metadata": {
        "id": "Y5eQ-W__U2oF"
      },
      "outputs": [],
      "source": [
        "# ReduceLROnPlateau\n",
        "# Reduce learning rate when validation loss stops improving\n",
        "lr_scheduler = optim.lr_scheduler.ReduceLROnPlateau(opt, factor=0.3, patience=lr_patience, verbose=True)"
      ]
    },
    {
      "cell_type": "markdown",
      "metadata": {
        "id": "HT7uiMszU2oG"
      },
      "source": [
        "## TRAINING"
      ]
    },
    {
      "cell_type": "markdown",
      "metadata": {
        "id": "VtXdH5gwU2oG"
      },
      "source": [
        "### Define training loop"
      ]
    },
    {
      "cell_type": "code",
      "execution_count": null,
      "metadata": {
        "id": "PRVnuqANU2oG"
      },
      "outputs": [],
      "source": [
        "def train_model(data_loader, model, loss_function, optimizer):\n",
        "    num_batches = len(data_loader)\n",
        "    total_loss = 0\n",
        "    model.train()\n",
        "\n",
        "    for X, y in data_loader:\n",
        "        X, y = X.to(device), y.to(device)\n",
        "\n",
        "        # Forward pass\n",
        "        output = model(X)\n",
        "        loss = loss_function(output, y)\n",
        "\n",
        "        # Backward and optimize\n",
        "        optimizer.zero_grad()\n",
        "        loss.backward()\n",
        "        optimizer.step()\n",
        "\n",
        "        total_loss += loss.item()\n",
        "\n",
        "    train_avg_loss = total_loss / num_batches\n",
        "\n",
        "    return train_avg_loss\n",
        "\n",
        "\n",
        "def val_model(data_loader, model, loss_function):\n",
        "    num_batches = len(data_loader)\n",
        "    total_loss = 0\n",
        "\n",
        "    model.eval()\n",
        "    with torch.no_grad():\n",
        "        for X, y in data_loader:\n",
        "            X, y = X.to(device), y.to(device)\n",
        "\n",
        "            output = model(X)\n",
        "            total_loss += loss_function(output, y).item()\n",
        "\n",
        "    val_avg_loss = total_loss / num_batches\n",
        "\n",
        "    return val_avg_loss"
      ]
    },
    {
      "cell_type": "code",
      "execution_count": null,
      "metadata": {
        "colab": {
          "base_uri": "https://localhost:8080/"
        },
        "id": "NprxPkZ9U2oH",
        "outputId": "cc15f17a-2ca0-4460-909f-950fb93771d7"
      },
      "outputs": [
        {
          "output_type": "stream",
          "name": "stdout",
          "text": [
            "\n",
            "Epoch [0/99]\t\tTrain loss: 0.079747 - Val loss: 0.046460\n",
            "\n",
            "Epoch [1/99]\t\tTrain loss: 0.079484 - Val loss: 0.046539\n",
            "\n",
            "Epoch [2/99]\t\tTrain loss: 0.079603 - Val loss: 0.046742\n",
            "\n",
            "Epoch [3/99]\t\tTrain loss: 0.079585 - Val loss: 0.047066\n",
            "\n",
            "Epoch [4/99]\t\tTrain loss: 0.079676 - Val loss: 0.046872\n",
            "\n",
            "Epoch [5/99]\t\tTrain loss: 0.079670 - Val loss: 0.046437\n",
            "\n",
            "Epoch [6/99]\t\tTrain loss: 0.079622 - Val loss: 0.046863\n",
            "\n",
            "Epoch [7/99]\t\tTrain loss: 0.079679 - Val loss: 0.047257\n",
            "\n",
            "Epoch [8/99]\t\tTrain loss: 0.079791 - Val loss: 0.047742\n",
            "\n",
            "Epoch [9/99]\t\tTrain loss: 0.079598 - Val loss: 0.046843\n",
            "\n",
            "Epoch [10/99]\t\tTrain loss: 0.079736 - Val loss: 0.046856\n",
            "\n",
            "Epoch [11/99]\t\tTrain loss: 0.079824 - Val loss: 0.046876\n",
            "Epoch 00012: reducing learning rate of group 0 to 1.5000e-03.\n",
            "\n",
            "Epoch [12/99]\t\tTrain loss: 0.077903 - Val loss: 0.045581\n",
            "\n",
            "Epoch [13/99]\t\tTrain loss: 0.077704 - Val loss: 0.045972\n",
            "\n",
            "Epoch [14/99]\t\tTrain loss: 0.077750 - Val loss: 0.045520\n",
            "\n",
            "Epoch [15/99]\t\tTrain loss: 0.077810 - Val loss: 0.045908\n",
            "\n",
            "Epoch [16/99]\t\tTrain loss: 0.077741 - Val loss: 0.045485\n",
            "\n",
            "Epoch [17/99]\t\tTrain loss: 0.077682 - Val loss: 0.045607\n",
            "\n",
            "Epoch [18/99]\t\tTrain loss: 0.077768 - Val loss: 0.045552\n",
            "\n",
            "Epoch [19/99]\t\tTrain loss: 0.077745 - Val loss: 0.045869\n",
            "\n",
            "Epoch [20/99]\t\tTrain loss: 0.077832 - Val loss: 0.045673\n",
            "\n",
            "Epoch [21/99]\t\tTrain loss: 0.077798 - Val loss: 0.046041\n",
            "\n",
            "Epoch [22/99]\t\tTrain loss: 0.077775 - Val loss: 0.045803\n",
            "Epoch 00023: reducing learning rate of group 0 to 4.5000e-04.\n",
            "\n",
            "Epoch [23/99]\t\tTrain loss: 0.077198 - Val loss: 0.045284\n",
            "\n",
            "Epoch [24/99]\t\tTrain loss: 0.077182 - Val loss: 0.045309\n",
            "\n",
            "Epoch [25/99]\t\tTrain loss: 0.077128 - Val loss: 0.045477\n",
            "\n",
            "Epoch [26/99]\t\tTrain loss: 0.077127 - Val loss: 0.045293\n",
            "\n",
            "Epoch [27/99]\t\tTrain loss: 0.077116 - Val loss: 0.045319\n",
            "\n",
            "Epoch [28/99]\t\tTrain loss: 0.077091 - Val loss: 0.045392\n",
            "\n",
            "Epoch [29/99]\t\tTrain loss: 0.077147 - Val loss: 0.045240\n",
            "\n",
            "Epoch [30/99]\t\tTrain loss: 0.077097 - Val loss: 0.045330\n",
            "\n",
            "Epoch [31/99]\t\tTrain loss: 0.077084 - Val loss: 0.045311\n",
            "\n",
            "Epoch [32/99]\t\tTrain loss: 0.077154 - Val loss: 0.045263\n",
            "\n",
            "Epoch [33/99]\t\tTrain loss: 0.077126 - Val loss: 0.045331\n",
            "\n",
            "Epoch [34/99]\t\tTrain loss: 0.077130 - Val loss: 0.045542\n",
            "\n",
            "Epoch [35/99]\t\tTrain loss: 0.077120 - Val loss: 0.045326\n",
            "Epoch 00036: reducing learning rate of group 0 to 1.3500e-04.\n",
            "\n",
            "Epoch [36/99]\t\tTrain loss: 0.076906 - Val loss: 0.045193\n",
            "\n",
            "Epoch [37/99]\t\tTrain loss: 0.076910 - Val loss: 0.045189\n",
            "\n",
            "Epoch [38/99]\t\tTrain loss: 0.076878 - Val loss: 0.045206\n",
            "\n",
            "Epoch [39/99]\t\tTrain loss: 0.076901 - Val loss: 0.045175\n",
            "\n",
            "Epoch [40/99]\t\tTrain loss: 0.076886 - Val loss: 0.045175\n",
            "\n",
            "Epoch [41/99]\t\tTrain loss: 0.076908 - Val loss: 0.045193\n",
            "\n",
            "Epoch [42/99]\t\tTrain loss: 0.076868 - Val loss: 0.045181\n",
            "\n",
            "Epoch [43/99]\t\tTrain loss: 0.076902 - Val loss: 0.045164\n",
            "\n",
            "Epoch [44/99]\t\tTrain loss: 0.076937 - Val loss: 0.045166\n",
            "\n",
            "Epoch [45/99]\t\tTrain loss: 0.076918 - Val loss: 0.045190\n",
            "\n",
            "Epoch [46/99]\t\tTrain loss: 0.076921 - Val loss: 0.045229\n",
            "\n",
            "Epoch [47/99]\t\tTrain loss: 0.076871 - Val loss: 0.045192\n",
            "\n",
            "Epoch [48/99]\t\tTrain loss: 0.076870 - Val loss: 0.045191\n",
            "\n",
            "Epoch [49/99]\t\tTrain loss: 0.076848 - Val loss: 0.045201\n",
            "Epoch 00050: reducing learning rate of group 0 to 4.0500e-05.\n",
            "\n",
            "Epoch [50/99]\t\tTrain loss: 0.076792 - Val loss: 0.045158\n",
            "\n",
            "Epoch [51/99]\t\tTrain loss: 0.076790 - Val loss: 0.045156\n",
            "\n",
            "Epoch [52/99]\t\tTrain loss: 0.076833 - Val loss: 0.045159\n",
            "\n",
            "Epoch [53/99]\t\tTrain loss: 0.076793 - Val loss: 0.045162\n",
            "\n",
            "Epoch [54/99]\t\tTrain loss: 0.076806 - Val loss: 0.045165\n",
            "\n",
            "Epoch [55/99]\t\tTrain loss: 0.076833 - Val loss: 0.045162\n",
            "\n",
            "Epoch [56/99]\t\tTrain loss: 0.076827 - Val loss: 0.045162\n",
            "Epoch 00057: reducing learning rate of group 0 to 1.2150e-05.\n",
            "\n",
            "Epoch [57/99]\t\tTrain loss: 0.076762 - Val loss: 0.045158\n",
            "\n",
            "Epoch [58/99]\t\tTrain loss: 0.076769 - Val loss: 0.045158\n",
            "\n",
            "Epoch [59/99]\t\tTrain loss: 0.076760 - Val loss: 0.045158\n",
            "\n",
            "Epoch [60/99]\t\tTrain loss: 0.076796 - Val loss: 0.045156\n",
            "\n",
            "Epoch [61/99]\t\tTrain loss: 0.076758 - Val loss: 0.045156\n",
            "\n",
            "Epoch [62/99]\t\tTrain loss: 0.076759 - Val loss: 0.045156\n",
            "Epoch 00063: reducing learning rate of group 0 to 3.6450e-06.\n",
            "\n",
            "Epoch [63/99]\t\tTrain loss: 0.076755 - Val loss: 0.045155\n",
            "\n",
            "Epoch [64/99]\t\tTrain loss: 0.076750 - Val loss: 0.045156\n",
            "\n",
            "Epoch [65/99]\t\tTrain loss: 0.076771 - Val loss: 0.045156\n",
            "\n",
            "Epoch [66/99]\t\tTrain loss: 0.076802 - Val loss: 0.045155\n",
            "\n",
            "Epoch [67/99]\t\tTrain loss: 0.076768 - Val loss: 0.045156\n",
            "\n",
            "Epoch [68/99]\t\tTrain loss: 0.076765 - Val loss: 0.045155\n",
            "Epoch 00069: reducing learning rate of group 0 to 1.0935e-06.\n",
            "\n",
            "Epoch [69/99]\t\tTrain loss: 0.076803 - Val loss: 0.045155\n",
            "\n",
            "Epoch [70/99]\t\tTrain loss: 0.076744 - Val loss: 0.045155\n",
            "\n",
            "Epoch [71/99]\t\tTrain loss: 0.076766 - Val loss: 0.045155\n",
            "\n",
            "Epoch [72/99]\t\tTrain loss: 0.076772 - Val loss: 0.045155\n",
            "\n",
            "Epoch [73/99]\t\tTrain loss: 0.076755 - Val loss: 0.045155\n",
            "\n",
            "Epoch [74/99]\t\tTrain loss: 0.076748 - Val loss: 0.045156\n",
            "Epoch 00075: reducing learning rate of group 0 to 3.2805e-07.\n",
            "\n",
            "Epoch [75/99]\t\tTrain loss: 0.076761 - Val loss: 0.045155\n",
            "\n",
            "Epoch [76/99]\t\tTrain loss: 0.076738 - Val loss: 0.045155\n",
            "\n",
            "Epoch [77/99]\t\tTrain loss: 0.076747 - Val loss: 0.045155\n",
            "\n",
            "Epoch [78/99]\t\tTrain loss: 0.076792 - Val loss: 0.045155\n",
            "Early Stopping.\n",
            "Save best model at epoch 63\n"
          ]
        }
      ],
      "source": [
        "# Log losses for plotting\n",
        "all_losses = []\n",
        "\n",
        "# Initialize Early Stopping object\n",
        "early_stopper = EarlyStopping(patience=es_patience, model_save_path=model_save_path)\n",
        "for epoch in range(num_epochs):\n",
        "    train_loss = train_model(train_loader, model, loss_func, opt)\n",
        "    val_loss = val_model(val_loader, model, loss_func)\n",
        "    all_losses.append([train_loss, val_loss])\n",
        "\n",
        "    # Display\n",
        "    print(f\"\\nEpoch [{epoch}/{num_epochs-1}]\\t\\tTrain loss: {train_loss:.6f} - Val loss: {val_loss:.6f}\")\n",
        "\n",
        "    # EarlyStopping\n",
        "    early_stopper(epoch, model, val_loss)\n",
        "    if early_stopper.early_stop:\n",
        "        break\n",
        "    # Adjust learning rate\n",
        "    lr_scheduler.step(val_loss)"
      ]
    },
    {
      "cell_type": "markdown",
      "metadata": {
        "id": "GchlcSETU2oH"
      },
      "source": [
        "### Plot history"
      ]
    },
    {
      "cell_type": "code",
      "execution_count": null,
      "metadata": {
        "colab": {
          "base_uri": "https://localhost:8080/",
          "height": 449
        },
        "id": "sHt90U6CU2oH",
        "outputId": "02cb4965-9417-4cc6-b4ec-7db3d010b19e"
      },
      "outputs": [
        {
          "output_type": "display_data",
          "data": {
            "text/plain": [
              "<Figure size 1300x400 with 1 Axes>"
            ],
            "image/png": "[encoded data removed]"
          },
          "metadata": {}
        }
      ],
      "source": [
        "plt.title(\"DLinear Model\", size=18, y=1.1)\n",
        "plt.plot(all_losses, label=[\"Train loss\", \"Val loss\"])\n",
        "plt.xlabel(\"Epoch\", fontsize=13)\n",
        "plt.ylabel(\"MSE\", fontsize=13)\n",
        "plt.legend(loc=\"upper right\", fontsize=10)\n",
        "plt.show()"
      ]
    },
    {
      "cell_type": "markdown",
      "metadata": {
        "id": "lJvpMmYoU2oI"
      },
      "source": [
        "## EVALUATION"
      ]
    },
    {
      "cell_type": "markdown",
      "metadata": {
        "id": "nUONuteGU2oI"
      },
      "source": [
        "### Load best checkpoint"
      ]
    },
    {
      "cell_type": "code",
      "execution_count": null,
      "metadata": {
        "colab": {
          "base_uri": "https://localhost:8080/"
        },
        "id": "9AMsxJ4iU2oI",
        "outputId": "2e06578b-ad12-4638-85f3-0593c88b5814"
      },
      "outputs": [
        {
          "output_type": "execute_result",
          "data": {
            "text/plain": [
              "<All keys matched successfully>"
            ]
          },
          "metadata": {},
          "execution_count": 34
        }
      ],
      "source": [
        "model.load_state_dict(torch.load(model_save_path))"
      ]
    },
    {
      "cell_type": "markdown",
      "metadata": {
        "id": "SEBYD8UaU2oI"
      },
      "source": [
        "### Predict"
      ]
    },
    {
      "cell_type": "code",
      "execution_count": null,
      "metadata": {
        "id": "Ew-aK_AlU2oJ"
      },
      "outputs": [],
      "source": [
        "def predict(data_loader, model):\n",
        "    output = torch.tensor([])\n",
        "    model.eval()\n",
        "    with torch.no_grad():\n",
        "        for X, _ in data_loader:\n",
        "            y_pred = model(X.to(device))\n",
        "            output = torch.cat((output.to(device), y_pred.to(device)), 0)\n",
        "\n",
        "    return output"
      ]
    },
    {
      "cell_type": "code",
      "execution_count": null,
      "metadata": {
        "id": "s_IibNndU2oJ"
      },
      "outputs": [],
      "source": [
        "y_pred = predict(test_loader, model).cpu().numpy()\n",
        "\n",
        "# Inverse the transformation\n",
        "y_pred_inv = np.expm1(y_pred)\n",
        "y_test_inv = np.expm1(y_test)"
      ]
    },
    {
      "cell_type": "markdown",
      "metadata": {
        "id": "a7a3VeShU2oJ"
      },
      "source": [
        "### Metrics\n"
      ]
    },
    {
      "cell_type": "code",
      "execution_count": null,
      "metadata": {
        "id": "Az1Fcn5QU2oJ"
      },
      "outputs": [],
      "source": [
        "# Hours ahead to predict\n",
        "forecast_length = 12"
      ]
    },
    {
      "cell_type": "code",
      "execution_count": null,
      "metadata": {
        "colab": {
          "base_uri": "https://localhost:8080/"
        },
        "id": "blU9tD_bU2oJ",
        "outputId": "d4d8f716-31d0-4fa9-b0c3-7a3a5616e7fa"
      },
      "outputs": [
        {
          "output_type": "stream",
          "name": "stdout",
          "text": [
            "12-hour forecast MAPE : 0.1400\n",
            "12-hour forecast RMSE: 23.3584\n",
            "12-hour forecast NSE: 0.6314\n"
          ]
        }
      ],
      "source": [
        "truth = y_test_inv[:, forecast_length-1, -1]\n",
        "forecast = y_pred_inv[:, forecast_length-1, -1]\n",
        "\n",
        "diff = np.subtract(truth, forecast)\n",
        "# MAPE\n",
        "mape = np.mean(np.abs(diff / truth))\n",
        "# RMSE\n",
        "mse = np.mean(np.square(diff))\n",
        "rmse = np.sqrt(mse)\n",
        "# NSE\n",
        "num = np.sum(np.square(diff))\n",
        "den = np.sum(np.square(np.subtract(truth, truth.mean())))\n",
        "nse = 1 - (num / den)\n",
        "\n",
        "print(f\"{forecast_length}-hour forecast MAPE : {mape:.4f}\")\n",
        "print(f\"{forecast_length}-hour forecast RMSE: {rmse:.4f}\")\n",
        "print(f\"{forecast_length}-hour forecast NSE: {nse:.4f}\")"
      ]
    },
    {
      "cell_type": "markdown",
      "metadata": {
        "id": "fKDNBnniU2oK"
      },
      "source": [
        "### Visualize forecasts"
      ]
    },
    {
      "cell_type": "code",
      "execution_count": null,
      "metadata": {
        "colab": {
          "base_uri": "https://localhost:8080/",
          "height": 465
        },
        "id": "izA1q3esU2oK",
        "outputId": "090f1ca1-6792-4f86-da93-4f9af6fd6d14"
      },
      "outputs": [
        {
          "output_type": "display_data",
          "data": {
            "text/plain": [
              "<Figure size 1300x400 with 1 Axes>"
            ],
            "image/png": "[encoded data removed]"
          },
          "metadata": {}
        }
      ],
      "source": [
        "plt.title(f\"{forecast_length}-Hour Ahead Forecasting\\nMAPE: {mape:.3f} - RMSE: {rmse:.3f} - NSE: {nse:.3f}\", size=16, y=1.1)\n",
        "plt.plot(truth, label=\"Ground Truth\", color=\"teal\")\n",
        "plt.plot(forecast, label=\"Prediction\", color=\"darkred\")\n",
        "plt.xlabel(\"Observation\")\n",
        "plt.legend(fontsize=10)\n",
        "plt.show()"
      ]
    }
  ],
  "metadata": {
    "kernelspec": {
      "display_name": "Python 3",
      "name": "python3"
    },
    "language_info": {
      "codemirror_mode": {
        "name": "ipython",
        "version": 3
      },
      "file_extension": ".py",
      "mimetype": "text/x-python",
      "name": "python",
      "nbconvert_exporter": "python",
      "pygments_lexer": "ipython3",
      "version": "3.10.11"
    },
    "orig_nbformat": 4,
    "colab": {
      "provenance": [],
      "gpuType": "T4",
      "include_colab_link": true
    }
  },
  "nbformat": 4,
  "nbformat_minor": 0
}